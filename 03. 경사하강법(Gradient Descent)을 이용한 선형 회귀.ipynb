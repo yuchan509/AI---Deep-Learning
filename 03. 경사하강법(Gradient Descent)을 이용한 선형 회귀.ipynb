{
 "cells": [
  {
   "cell_type": "code",
   "execution_count": 1,
   "metadata": {},
   "outputs": [],
   "source": [
    "import numpy as np\n",
    "import matplotlib.pyplot as plt\n",
    "# 그래프 설정\n",
    "plt.rcParams['font.family'] = 'Malgun Gothic'\n",
    "# plt.rcParams['font.family'] = 'AppleGothic'"
   ]
  },
  {
   "cell_type": "code",
   "execution_count": 2,
   "metadata": {},
   "outputs": [
    {
     "name": "stdout",
     "output_type": "stream",
     "text": [
      "[2, 4, 6, 8]\n",
      "[81, 93, 91, 97]\n"
     ]
    }
   ],
   "source": [
    "# 공부 시간 x와 성적 y의 리스트를 만들기.\n",
    "x = [2, 4, 6, 8]\n",
    "y = [81, 93, 91, 97]\n",
    "print(x)\n",
    "print(y)"
   ]
  },
  {
   "cell_type": "code",
   "execution_count": 3,
   "metadata": {},
   "outputs": [
    {
     "data": {
      "image/png": "[encoded data removed]",
      "text/plain": [
       "<Figure size 576x360 with 1 Axes>"
      ]
     },
     "metadata": {
      "needs_background": "light"
     },
     "output_type": "display_data"
    }
   ],
   "source": [
    "# 산점도 그래프.\n",
    "plt.figure(figsize=(8,5))\n",
    "plt.scatter(x, y, c='m', alpha=0.5)\n",
    "plt.ylabel('성적'); plt.xlabel('학습시간')\n",
    "plt.title('< 학습 시간에 따른 성적 >')\n",
    "plt.grid()\n",
    "plt.show()"
   ]
  },
  {
   "cell_type": "code",
   "execution_count": 4,
   "metadata": {},
   "outputs": [
    {
     "name": "stdout",
     "output_type": "stream",
     "text": [
      "[2 4 6 8]\n",
      "[81 93 91 97]\n"
     ]
    }
   ],
   "source": [
    "# 데이터를 ndarray로 생성.\n",
    "x_data = np.array(x)\n",
    "y_data = np.array(y)\n",
    "print(x_data)\n",
    "print(y_data)"
   ]
  },
  {
   "cell_type": "code",
   "execution_count": 5,
   "metadata": {},
   "outputs": [],
   "source": [
    "# 임의의 기울기(b)와 절편(a)을 설정.\n",
    "a = 0\n",
    "b = 0\n",
    "\n",
    "# 학습률 설정.\n",
    "lr = 0.025\n",
    "\n",
    "# 반복 횟수 설정.\n",
    "epochs = 2000"
   ]
  },
  {
   "cell_type": "code",
   "execution_count": 6,
   "metadata": {},
   "outputs": [
    {
     "name": "stdout",
     "output_type": "stream",
     "text": [
      "epoch : 0, 절편 : 4.525, 기울기 : 23.200000000000003\n",
      "epoch : 100, 절편 : 45.39321145915032, 기울기 : 7.931567860803662\n",
      "epoch : 200, 절편 : 64.1093669190256, 기울기 : 4.7952580810839684\n",
      "epoch : 300, 절편 : 72.40219749701195, 기울기 : 3.4056091385403784\n",
      "epoch : 400, 절편 : 76.07661872858483, 기울기 : 2.7898778112334544\n",
      "epoch : 500, 절편 : 77.70469629028896, 기울기 : 2.5170570607400276\n",
      "epoch : 600, 절편 : 78.42607154366186, 기울기 : 2.3961745287023133\n",
      "epoch : 700, 절편 : 78.7457014362538, 기울기 : 2.3426134028516565\n",
      "epoch : 800, 절편 : 78.88732435409113, 기울기 : 2.3188813205232144\n",
      "epoch : 900, 절편 : 78.95007521476352, 기울기 : 2.3083660125886047\n",
      "epoch : 1000, 절편 : 78.97787912231782, 기울기 : 2.3037068470156354\n",
      "epoch : 1100, 절편 : 78.9901985911985, 기울기 : 2.3016424449104984\n",
      "epoch : 1200, 절편 : 78.99565715176975, 기울기 : 2.300727741196935\n",
      "epoch : 1300, 절편 : 78.9980757530746, 기울기 : 2.3003224505408526\n",
      "epoch : 1400, 절편 : 78.9991473968157, 기울기 : 2.300142872702189\n",
      "epoch : 1500, 절편 : 78.99962222509996, 기울기 : 2.3000633046202306\n",
      "epoch : 1600, 절편 : 78.99983261395487, 기울기 : 2.300028049269598\n",
      "epoch : 1700, 절편 : 78.99992583390771, 기울기 : 2.3000124281848944\n",
      "epoch : 1800, 절편 : 78.99996713818501, 기울기 : 2.3000055067309066\n",
      "epoch : 1900, 절편 : 78.99998543945289, 기울기 : 2.3000024399448087\n"
     ]
    }
   ],
   "source": [
    "# 경사하강법.\n",
    "# epochs 수 만큼 반복.\n",
    "for i in range(epochs) :\n",
    "    \n",
    "    # 현재의 기울기와 절편을 이용해 값을 예측.\n",
    "    y_pred = a + b * x_data \n",
    "    # print(y_pred)\n",
    "    \n",
    "    # 오차 계산.\n",
    "    error = y_data - y_pred\n",
    "    # print(error)\n",
    "    \n",
    "    # 오차 함수를 기울기(b)로 미분한 값.\n",
    "    b_diff = -(2 / len(x_data)) * sum(x_data * error)\n",
    "    # 오차 함수를 절편(a)로 미분한 값\n",
    "    a_diff = -(2 / len(x_data)) * sum(error)\n",
    "    # print(b_diff)\n",
    "    # print(a_diff)\n",
    "\n",
    "    # 학습률을 곱해 기존의 a 값을 업데이트.\n",
    "    b = b - lr * b_diff\n",
    "    a = a - lr * a_diff\n",
    "    # print(a)\n",
    "    # print(b)\n",
    "    \n",
    "    # 100 회 마다 기울기와 절편을 출력.\n",
    "    if i % 100 == 0:\n",
    "        print(f'epoch : {i}, 절편 : {a}, 기울기 : {b}')"
   ]
  },
  {
   "cell_type": "code",
   "execution_count": 7,
   "metadata": {},
   "outputs": [],
   "source": [
    "# 발견한 기울기와 절편을 통해 예측 결과 추출.\n",
    "y_pred = a + b * x_data "
   ]
  },
  {
   "cell_type": "code",
   "execution_count": 8,
   "metadata": {},
   "outputs": [
    {
     "data": {
      "image/png": "[encoded data removed]",
      "text/plain": [
       "<Figure size 576x360 with 1 Axes>"
      ]
     },
     "metadata": {
      "needs_background": "light"
     },
     "output_type": "display_data"
    }
   ],
   "source": [
    "plt.figure(figsize=(8,5))\n",
    "# 실제값.\n",
    "plt.scatter(x, y, alpha=0.5, c='r')\n",
    "\n",
    "# 예측값.\n",
    "plt.scatter(x, y_pred, alpha=0.5, c='b')\n",
    "\n",
    "# 예측 회귀선.\n",
    "plt.plot([min(x_data), max(x_data)], [min(y_pred), max(y_pred)])\n",
    "plt.title('< 학습 시간에 따른 성적 >')\n",
    "plt.ylabel('성적'); plt.xlabel('학습시간')\n",
    "plt.grid()\n",
    "plt.show()"
   ]
  }
 ],
 "metadata": {
  "kernelspec": {
   "display_name": "Python 3",
   "language": "python",
   "name": "python3"
  },
  "language_info": {
   "codemirror_mode": {
    "name": "ipython",
    "version": 3
   },
   "file_extension": ".py",
   "mimetype": "text/x-python",
   "name": "python",
   "nbconvert_exporter": "python",
   "pygments_lexer": "ipython3",
   "version": "3.7.6"
  }
 },
 "nbformat": 4,
 "nbformat_minor": 4
}
