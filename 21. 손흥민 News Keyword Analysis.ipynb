{
 "cells": [
  {
   "cell_type": "code",
   "execution_count": 1,
   "metadata": {},
   "outputs": [
    {
     "name": "stdout",
     "output_type": "stream",
     "text": [
      "pygame 2.0.1 (SDL 2.0.14, Python 3.7.6)\n",
      "Hello from the pygame community. https://www.pygame.org/contribute.html\n"
     ]
    }
   ],
   "source": [
    "import pandas as pd\n",
    "from konlpy.tag import Hannanum, Okt\n",
    "from collections import Counter\n",
    "import pytagcloud, re\n",
    "from IPython.display import Image"
   ]
  },
  {
   "cell_type": "markdown",
   "metadata": {},
   "source": [
    "#### 손흥민 뉴스 키워드를 수집한 데이터 읽기"
   ]
  },
  {
   "cell_type": "code",
   "execution_count": 2,
   "metadata": {},
   "outputs": [
    {
     "data": {
      "text/html": [
       "<div>\n",
       "<style scoped>\n",
       "    .dataframe tbody tr th:only-of-type {\n",
       "        vertical-align: middle;\n",
       "    }\n",
       "\n",
       "    .dataframe tbody tr th {\n",
       "        vertical-align: top;\n",
       "    }\n",
       "\n",
       "    .dataframe thead th {\n",
       "        text-align: right;\n",
       "    }\n",
       "</style>\n",
       "<table border=\"1\" class=\"dataframe\">\n",
       "  <thead>\n",
       "    <tr style=\"text-align: right;\">\n",
       "      <th></th>\n",
       "      <th>title</th>\n",
       "      <th>description</th>\n",
       "    </tr>\n",
       "  </thead>\n",
       "  <tbody>\n",
       "    <tr>\n",
       "      <th>0</th>\n",
       "      <td>'햄스트링 부상' &lt;b&gt;손흥민&lt;/b&gt; 한일전 출격 여부 &amp;quot;주말 결정될 듯&amp;...</td>\n",
       "      <td>축구협회 &amp;quot;토트넘, 몸상태 면밀 체크 중&amp;quot;…그라운드 복귀 시점 '...</td>\n",
       "    </tr>\n",
       "    <tr>\n",
       "      <th>1</th>\n",
       "      <td>다친 &lt;b&gt;손흥민&lt;/b&gt;에 “XX 같은 XX”… BJ 감스트 결국 사과</td>\n",
       "      <td>인기 축구 유튜버 겸 아프리카TV 감스트(본명 김인직·31)가 &lt;b&gt;손흥민&lt;/b&gt;이...</td>\n",
       "    </tr>\n",
       "    <tr>\n",
       "      <th>2</th>\n",
       "      <td>&lt;b&gt;손흥민&lt;/b&gt; 한일전 차출, 소탐대실 될라</td>\n",
       "      <td>파울루 벤투 축구국가대표팀 감독이 25일 일본에서 열리는 한일전에 &lt;b&gt;손흥민&lt;/b...</td>\n",
       "    </tr>\n",
       "    <tr>\n",
       "      <th>3</th>\n",
       "      <td>'햄스트링 부상' &lt;b&gt;손흥민&lt;/b&gt; 한일전 출격 여부 &amp;quot;주말 결정될 듯&amp;...</td>\n",
       "      <td>축구대표팀 주장 &lt;b&gt;손흥민&lt;/b&gt;의 한일전 출격 여부가 오는 주말에야 결정될 전망...</td>\n",
       "    </tr>\n",
       "    <tr>\n",
       "      <th>4</th>\n",
       "      <td>큰 부상 피한 &lt;b&gt;손흥민&lt;/b&gt;, 한일전 출전 여부 이르면 내일 결론</td>\n",
       "      <td>쓰러진 &lt;b&gt;손흥민&lt;/b&gt;(29·토트넘)의 부상이 우려한 것보다 심하지 않은 것 같...</td>\n",
       "    </tr>\n",
       "    <tr>\n",
       "      <th>5</th>\n",
       "      <td>감스트, 부상 &lt;b&gt;손흥민&lt;/b&gt;에 “XX 같은 XX” 욕설…논란일자 사과</td>\n",
       "      <td>당한 &lt;b&gt;손흥민&lt;/b&gt;을 향해 욕설을 쏟아내 논란이 일자 사과했다. 감스트는 16...</td>\n",
       "    </tr>\n",
       "    <tr>\n",
       "      <th>6</th>\n",
       "      <td>축구협회 &amp;quot;&lt;b&gt;손흥민&lt;/b&gt; 한일전 합류 여부 19~20일께 결정&amp;quot;</td>\n",
       "      <td>&lt;b&gt;손흥민&lt;/b&gt;(29·토트넘)의 한일전 합류 여부가 오는 주말 결정될 것으로 보...</td>\n",
       "    </tr>\n",
       "    <tr>\n",
       "      <th>7</th>\n",
       "      <td>“&lt;b&gt;손흥민&lt;/b&gt; 부상 심각하지 않아”…협회 &amp;amp; 토트넘, 주말 이전 한일...</td>\n",
       "      <td>10년 만에 열릴 친선 한일전에 나설 축구국가대표팀 명단에 이름을 올린 &lt;b&gt;손흥민...</td>\n",
       "    </tr>\n",
       "    <tr>\n",
       "      <th>8</th>\n",
       "      <td>감스트, 부상당한 &lt;b&gt;손흥민&lt;/b&gt;에 욕설했다 사과 &amp;quot;선수께 죄송&amp;quot;</td>\n",
       "      <td>부상당한 &lt;b&gt;손흥민&lt;/b&gt;(토트넘)을 향해 욕설했다 사과했다. 지난 16일 감스트...</td>\n",
       "    </tr>\n",
       "    <tr>\n",
       "      <th>9</th>\n",
       "      <td>&amp;quot;부상 심각하지 않다&amp;quot; 英 매체 &amp;quot;&lt;b&gt;손흥민&lt;/b&gt; 이...</td>\n",
       "      <td>&lt;b&gt;손흥민&lt;/b&gt;(29, 토트넘 핫스퍼)의 부상이 심각하지 않은 것으로 알려졌다....</td>\n",
       "    </tr>\n",
       "  </tbody>\n",
       "</table>\n",
       "</div>"
      ],
      "text/plain": [
       "                                               title  \\\n",
       "0  '햄스트링 부상' <b>손흥민</b> 한일전 출격 여부 &quot;주말 결정될 듯&...   \n",
       "1            다친 <b>손흥민</b>에 “XX 같은 XX”… BJ 감스트 결국 사과   \n",
       "2                         <b>손흥민</b> 한일전 차출, 소탐대실 될라   \n",
       "3  '햄스트링 부상' <b>손흥민</b> 한일전 출격 여부 &quot;주말 결정될 듯&...   \n",
       "4            큰 부상 피한 <b>손흥민</b>, 한일전 출전 여부 이르면 내일 결론   \n",
       "5          감스트, 부상 <b>손흥민</b>에 “XX 같은 XX” 욕설…논란일자 사과   \n",
       "6   축구협회 &quot;<b>손흥민</b> 한일전 합류 여부 19~20일께 결정&quot;   \n",
       "7  “<b>손흥민</b> 부상 심각하지 않아”…협회 &amp; 토트넘, 주말 이전 한일...   \n",
       "8   감스트, 부상당한 <b>손흥민</b>에 욕설했다 사과 &quot;선수께 죄송&quot;   \n",
       "9  &quot;부상 심각하지 않다&quot; 英 매체 &quot;<b>손흥민</b> 이...   \n",
       "\n",
       "                                         description  \n",
       "0  축구협회 &quot;토트넘, 몸상태 면밀 체크 중&quot;…그라운드 복귀 시점 '...  \n",
       "1  인기 축구 유튜버 겸 아프리카TV 감스트(본명 김인직·31)가 <b>손흥민</b>이...  \n",
       "2  파울루 벤투 축구국가대표팀 감독이 25일 일본에서 열리는 한일전에 <b>손흥민</b...  \n",
       "3  축구대표팀 주장 <b>손흥민</b>의 한일전 출격 여부가 오는 주말에야 결정될 전망...  \n",
       "4  쓰러진 <b>손흥민</b>(29·토트넘)의 부상이 우려한 것보다 심하지 않은 것 같...  \n",
       "5  당한 <b>손흥민</b>을 향해 욕설을 쏟아내 논란이 일자 사과했다. 감스트는 16...  \n",
       "6  <b>손흥민</b>(29·토트넘)의 한일전 합류 여부가 오는 주말 결정될 것으로 보...  \n",
       "7  10년 만에 열릴 친선 한일전에 나설 축구국가대표팀 명단에 이름을 올린 <b>손흥민...  \n",
       "8  부상당한 <b>손흥민</b>(토트넘)을 향해 욕설했다 사과했다. 지난 16일 감스트...  \n",
       "9  <b>손흥민</b>(29, 토트넘 핫스퍼)의 부상이 심각하지 않은 것으로 알려졌다....  "
      ]
     },
     "execution_count": 2,
     "metadata": {},
     "output_type": "execute_result"
    }
   ],
   "source": [
    "df = pd.read_csv('son.csv')\n",
    "df.head(10)"
   ]
  },
  {
   "cell_type": "code",
   "execution_count": 3,
   "metadata": {},
   "outputs": [
    {
     "data": {
      "text/plain": [
       "title          0\n",
       "description    1\n",
       "dtype: int64"
      ]
     },
     "execution_count": 3,
     "metadata": {},
     "output_type": "execute_result"
    }
   ],
   "source": [
    "# 결측치 확인.\n",
    "df.isna().sum()"
   ]
  },
  {
   "cell_type": "code",
   "execution_count": 4,
   "metadata": {},
   "outputs": [
    {
     "data": {
      "text/plain": [
       "title          0\n",
       "description    0\n",
       "dtype: int64"
      ]
     },
     "execution_count": 4,
     "metadata": {},
     "output_type": "execute_result"
    }
   ],
   "source": [
    "# 결측치 제거.\n",
    "df.dropna(inplace=True)\n",
    "df.isna().sum()"
   ]
  },
  {
   "cell_type": "markdown",
   "metadata": {},
   "source": [
    "#### 한글 정제"
   ]
  },
  {
   "cell_type": "code",
   "execution_count": 5,
   "metadata": {},
   "outputs": [],
   "source": [
    "# text 정제 함수 : 한글 이외의 문자는 전부 제거.\n",
    "def text_cleaning(text) :\n",
    "    \n",
    "    # 한글 정규식 정의(띄어쓰기, ㄱ ~ ㅣ, 가 ~ 힣)\n",
    "    hangul = re.compile('[^ ㄱ-ㅣ가-힣]+')\n",
    "    \n",
    "    # 정제.(정규식에 해당하지 않는 글자는 길이가 0은 문자열로 변환.)\n",
    "    result = hangul.sub('', text)\n",
    "    return result"
   ]
  },
  {
   "cell_type": "code",
   "execution_count": 6,
   "metadata": {},
   "outputs": [
    {
     "name": "stdout",
     "output_type": "stream",
     "text": [
      "축구협회 &quot;토트넘, 몸상태 면밀 체크 중&quot;…그라운드 복귀 시점 '안갯속' <b>손흥민</b>(29·토트넘)의 한일전 출격 여부가 오는 주말에야 결정될 전망이다. 17일 대한축구협회(KFA)에 따르면 토트넘은 현재 <b>손흥민</b>의 부상 부위 등 몸... \n",
      "---------------------------------------------------------------------------------------------------------------------------------------\n",
      "축구협회 토트넘 몸상태 면밀 체크 중그라운드 복귀 시점 안갯속 손흥민토트넘의 한일전 출격 여부가 오는 주말에야 결정될 전망이다 일 대한축구협회에 따르면 토트넘은 현재 손흥민의 부상 부위 등 몸 \n"
     ]
    }
   ],
   "source": [
    "# Test.\n",
    "test = df['description'][0]\n",
    "print(test)\n",
    "print('-'*135)\n",
    "print(text_cleaning(test))"
   ]
  },
  {
   "cell_type": "code",
   "execution_count": 7,
   "metadata": {},
   "outputs": [
    {
     "data": {
      "text/html": [
       "<div>\n",
       "<style scoped>\n",
       "    .dataframe tbody tr th:only-of-type {\n",
       "        vertical-align: middle;\n",
       "    }\n",
       "\n",
       "    .dataframe tbody tr th {\n",
       "        vertical-align: top;\n",
       "    }\n",
       "\n",
       "    .dataframe thead th {\n",
       "        text-align: right;\n",
       "    }\n",
       "</style>\n",
       "<table border=\"1\" class=\"dataframe\">\n",
       "  <thead>\n",
       "    <tr style=\"text-align: right;\">\n",
       "      <th></th>\n",
       "      <th>title</th>\n",
       "      <th>description</th>\n",
       "    </tr>\n",
       "  </thead>\n",
       "  <tbody>\n",
       "    <tr>\n",
       "      <th>0</th>\n",
       "      <td>햄스트링 부상 손흥민 한일전 출격 여부 주말 결정될 듯</td>\n",
       "      <td>축구협회 토트넘 몸상태 면밀 체크 중그라운드 복귀 시점 안갯속 손흥민토트넘의 한일전...</td>\n",
       "    </tr>\n",
       "    <tr>\n",
       "      <th>1</th>\n",
       "      <td>다친 손흥민에  같은   감스트 결국 사과</td>\n",
       "      <td>인기 축구 유튜버 겸 아프리카 감스트본명 김인직가 손흥민이 뛰는 토트넘과 아스널의 ...</td>\n",
       "    </tr>\n",
       "    <tr>\n",
       "      <th>2</th>\n",
       "      <td>손흥민 한일전 차출 소탐대실 될라</td>\n",
       "      <td>파울루 벤투 축구국가대표팀 감독이 일 일본에서 열리는 한일전에 손흥민토트넘을 차출한...</td>\n",
       "    </tr>\n",
       "    <tr>\n",
       "      <th>3</th>\n",
       "      <td>햄스트링 부상 손흥민 한일전 출격 여부 주말 결정될 듯</td>\n",
       "      <td>축구대표팀 주장 손흥민의 한일전 출격 여부가 오는 주말에야 결정될 전망입니다 대한축...</td>\n",
       "    </tr>\n",
       "    <tr>\n",
       "      <th>4</th>\n",
       "      <td>큰 부상 피한 손흥민 한일전 출전 여부 이르면 내일 결론</td>\n",
       "      <td>쓰러진 손흥민토트넘의 부상이 우려한 것보다 심하지 않은 것 같다는 현지 보도가 나왔...</td>\n",
       "    </tr>\n",
       "    <tr>\n",
       "      <th>5</th>\n",
       "      <td>감스트 부상 손흥민에  같은  욕설논란일자 사과</td>\n",
       "      <td>당한 손흥민을 향해 욕설을 쏟아내 논란이 일자 사과했다 감스트는 일 유튜브에 죄송합...</td>\n",
       "    </tr>\n",
       "    <tr>\n",
       "      <th>6</th>\n",
       "      <td>축구협회 손흥민 한일전 합류 여부 일께 결정</td>\n",
       "      <td>손흥민토트넘의 한일전 합류 여부가 오는 주말 결정될 것으로 보인다 대한축구협회 관계...</td>\n",
       "    </tr>\n",
       "    <tr>\n",
       "      <th>7</th>\n",
       "      <td>손흥민 부상 심각하지 않아협회  토트넘 주말 이전 한일전 차출 결론</td>\n",
       "      <td>년 만에 열릴 친선 한일전에 나설 축구국가대표팀 명단에 이름을 올린 손흥민토트넘의 ...</td>\n",
       "    </tr>\n",
       "    <tr>\n",
       "      <th>8</th>\n",
       "      <td>감스트 부상당한 손흥민에 욕설했다 사과 선수께 죄송</td>\n",
       "      <td>부상당한 손흥민토트넘을 향해 욕설했다 사과했다 지난 일 감스트는 자신의 유튜브 채널...</td>\n",
       "    </tr>\n",
       "    <tr>\n",
       "      <th>9</th>\n",
       "      <td>부상 심각하지 않다  매체 손흥민 이르면 일 복귀</td>\n",
       "      <td>손흥민 토트넘 핫스퍼의 부상이 심각하지 않은 것으로 알려졌다 영국 풋볼런던은 일한국...</td>\n",
       "    </tr>\n",
       "  </tbody>\n",
       "</table>\n",
       "</div>"
      ],
      "text/plain": [
       "                                   title  \\\n",
       "0         햄스트링 부상 손흥민 한일전 출격 여부 주말 결정될 듯   \n",
       "1                다친 손흥민에  같은   감스트 결국 사과   \n",
       "2                     손흥민 한일전 차출 소탐대실 될라   \n",
       "3         햄스트링 부상 손흥민 한일전 출격 여부 주말 결정될 듯   \n",
       "4        큰 부상 피한 손흥민 한일전 출전 여부 이르면 내일 결론   \n",
       "5             감스트 부상 손흥민에  같은  욕설논란일자 사과   \n",
       "6               축구협회 손흥민 한일전 합류 여부 일께 결정   \n",
       "7  손흥민 부상 심각하지 않아협회  토트넘 주말 이전 한일전 차출 결론   \n",
       "8           감스트 부상당한 손흥민에 욕설했다 사과 선수께 죄송   \n",
       "9            부상 심각하지 않다  매체 손흥민 이르면 일 복귀   \n",
       "\n",
       "                                         description  \n",
       "0  축구협회 토트넘 몸상태 면밀 체크 중그라운드 복귀 시점 안갯속 손흥민토트넘의 한일전...  \n",
       "1  인기 축구 유튜버 겸 아프리카 감스트본명 김인직가 손흥민이 뛰는 토트넘과 아스널의 ...  \n",
       "2  파울루 벤투 축구국가대표팀 감독이 일 일본에서 열리는 한일전에 손흥민토트넘을 차출한...  \n",
       "3  축구대표팀 주장 손흥민의 한일전 출격 여부가 오는 주말에야 결정될 전망입니다 대한축...  \n",
       "4  쓰러진 손흥민토트넘의 부상이 우려한 것보다 심하지 않은 것 같다는 현지 보도가 나왔...  \n",
       "5  당한 손흥민을 향해 욕설을 쏟아내 논란이 일자 사과했다 감스트는 일 유튜브에 죄송합...  \n",
       "6  손흥민토트넘의 한일전 합류 여부가 오는 주말 결정될 것으로 보인다 대한축구협회 관계...  \n",
       "7  년 만에 열릴 친선 한일전에 나설 축구국가대표팀 명단에 이름을 올린 손흥민토트넘의 ...  \n",
       "8  부상당한 손흥민토트넘을 향해 욕설했다 사과했다 지난 일 감스트는 자신의 유튜브 채널...  \n",
       "9  손흥민 토트넘 핫스퍼의 부상이 심각하지 않은 것으로 알려졌다 영국 풋볼런던은 일한국...  "
      ]
     },
     "execution_count": 7,
     "metadata": {},
     "output_type": "execute_result"
    }
   ],
   "source": [
    "# 한글 정제.\n",
    "df['title']       = df['title'].apply(lambda x : text_cleaning(x))\n",
    "df['description'] = df['description'].apply(lambda x : text_cleaning(x))\n",
    "df.head(10)"
   ]
  },
  {
   "cell_type": "markdown",
   "metadata": {},
   "source": [
    "#### 형태소 분석"
   ]
  },
  {
   "cell_type": "code",
   "execution_count": 8,
   "metadata": {},
   "outputs": [],
   "source": [
    "# 말뭉치 생성.(모든 문장을 하나로 합치는 작업.)\n",
    "title_corpus       = ''.join(df['title'].tolist())\n",
    "description_corpus = ''.join(df['description'].tolist())\n",
    "# print(title_corpus)\n",
    "# print(description_corpus)"
   ]
  },
  {
   "cell_type": "code",
   "execution_count": 9,
   "metadata": {},
   "outputs": [],
   "source": [
    "# 형태소 분석.\n",
    "tagger = Okt()\n",
    "title_nouns = tagger.nouns(title_corpus)\n",
    "description_nouns = tagger.nouns(description_corpus)\n",
    "\n",
    "# print(title_nouns)\n",
    "# print(description_nouns)"
   ]
  },
  {
   "cell_type": "code",
   "execution_count": 10,
   "metadata": {},
   "outputs": [],
   "source": [
    "# 단어들의 빈도수 계산.\n",
    "title_count = Counter(title_nouns)\n",
    "description_count = Counter(description_nouns)\n",
    "# print(title_count)\n",
    "# print(description_count)"
   ]
  },
  {
   "cell_type": "markdown",
   "metadata": {},
   "source": [
    "#### 키워드 다듬기\n",
    "- 한글자인 데이터 삭제.\n",
    "- 불용어 데이터 삭제."
   ]
  },
  {
   "cell_type": "code",
   "execution_count": 11,
   "metadata": {},
   "outputs": [],
   "source": [
    "# 불용어 제거 .\n",
    "# 불용어(stopwords) : 분석시 필요하지 않는 단어들을 의미.\n",
    "# 불용어 읽기.\n",
    "with open('data10/korean_stopwords.txt', encoding='utf-8') as fp :\n",
    "    stopwords = fp.readlines()\n",
    "\n",
    "# \\n 제거.\n",
    "stopwords = [x.strip() for x in stopwords]\n",
    "# stopwords"
   ]
  },
  {
   "cell_type": "code",
   "execution_count": 12,
   "metadata": {},
   "outputs": [],
   "source": [
    "# 1글자를 제외한 나머지를 새롭게 담기.\n",
    "title_dict = {}\n",
    "description_dict = {}\n",
    "\n",
    "for key in title_count :\n",
    "    if len(key) > 1 :\n",
    "        title_dict[key] = title_count[key]\n",
    "\n",
    "for key in description_count :\n",
    "    if len(key) > 1 :\n",
    "        description_dict[key] = description_count[key]\n",
    "        \n",
    "remove_title_count = Counter(title_dict)\n",
    "remove_description_count = Counter(description_dict)\n",
    "\n",
    "# 불용어를 제외한 나머지만 담기.\n",
    "title_dict = {}\n",
    "for key in remove_title_count :\n",
    "    if key not in stopwords :\n",
    "        title_dict[key] = remove_title_count[key]\n",
    "        \n",
    "description_dict = {}\n",
    "for key in remove_description_count :\n",
    "    if key not in stopwords :\n",
    "        description_dict[key] = remove_description_count[key]\n",
    "\n",
    "remove_title_count = Counter(title_dict)\n",
    "remove_description_count = Counter(description_dict)\n",
    "\n",
    "# 손흥민에 관한 뉴스이므로 손흥민이라는 키워드 제거.\n",
    "del remove_title_count['손흥민']\n",
    "del remove_description_count['손흥민']"
   ]
  },
  {
   "cell_type": "code",
   "execution_count": 13,
   "metadata": {},
   "outputs": [
    {
     "name": "stdout",
     "output_type": "stream",
     "text": [
      "956\n",
      "1648\n"
     ]
    }
   ],
   "source": [
    "# 최종 제목 내용 개수.\n",
    "print(len(remove_title_count))\n",
    "print(len(remove_description_count))"
   ]
  },
  {
   "cell_type": "markdown",
   "metadata": {},
   "source": [
    "#### Word Cloud 시각화"
   ]
  },
  {
   "cell_type": "code",
   "execution_count": 14,
   "metadata": {},
   "outputs": [],
   "source": [
    "# title에서 빈도수가 많은 100개의 단어를 추출.\n",
    "rank_title_tags = remove_title_count.most_common(100)\n",
    "\n",
    "# Word Cloud를 위한 단어사전을 생성.\n",
    "title_taglist = pytagcloud.make_tags(rank_title_tags)\n",
    "\n",
    "# Word Cloud 이미지를 생성.\n",
    "pytagcloud.create_tag_image(title_taglist, 'son_title.jpg', size=(800, 600), fontname='NanumGothic', rectangular=False)"
   ]
  },
  {
   "cell_type": "code",
   "execution_count": 15,
   "metadata": {},
   "outputs": [],
   "source": [
    "# description에서 빈도수가 많은 100개의 단어를 추출.\n",
    "rank_description_tags = remove_description_count.most_common(100)\n",
    "\n",
    "# Word Cloud를 위한 단어 사전을 생성.\n",
    "description_taglist = pytagcloud.make_tags(rank_description_tags)\n",
    "\n",
    "# Word Cloud 이미지를 생성.\n",
    "pytagcloud.create_tag_image(description_taglist, 'son_description.jpg', size=(800, 600), fontname='NanumGothic', rectangular=False)"
   ]
  },
  {
   "cell_type": "code",
   "execution_count": 16,
   "metadata": {
    "scrolled": true
   },
   "outputs": [
    {
     "data": {
      "image/jpeg": "[encoded data removed]",
      "text/plain": [
       "<IPython.core.display.Image object>"
      ]
     },
     "execution_count": 16,
     "metadata": {},
     "output_type": "execute_result"
    }
   ],
   "source": [
    "Image(filename='son_title.jpg')"
   ]
  },
  {
   "cell_type": "code",
   "execution_count": 17,
   "metadata": {},
   "outputs": [
    {
     "data": {
      "image/jpeg": "[encoded data removed]",
      "text/plain": [
       "<IPython.core.display.Image object>"
      ]
     },
     "execution_count": 17,
     "metadata": {},
     "output_type": "execute_result"
    }
   ],
   "source": [
    "Image(filename='son_description.jpg')"
   ]
  }
 ],
 "metadata": {
  "kernelspec": {
   "display_name": "Python 3",
   "language": "python",
   "name": "python3"
  },
  "language_info": {
   "codemirror_mode": {
    "name": "ipython",
    "version": 3
   },
   "file_extension": ".py",
   "mimetype": "text/x-python",
   "name": "python",
   "nbconvert_exporter": "python",
   "pygments_lexer": "ipython3",
   "version": "3.7.6"
  }
 },
 "nbformat": 4,
 "nbformat_minor": 4
}
