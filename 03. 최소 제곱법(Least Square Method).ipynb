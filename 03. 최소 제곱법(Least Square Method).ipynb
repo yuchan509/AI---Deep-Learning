{
 "cells": [
  {
   "cell_type": "code",
   "execution_count": 1,
   "metadata": {},
   "outputs": [],
   "source": [
    "import numpy as np"
   ]
  },
  {
   "cell_type": "code",
   "execution_count": 2,
   "metadata": {},
   "outputs": [],
   "source": [
    "# 학습할 데이터.\n",
    "공부한시간 = [2, 4, 6, 8]\n",
    "성적 = [81, 93, 91, 97]"
   ]
  },
  {
   "cell_type": "markdown",
   "metadata": {},
   "source": [
    "#### 최소 제곱법(Least Square Method)을 통한 절편과 회귀계수 도출"
   ]
  },
  {
   "cell_type": "markdown",
   "metadata": {},
   "source": [
    "$$\n",
    "\\therefore {\\alpha} = \\bar{y} - {b_1\\bar{x}}\n",
    "$$\n",
    "\n",
    "$$\n",
    "\\therefore {\\beta} = { \\sum (x_i - \\bar{x} ) (y_i - \\bar{y}) \\over \\sum (x_i - \\bar{x} )^2 }\n",
    "$$"
   ]
  },
  {
   "cell_type": "code",
   "execution_count": 3,
   "metadata": {},
   "outputs": [],
   "source": [
    "# x와 y의 평균을 구하는 함수.\n",
    "def getMean(x, y) :\n",
    "    a = np.mean(x)\n",
    "    b = np.mean(y)\n",
    "    return a, b"
   ]
  },
  {
   "cell_type": "code",
   "execution_count": 4,
   "metadata": {},
   "outputs": [],
   "source": [
    "# 분자를 구하는 함수.\n",
    "def getDividend(x, y, x_mean, y_mean) :\n",
    "    Sxy = 0\n",
    "    for idx in range(len(x)) :\n",
    "        a = (x[idx] - x_mean) * (y[idx] - y_mean)\n",
    "        Sxy += a\n",
    "    return Sxy"
   ]
  },
  {
   "cell_type": "code",
   "execution_count": 5,
   "metadata": {},
   "outputs": [],
   "source": [
    "# 분모를 구하는 함수.\n",
    "def getDevider(x, x_mean) :\n",
    "    a = [(i - x_mean) ** 2 for i in x]\n",
    "    return sum(a)"
   ]
  },
  {
   "cell_type": "code",
   "execution_count": 6,
   "metadata": {},
   "outputs": [],
   "source": [
    "# 기울기와 절편을 구하는 함수.\n",
    "def getAB(분자, 분모, x_mean, y_mean) :\n",
    "    b = 분자 / 분모\n",
    "    a = y_mean - (b * x_mean)\n",
    "    return b, a"
   ]
  },
  {
   "cell_type": "code",
   "execution_count": 7,
   "metadata": {},
   "outputs": [
    {
     "name": "stdout",
     "output_type": "stream",
     "text": [
      "2.3\n",
      "79.0\n"
     ]
    }
   ],
   "source": [
    "공부시간평균, 성적평균 = getMean(공부한시간, 성적)\n",
    "# print(공부시간평균)\n",
    "# print(성적평균)\n",
    "\n",
    "# 분자를 구함.\n",
    "분자 = getDividend(공부한시간, 성적, 공부시간평균, 성적평균)\n",
    "# print(분자)\n",
    "\n",
    "# 분모를 구함.\n",
    "분모 = getDevider(공부한시간, 공부시간평균)\n",
    "# print(분모)\n",
    "\n",
    "# 기울기와 절편을 구함.\n",
    "기울기, 절편 = getAB(분자, 분모, 공부시간평균, 성적평균)\n",
    "print(기울기)\n",
    "print(절편)"
   ]
  },
  {
   "cell_type": "code",
   "execution_count": 8,
   "metadata": {},
   "outputs": [
    {
     "name": "stdout",
     "output_type": "stream",
     "text": [
      "83.6\n",
      "88.2\n",
      "92.8\n",
      "97.4\n"
     ]
    }
   ],
   "source": [
    "for v in 공부한시간 :\n",
    "    예측성적 = (기울기 * v) + 절편\n",
    "    print(예측성적)"
   ]
  },
  {
   "cell_type": "code",
   "execution_count": 9,
   "metadata": {},
   "outputs": [
    {
     "data": {
      "text/plain": [
       "[81, 93, 91, 97]"
      ]
     },
     "execution_count": 9,
     "metadata": {},
     "output_type": "execute_result"
    }
   ],
   "source": [
    "성적"
   ]
  },
  {
   "cell_type": "code",
   "execution_count": 10,
   "metadata": {},
   "outputs": [
    {
     "data": {
      "text/plain": [
       "102.0"
      ]
     },
     "execution_count": 10,
     "metadata": {},
     "output_type": "execute_result"
    }
   ],
   "source": [
    "예측성적 = 기울기 * 10 + 절편\n",
    "예측성적"
   ]
  }
 ],
 "metadata": {
  "kernelspec": {
   "display_name": "Python 3",
   "language": "python",
   "name": "python3"
  },
  "language_info": {
   "codemirror_mode": {
    "name": "ipython",
    "version": 3
   },
   "file_extension": ".py",
   "mimetype": "text/x-python",
   "name": "python",
   "nbconvert_exporter": "python",
   "pygments_lexer": "ipython3",
   "version": "3.7.6"
  }
 },
 "nbformat": 4,
 "nbformat_minor": 4
}
