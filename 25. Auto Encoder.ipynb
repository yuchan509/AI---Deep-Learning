{
 "cells": [
  {
   "cell_type": "code",
   "execution_count": 1,
   "metadata": {},
   "outputs": [],
   "source": [
    "import numpy as np\n",
    "import pandas as pd\n",
    "import matplotlib.pyplot as plt\n",
    "# 그래프 설정\n",
    "plt.rcParams['font.family'] = 'Malgun Gothic'\n",
    "# plt.rcParams['font.family'] = 'AppleGothic'\n",
    "plt.rcParams['font.size'] = 16\n",
    "plt.rcParams['figure.figsize'] = 20, 10\n",
    "plt.rcParams['axes.unicode_minus'] = False\n",
    "\n",
    "import tensorflow as tf\n",
    "from keras.models import Sequential, load_model, Model\n",
    "from keras.layers import Dense, Dropout, Flatten, Conv2D, MaxPooling2D, Embedding, LSTM, Activation, Conv1D, MaxPooling1D\n",
    "from keras.datasets import mnist\n",
    "from keras.utils import np_utils, to_categorical\n",
    "from keras.callbacks import ModelCheckpoint, EarlyStopping\n",
    "from keras.layers import LeakyReLU, BatchNormalization, Reshape, Input, UpSampling2D\n",
    "from keras.preprocessing.text import Tokenizer, text_to_word_sequence\n",
    "from keras_preprocessing.sequence import pad_sequences\n",
    "\n",
    "from sklearn.metrics import accuracy_score\n",
    "from sklearn.linear_model import LogisticRegression\n",
    "from sklearn.model_selection import train_test_split\n",
    "\n",
    "from keras.preprocessing.image import ImageDataGenerator\n",
    "# GPU 사용 초기화 및 할당.\n",
    "gpus = tf.config.experimental.list_physical_devices('GPU')\n",
    "tf.config.experimental.set_memory_growth(gpus[0], True)\n",
    "\n",
    "import warnings\n",
    "warnings.filterwarnings('ignore')"
   ]
  },
  {
   "cell_type": "markdown",
   "metadata": {},
   "source": [
    "* 오토인코더(Auto-Encoder) : 입력층과 출력층이 같은 구조.\n",
    "\n",
    "    * 인코더(encoder) : 인지 네트워크(recognition network)라고도 하며, 입력을 내부 표현으로 변환.\n",
    "    * 디코더(decoder) : 생성 네트워크(generative nework)라고도 하며, 내부 표현을 출력으로 변환.\n",
    "<br>\n",
    "<br>\n",
    "* < 특징 >\n",
    "* 정밀하지는 않지만 학습량이 작을 때 사용하기 좋음.\n",
    "* 글 등과 같은 선명할 필요없는 이미지에 적합.\n",
    "* 적어도 입력값에 대해서는 복원을 잘함.\n",
    "* 오토인코더(Auto-Encoder)는 실제로 입력 데이터의 Feature를 추출할 때 많이 사용.\n",
    "* 주로 차원축소(Dimension Reduction)에 사용.\n",
    "    * Network parameter 초기화, pre-training에 많이 사용."
   ]
  },
  {
   "cell_type": "code",
   "execution_count": 2,
   "metadata": {},
   "outputs": [
    {
     "name": "stdout",
     "output_type": "stream",
     "text": [
      "(60000, 28, 28)\n",
      "(10000, 28, 28)\n"
     ]
    }
   ],
   "source": [
    "# seed 값 설정.\n",
    "np.random.seed(3)\n",
    "tf.random.set_seed(3)\n",
    "\n",
    "# 데이터 불러오기.\n",
    "from keras.datasets import mnist\n",
    "(x_train, _), (x_test,_) = mnist.load_data()\n",
    "print(x_train.shape)\n",
    "print(x_test.shape)\n",
    "\n",
    "# 데이터 표준화.\n",
    "x_train = x_train.reshape(x_train.shape[0], 28, 28, 1).astype('float32') / 255\n",
    "x_test  = x_test.reshape(x_test.shape[0], 28, 28, 1).astype('float32') / 255"
   ]
  },
  {
   "cell_type": "code",
   "execution_count": 6,
   "metadata": {},
   "outputs": [],
   "source": [
    "# 오토인코더는 두 가지 단계( 인코딩 단계와 디코딩 단계)를 거쳐 입력값을 재구성함.\n",
    "# 생성자 모델 생성.\n",
    "AutoEncoder = Sequential()\n",
    "\n",
    "# 인코딩. => 입력값의 차원을 축소. = 데이터 압축을 의미.\n",
    "AutoEncoder.add(Conv2D(16, kernel_size=3, padding='same', input_shape=(28,28,1), activation='relu'))\n",
    "AutoEncoder.add(MaxPooling2D(pool_size=2, padding='same'))\n",
    "\n",
    "AutoEncoder.add(Conv2D(8, kernel_size=3, padding='same', activation='relu'))\n",
    "AutoEncoder.add(MaxPooling2D(pool_size=2, padding='same'))\n",
    "\n",
    "AutoEncoder.add(Conv2D(8, kernel_size=3, padding='same', activation='relu', strides=2))\n",
    "\n",
    "\n",
    "# 디코딩. => 인코딩한 압축 정보를 원본 데이터로 복원.\n",
    "AutoEncoder.add(Conv2D(8, kernel_size=3, padding='same', activation='relu'))\n",
    "AutoEncoder.add(UpSampling2D())\n",
    "\n",
    "AutoEncoder.add(Conv2D(8, kernel_size=3, padding='same', activation='relu'))\n",
    "AutoEncoder.add(UpSampling2D())\n",
    "\n",
    "AutoEncoder.add(Conv2D(16, kernel_size=3, activation='relu'))\n",
    "AutoEncoder.add(UpSampling2D())\n",
    "\n",
    "AutoEncoder.add(Conv2D(1, kernel_size=3, padding='same', activation='sigmoid'))"
   ]
  },
  {
   "cell_type": "code",
   "execution_count": 7,
   "metadata": {},
   "outputs": [
    {
     "name": "stdout",
     "output_type": "stream",
     "text": [
      "Model: \"sequential_1\"\n",
      "_________________________________________________________________\n",
      "Layer (type)                 Output Shape              Param #   \n",
      "=================================================================\n",
      "conv2d_7 (Conv2D)            (None, 28, 28, 16)        160       \n",
      "_________________________________________________________________\n",
      "max_pooling2d_2 (MaxPooling2 (None, 14, 14, 16)        0         \n",
      "_________________________________________________________________\n",
      "conv2d_8 (Conv2D)            (None, 14, 14, 8)         1160      \n",
      "_________________________________________________________________\n",
      "max_pooling2d_3 (MaxPooling2 (None, 7, 7, 8)           0         \n",
      "_________________________________________________________________\n",
      "conv2d_9 (Conv2D)            (None, 4, 4, 8)           584       \n",
      "_________________________________________________________________\n",
      "conv2d_10 (Conv2D)           (None, 4, 4, 8)           584       \n",
      "_________________________________________________________________\n",
      "up_sampling2d_3 (UpSampling2 (None, 8, 8, 8)           0         \n",
      "_________________________________________________________________\n",
      "conv2d_11 (Conv2D)           (None, 8, 8, 8)           584       \n",
      "_________________________________________________________________\n",
      "up_sampling2d_4 (UpSampling2 (None, 16, 16, 8)         0         \n",
      "_________________________________________________________________\n",
      "conv2d_12 (Conv2D)           (None, 14, 14, 16)        1168      \n",
      "_________________________________________________________________\n",
      "up_sampling2d_5 (UpSampling2 (None, 28, 28, 16)        0         \n",
      "_________________________________________________________________\n",
      "conv2d_13 (Conv2D)           (None, 28, 28, 1)         145       \n",
      "=================================================================\n",
      "Total params: 4,385\n",
      "Trainable params: 4,385\n",
      "Non-trainable params: 0\n",
      "_________________________________________________________________\n"
     ]
    }
   ],
   "source": [
    "AutoEncoder.summary()"
   ]
  },
  {
   "cell_type": "code",
   "execution_count": 8,
   "metadata": {},
   "outputs": [
    {
     "name": "stdout",
     "output_type": "stream",
     "text": [
      "Epoch 1/50\n",
      "469/469 [==============================] - 15s 16ms/step - loss: 0.3146 - val_loss: 0.1358\n",
      "Epoch 2/50\n",
      "469/469 [==============================] - 6s 14ms/step - loss: 0.1318 - val_loss: 0.1173\n",
      "Epoch 3/50\n",
      "469/469 [==============================] - 6s 14ms/step - loss: 0.1160 - val_loss: 0.1086\n",
      "Epoch 4/50\n",
      "469/469 [==============================] - 6s 14ms/step - loss: 0.1086 - val_loss: 0.1035\n",
      "Epoch 5/50\n",
      "469/469 [==============================] - 7s 14ms/step - loss: 0.1041 - val_loss: 0.1002\n",
      "Epoch 6/50\n",
      "469/469 [==============================] - 7s 14ms/step - loss: 0.1005 - val_loss: 0.0973\n",
      "Epoch 7/50\n",
      "469/469 [==============================] - 6s 14ms/step - loss: 0.0980 - val_loss: 0.0952\n",
      "Epoch 8/50\n",
      "469/469 [==============================] - 6s 14ms/step - loss: 0.0958 - val_loss: 0.0941\n",
      "Epoch 9/50\n",
      "469/469 [==============================] - 7s 14ms/step - loss: 0.0942 - val_loss: 0.0922\n",
      "Epoch 10/50\n",
      "469/469 [==============================] - 7s 14ms/step - loss: 0.0931 - val_loss: 0.0907\n",
      "Epoch 11/50\n",
      "469/469 [==============================] - 6s 14ms/step - loss: 0.0914 - val_loss: 0.0908\n",
      "Epoch 12/50\n",
      "469/469 [==============================] - 6s 14ms/step - loss: 0.0907 - val_loss: 0.0894\n",
      "Epoch 13/50\n",
      "469/469 [==============================] - 6s 13ms/step - loss: 0.0899 - val_loss: 0.0884\n",
      "Epoch 14/50\n",
      "469/469 [==============================] - 6s 14ms/step - loss: 0.0891 - val_loss: 0.0875\n",
      "Epoch 15/50\n",
      "469/469 [==============================] - 6s 14ms/step - loss: 0.0884 - val_loss: 0.0871\n",
      "Epoch 16/50\n",
      "469/469 [==============================] - 7s 14ms/step - loss: 0.0879 - val_loss: 0.0866\n",
      "Epoch 17/50\n",
      "469/469 [==============================] - 6s 14ms/step - loss: 0.0874 - val_loss: 0.0860\n",
      "Epoch 18/50\n",
      "469/469 [==============================] - 7s 14ms/step - loss: 0.0870 - val_loss: 0.0855\n",
      "Epoch 19/50\n",
      "469/469 [==============================] - 7s 14ms/step - loss: 0.0866 - val_loss: 0.0855\n",
      "Epoch 20/50\n",
      "469/469 [==============================] - 7s 14ms/step - loss: 0.0862 - val_loss: 0.0850\n",
      "Epoch 21/50\n",
      "469/469 [==============================] - 6s 14ms/step - loss: 0.0859 - val_loss: 0.0846\n",
      "Epoch 22/50\n",
      "469/469 [==============================] - 7s 14ms/step - loss: 0.0854 - val_loss: 0.0843\n",
      "Epoch 23/50\n",
      "469/469 [==============================] - 6s 14ms/step - loss: 0.0855 - val_loss: 0.0840\n",
      "Epoch 24/50\n",
      "469/469 [==============================] - 6s 14ms/step - loss: 0.0850 - val_loss: 0.0837\n",
      "Epoch 25/50\n",
      "469/469 [==============================] - 6s 14ms/step - loss: 0.0848 - val_loss: 0.0835\n",
      "Epoch 26/50\n",
      "469/469 [==============================] - 6s 14ms/step - loss: 0.0846 - val_loss: 0.0832\n",
      "Epoch 27/50\n",
      "469/469 [==============================] - 6s 14ms/step - loss: 0.0842 - val_loss: 0.0834\n",
      "Epoch 28/50\n",
      "469/469 [==============================] - 6s 14ms/step - loss: 0.0841 - val_loss: 0.0829\n",
      "Epoch 29/50\n",
      "469/469 [==============================] - 6s 14ms/step - loss: 0.0839 - val_loss: 0.0825\n",
      "Epoch 30/50\n",
      "469/469 [==============================] - 6s 14ms/step - loss: 0.0835 - val_loss: 0.0826\n",
      "Epoch 31/50\n",
      "469/469 [==============================] - 6s 14ms/step - loss: 0.0834 - val_loss: 0.0822\n",
      "Epoch 32/50\n",
      "469/469 [==============================] - 6s 14ms/step - loss: 0.0833 - val_loss: 0.0820\n",
      "Epoch 33/50\n",
      "469/469 [==============================] - 6s 14ms/step - loss: 0.0830 - val_loss: 0.0821\n",
      "Epoch 34/50\n",
      "469/469 [==============================] - 6s 14ms/step - loss: 0.0828 - val_loss: 0.0821\n",
      "Epoch 35/50\n",
      "469/469 [==============================] - 6s 14ms/step - loss: 0.0828 - val_loss: 0.0816\n",
      "Epoch 36/50\n",
      "469/469 [==============================] - 6s 14ms/step - loss: 0.0824 - val_loss: 0.0816\n",
      "Epoch 37/50\n",
      "469/469 [==============================] - 6s 14ms/step - loss: 0.0826 - val_loss: 0.0815\n",
      "Epoch 38/50\n",
      "469/469 [==============================] - 7s 14ms/step - loss: 0.0824 - val_loss: 0.0813\n",
      "Epoch 39/50\n",
      "469/469 [==============================] - 6s 14ms/step - loss: 0.0823 - val_loss: 0.0812\n",
      "Epoch 40/50\n",
      "469/469 [==============================] - 7s 14ms/step - loss: 0.0824 - val_loss: 0.0813\n",
      "Epoch 41/50\n",
      "469/469 [==============================] - 6s 14ms/step - loss: 0.0821 - val_loss: 0.0810\n",
      "Epoch 42/50\n",
      "469/469 [==============================] - 6s 14ms/step - loss: 0.0821 - val_loss: 0.0809\n",
      "Epoch 43/50\n",
      "469/469 [==============================] - 6s 14ms/step - loss: 0.0820 - val_loss: 0.0808\n",
      "Epoch 44/50\n",
      "469/469 [==============================] - 6s 14ms/step - loss: 0.0817 - val_loss: 0.0809\n",
      "Epoch 45/50\n",
      "469/469 [==============================] - 6s 14ms/step - loss: 0.0817 - val_loss: 0.0806\n",
      "Epoch 46/50\n",
      "469/469 [==============================] - 6s 14ms/step - loss: 0.0817 - val_loss: 0.0806\n",
      "Epoch 47/50\n",
      "469/469 [==============================] - 6s 14ms/step - loss: 0.0816 - val_loss: 0.0809\n",
      "Epoch 48/50\n",
      "469/469 [==============================] - 6s 14ms/step - loss: 0.0818 - val_loss: 0.0806\n",
      "Epoch 49/50\n",
      "469/469 [==============================] - 6s 14ms/step - loss: 0.0813 - val_loss: 0.0804\n",
      "Epoch 50/50\n",
      "469/469 [==============================] - 6s 14ms/step - loss: 0.0814 - val_loss: 0.0804\n"
     ]
    },
    {
     "data": {
      "text/plain": [
       "<tensorflow.python.keras.callbacks.History at 0x1ca9f8d6ac8>"
      ]
     },
     "execution_count": 8,
     "metadata": {},
     "output_type": "execute_result"
    }
   ],
   "source": [
    "# 학습.\n",
    "AutoEncoder.compile(loss='binary_crossentropy', optimizer='adam')\n",
    "AutoEncoder.fit(x_train, x_train, validation_data=(x_test, x_test), epochs=50, batch_size=128)"
   ]
  },
  {
   "cell_type": "code",
   "execution_count": 15,
   "metadata": {},
   "outputs": [
    {
     "data": {
      "image/png": "[encoded data removed]",
      "text/plain": [
       "<Figure size 504x144 with 10 Axes>"
      ]
     },
     "metadata": {
      "needs_background": "light"
     },
     "output_type": "display_data"
    }
   ],
   "source": [
    "# 무작위로 5개 이미지 추출.\n",
    "random_test = np.random.randint(x_test.shape[0], size=5)\n",
    "\n",
    "# 예측 이미지 생성.\n",
    "AE_img = AutoEncoder.predict(x_test)\n",
    "\n",
    "# 출력될 이미지의 크기.\n",
    "plt.figure(figsize=(7, 2))\n",
    "for i, img_idx in enumerate(random_test):\n",
    "    \n",
    "    # 원본 이미지.\n",
    "    ax = plt.subplot(2, 7, i+1)\n",
    "    plt.imshow(x_test[img_idx].reshape(28,28), cmap='gray')\n",
    "    ax.axis('off')\n",
    "    \n",
    "    # 예측 이미지.\n",
    "    ax = plt.subplot(2, 7, 7+i+1)\n",
    "    plt.imshow(AE_img[img_idx].reshape(28,28), cmap='gray')\n",
    "    ax.axis('off')\n",
    "plt.show()"
   ]
  }
 ],
 "metadata": {
  "kernelspec": {
   "display_name": "Python 3",
   "language": "python",
   "name": "python3"
  },
  "language_info": {
   "codemirror_mode": {
    "name": "ipython",
    "version": 3
   },
   "file_extension": ".py",
   "mimetype": "text/x-python",
   "name": "python",
   "nbconvert_exporter": "python",
   "pygments_lexer": "ipython3",
   "version": "3.7.6"
  }
 },
 "nbformat": 4,
 "nbformat_minor": 4
}
