{
 "cells": [
  {
   "cell_type": "code",
   "execution_count": 1,
   "metadata": {},
   "outputs": [],
   "source": [
    "import numpy as np"
   ]
  },
  {
   "cell_type": "markdown",
   "metadata": {},
   "source": [
    "#### MSE(Mean Squared Error)"
   ]
  },
  {
   "cell_type": "markdown",
   "metadata": {},
   "source": [
    "$$\n",
    "{MSE} = \\frac{1}{n}{\\sum (y_i - \\hat{y_i} )^2}\n",
    "$$"
   ]
  },
  {
   "cell_type": "code",
   "execution_count": 2,
   "metadata": {},
   "outputs": [],
   "source": [
    "# y절편 a와 기울기 b.\n",
    "y절편 = 76\n",
    "기울기 = 3"
   ]
  },
  {
   "cell_type": "code",
   "execution_count": 3,
   "metadata": {},
   "outputs": [],
   "source": [
    "# 입력과 결과.\n",
    "입력 = [2, 4, 6, 8]\n",
    "결과 = [81, 93, 91, 97]"
   ]
  },
  {
   "cell_type": "code",
   "execution_count": 4,
   "metadata": {},
   "outputs": [],
   "source": [
    "# 입력된 값에 따라 결과를 예측하는 함수.\n",
    "def predict(x) :\n",
    "    return 기울기 * x + y절편"
   ]
  },
  {
   "cell_type": "code",
   "execution_count": 5,
   "metadata": {},
   "outputs": [
    {
     "data": {
      "text/plain": [
       "[82, 88, 94, 100]"
      ]
     },
     "execution_count": 5,
     "metadata": {},
     "output_type": "execute_result"
    }
   ],
   "source": [
    "# 예측 결과를 추출.\n",
    "# 예측 결과를 담을 리스트.\n",
    "predList = []\n",
    "\n",
    "for x in 입력 :\n",
    "    pred = predict(x)\n",
    "    predList.append(pred)\n",
    "    \n",
    "predList"
   ]
  },
  {
   "cell_type": "code",
   "execution_count": 6,
   "metadata": {},
   "outputs": [
    {
     "name": "stdout",
     "output_type": "stream",
     "text": [
      "[ 82  88  94 100]\n",
      "[81 93 91 97]\n"
     ]
    }
   ],
   "source": [
    "# 계산을 쉽게 하기 위해 ndarray를 생성.\n",
    "array1 = np.array(predList)\n",
    "array2 = np.array(결과)\n",
    "\n",
    "print(array1)\n",
    "print(array2)"
   ]
  },
  {
   "cell_type": "code",
   "execution_count": 7,
   "metadata": {},
   "outputs": [
    {
     "name": "stdout",
     "output_type": "stream",
     "text": [
      "[ 1 -5  3  3]\n"
     ]
    }
   ],
   "source": [
    "# 진짜 결과와 예측 결과를 뺀 값을 가져옴.\n",
    "array3 = array1 - array2\n",
    "print(array3)"
   ]
  },
  {
   "cell_type": "code",
   "execution_count": 8,
   "metadata": {},
   "outputs": [
    {
     "name": "stdout",
     "output_type": "stream",
     "text": [
      "[ 1 25  9  9]\n"
     ]
    }
   ],
   "source": [
    "# 제곱을 구함.\n",
    "array4 = array3 ** 2\n",
    "print(array4)"
   ]
  },
  {
   "cell_type": "code",
   "execution_count": 9,
   "metadata": {},
   "outputs": [
    {
     "name": "stdout",
     "output_type": "stream",
     "text": [
      "MSE : 11.0\n"
     ]
    }
   ],
   "source": [
    "# 평균을 구함.\n",
    "mse = array4.mean()\n",
    "print(f'MSE : {mse}')"
   ]
  }
 ],
 "metadata": {
  "kernelspec": {
   "display_name": "Python 3",
   "language": "python",
   "name": "python3"
  },
  "language_info": {
   "codemirror_mode": {
    "name": "ipython",
    "version": 3
   },
   "file_extension": ".py",
   "mimetype": "text/x-python",
   "name": "python",
   "nbconvert_exporter": "python",
   "pygments_lexer": "ipython3",
   "version": "3.7.6"
  }
 },
 "nbformat": 4,
 "nbformat_minor": 4
}
