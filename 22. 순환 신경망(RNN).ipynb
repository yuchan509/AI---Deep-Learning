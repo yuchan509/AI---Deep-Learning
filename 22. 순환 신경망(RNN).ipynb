{
 "cells": [
  {
   "cell_type": "code",
   "execution_count": 1,
   "metadata": {},
   "outputs": [],
   "source": [
    "import numpy as np\n",
    "import pandas as pd\n",
    "import matplotlib.pyplot as plt\n",
    "# 그래프 설정\n",
    "plt.rcParams['font.family'] = 'Malgun Gothic'\n",
    "# plt.rcParams['font.family'] = 'AppleGothic'\n",
    "plt.rcParams['font.size'] = 16\n",
    "plt.rcParams['figure.figsize'] = 20, 10\n",
    "plt.rcParams['axes.unicode_minus'] = False\n",
    "\n",
    "import tensorflow as tf\n",
    "from keras.models import Sequential, load_model\n",
    "from keras.layers import Dense, Dropout, Flatten, Conv2D, MaxPooling2D, Embedding, LSTM\n",
    "from keras.datasets import mnist\n",
    "from keras.utils import np_utils, to_categorical\n",
    "from keras.callbacks import ModelCheckpoint, EarlyStopping\n",
    "\n",
    "# 문장을 잘라줌.\n",
    "from keras.preprocessing.text import Tokenizer, text_to_word_sequence\n",
    "from keras_preprocessing.sequence import pad_sequences\n",
    "\n",
    "from sklearn.metrics import accuracy_score\n",
    "from sklearn.linear_model import LogisticRegression\n",
    "from sklearn.model_selection import train_test_split\n",
    "\n",
    "# GPU 사용 초기화 및 할당.\n",
    "gpus = tf.config.experimental.list_physical_devices('GPU')\n",
    "tf.config.experimental.set_memory_growth(gpus[0], True)\n",
    "\n",
    "import warnings\n",
    "warnings.filterwarnings('ignore')"
   ]
  },
  {
   "cell_type": "markdown",
   "metadata": {},
   "source": [
    "#### RNN(Recurrent Neural Network)\n",
    "- RNN은 은닉층의 노드에서 활성화 함수를 통해 나온 결과값을 출력층 방향으로도 보내면서, 다시 은닉층 노드의 다음 계산의 입력으로 보내는 특징.\n",
    "- NLP, 필기 인식, 음성 인식, 시계열 데이터 같이 시변적 특징을 지니는 데이터를 처리하는데 적용.\n",
    "- Recurrent : 이전에서 어떤 정보가 추가적으로 오는 것을 의미.\n",
    "\n",
    " \n",
    "#### LSTM(Long Short Term Memory)\n",
    "- 시간을 많이 거슬러 올라갈수록(Long term) 경사를 소실하는 문제가 발생.\n",
    "- 기울기 소실 문제(Vanishing gradient problem)를 해결하기 위한 RNN.(역전파, 순전파 등)\n",
    "- 즉 장기 의존성(Long-Term Dependency) 문제 해결 가능.\n",
    "- Le, Q. V., Jaitly, N., & Hinton, G. E. (2015) 연구에 의하면, 활성함수를 Relu로 사용하고 가중치를 단위행렬로 초기화하면 Long-term을 학습시킬 수 있음.\n",
    "- 직전 데이터뿐만 아니라, 좀 더 거시적으로 과거 데이터를 고려하여 미래의 데이터를 예측하기 위한 것."
   ]
  },
  {
   "cell_type": "code",
   "execution_count": 2,
   "metadata": {},
   "outputs": [
    {
     "name": "stdout",
     "output_type": "stream",
     "text": [
      "카테고리 개수 : 46개\n",
      "학습용 뉴스 기사 개수 : 8982개\n",
      "테스트용 뉴스 기사 개수 : 2246개\n"
     ]
    }
   ],
   "source": [
    "# seed 값 설정.\n",
    "np.random.seed(3)\n",
    "tf.random.set_seed(3)\n",
    "\n",
    "# 로이터 데이터 가져옴.\n",
    "from keras.datasets import reuters\n",
    "(x_train, y_train), (x_test, y_test) = reuters.load_data(num_words=1000, test_split=0.2)\n",
    "\n",
    "# 카테고리 개수.\n",
    "a1 = np.max(y_train) + 1\n",
    "print(f'카테고리 개수 : {a1}개')\n",
    "\n",
    "# 학습용 뉴스 기사 개수.\n",
    "a2 = len(x_train)\n",
    "print(f'학습용 뉴스 기사 개수 : {a2}개')\n",
    "\n",
    "\n",
    "# 테스트용 뉴스 기사 개수.\n",
    "a3 = len(x_test)\n",
    "print(f'테스트용 뉴스 기사 개수 : {a3}개')"
   ]
  },
  {
   "cell_type": "code",
   "execution_count": 3,
   "metadata": {},
   "outputs": [],
   "source": [
    "# 서로 개수가 다른 뉴스 기사 리스트의 원소의 개수를 똑같이 맞춰줌.\n",
    "# 북족한 부분은 0으로 채워줌.\n",
    "x_train = pad_sequences(x_train)\n",
    "x_test  = pad_sequences(x_test )\n",
    "\n",
    "# 결과 데이터를 윈-핫 인코딩.\n",
    "y_train = np_utils.to_categorical(y_train)\n",
    "y_test  = np_utils.to_categorical(y_test )"
   ]
  },
  {
   "cell_type": "code",
   "execution_count": 4,
   "metadata": {},
   "outputs": [
    {
     "name": "stdout",
     "output_type": "stream",
     "text": [
      "Epoch 1/20\n",
      "90/90 [==============================] - 22s 205ms/step - loss: 2.9662 - accuracy: 0.3179 - val_loss: 2.1452 - val_accuracy: 0.4804\n",
      "Epoch 2/20\n",
      "90/90 [==============================] - 18s 196ms/step - loss: 2.0571 - accuracy: 0.4873 - val_loss: 1.9265 - val_accuracy: 0.5116\n",
      "Epoch 3/20\n",
      "90/90 [==============================] - 17s 189ms/step - loss: 1.8888 - accuracy: 0.5150 - val_loss: 1.7708 - val_accuracy: 0.5561\n",
      "Epoch 4/20\n",
      "90/90 [==============================] - 17s 189ms/step - loss: 1.8324 - accuracy: 0.5355 - val_loss: 1.7701 - val_accuracy: 0.5454\n",
      "Epoch 5/20\n",
      "90/90 [==============================] - 17s 192ms/step - loss: 1.7504 - accuracy: 0.5436 - val_loss: 1.6800 - val_accuracy: 0.5824\n",
      "Epoch 6/20\n",
      "90/90 [==============================] - 18s 198ms/step - loss: 1.6556 - accuracy: 0.5825 - val_loss: 1.7226 - val_accuracy: 0.5873\n",
      "Epoch 7/20\n",
      "90/90 [==============================] - 17s 193ms/step - loss: 1.7329 - accuracy: 0.5503 - val_loss: 1.7315 - val_accuracy: 0.5419\n",
      "Epoch 8/20\n",
      "90/90 [==============================] - 18s 198ms/step - loss: 1.6130 - accuracy: 0.5814 - val_loss: 1.6696 - val_accuracy: 0.5797\n",
      "Epoch 9/20\n",
      "90/90 [==============================] - 17s 192ms/step - loss: 1.5886 - accuracy: 0.5920 - val_loss: 1.6868 - val_accuracy: 0.5775\n",
      "Epoch 10/20\n",
      "90/90 [==============================] - 17s 189ms/step - loss: 1.5918 - accuracy: 0.5919 - val_loss: 1.5978 - val_accuracy: 0.6086\n",
      "Epoch 11/20\n",
      "90/90 [==============================] - 17s 194ms/step - loss: 1.5183 - accuracy: 0.6135 - val_loss: 1.4715 - val_accuracy: 0.6407\n",
      "Epoch 12/20\n",
      "90/90 [==============================] - 17s 189ms/step - loss: 1.3815 - accuracy: 0.6512 - val_loss: 1.5440 - val_accuracy: 0.6224\n",
      "Epoch 13/20\n",
      "90/90 [==============================] - 18s 195ms/step - loss: 1.3872 - accuracy: 0.6522 - val_loss: 1.5984 - val_accuracy: 0.5908\n",
      "Epoch 14/20\n",
      "90/90 [==============================] - 18s 198ms/step - loss: 1.5441 - accuracy: 0.6088 - val_loss: 1.5474 - val_accuracy: 0.6109\n",
      "Epoch 15/20\n",
      "90/90 [==============================] - 18s 194ms/step - loss: 1.4151 - accuracy: 0.6434 - val_loss: 1.5028 - val_accuracy: 0.6313\n",
      "Epoch 16/20\n",
      "90/90 [==============================] - 18s 195ms/step - loss: 1.3675 - accuracy: 0.6625 - val_loss: 1.4576 - val_accuracy: 0.6469\n",
      "Epoch 17/20\n",
      "90/90 [==============================] - 17s 192ms/step - loss: 1.2745 - accuracy: 0.6856 - val_loss: 1.3334 - val_accuracy: 0.6723\n",
      "Epoch 18/20\n",
      "90/90 [==============================] - 17s 191ms/step - loss: 1.1304 - accuracy: 0.7153 - val_loss: 1.3495 - val_accuracy: 0.6598\n",
      "Epoch 19/20\n",
      "90/90 [==============================] - 18s 196ms/step - loss: 1.1494 - accuracy: 0.7060 - val_loss: 1.2752 - val_accuracy: 0.6919\n",
      "Epoch 20/20\n",
      "90/90 [==============================] - 18s 195ms/step - loss: 1.1242 - accuracy: 0.7186 - val_loss: 1.2953 - val_accuracy: 0.6915\n"
     ]
    }
   ],
   "source": [
    "# 모델 설정.\n",
    "model = Sequential()\n",
    "\n",
    "# 문장당 최대 1000개의 데이터를 100개로 압축.\n",
    "model.add(Embedding(1000,100))\n",
    "\n",
    "# RNN(LSTM)을 이용한 학습.\n",
    "model.add(LSTM(100, activation='tanh'))\n",
    "\n",
    "# 출력층.\n",
    "model.add(Dense(46, activation='softmax'))\n",
    "\n",
    "# 모델 컴파일.\n",
    "model.compile(loss='categorical_crossentropy', optimizer='adam', metrics=['accuracy'])\n",
    "\n",
    "# 학습 실행.\n",
    "history = model.fit(x_train, y_train, validation_data=(x_test, y_test), epochs=20, batch_size=100)"
   ]
  },
  {
   "cell_type": "code",
   "execution_count": 5,
   "metadata": {},
   "outputs": [
    {
     "name": "stdout",
     "output_type": "stream",
     "text": [
      "71/71 [==============================] - 1s 17ms/step - loss: 1.2953 - accuracy: 0.6915\n"
     ]
    },
    {
     "data": {
      "text/plain": [
       "0.6914514899253845"
      ]
     },
     "execution_count": 5,
     "metadata": {},
     "output_type": "execute_result"
    }
   ],
   "source": [
    "# 테스트 정확도 확인. => 정확도는 그렇게 좋지 못함.\n",
    "model.evaluate(x_test, y_test)[1]"
   ]
  },
  {
   "cell_type": "code",
   "execution_count": 6,
   "metadata": {},
   "outputs": [
    {
     "data": {
      "image/png": "[encoded data removed]",
      "text/plain": [
       "<Figure size 576x360 with 1 Axes>"
      ]
     },
     "metadata": {
      "needs_background": "light"
     },
     "output_type": "display_data"
    }
   ],
   "source": [
    "# 테스트 데이터의 오차.\n",
    "y_vloss = history.history['val_loss']\n",
    "\n",
    "# 학습 데이터의 오차.\n",
    "y_loss = history.history['loss']\n",
    "\n",
    "# 그래프.\n",
    "x_len = np.arange(len(y_loss))\n",
    "\n",
    "plt.figure(figsize=(8,5))\n",
    "plt.plot(x_len, y_vloss, marker=',', c='r', label='test', alpha=0.5)\n",
    "plt.plot(x_len, y_loss, marker=',', c='b', label='train', alpha=0.5)\n",
    "plt.legend()\n",
    "plt.grid()\n",
    "plt.show()"
   ]
  }
 ],
 "metadata": {
  "kernelspec": {
   "display_name": "Python 3",
   "language": "python",
   "name": "python3"
  },
  "language_info": {
   "codemirror_mode": {
    "name": "ipython",
    "version": 3
   },
   "file_extension": ".py",
   "mimetype": "text/x-python",
   "name": "python",
   "nbconvert_exporter": "python",
   "pygments_lexer": "ipython3",
   "version": "3.7.6"
  }
 },
 "nbformat": 4,
 "nbformat_minor": 4
}
