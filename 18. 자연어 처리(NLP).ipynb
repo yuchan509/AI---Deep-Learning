{
 "cells": [
  {
   "cell_type": "code",
   "execution_count": 1,
   "metadata": {},
   "outputs": [],
   "source": [
    "import numpy as np\n",
    "import pandas as pd\n",
    "import matplotlib.pyplot as plt\n",
    "# 그래프 설정\n",
    "plt.rcParams['font.family'] = 'Malgun Gothic'\n",
    "# plt.rcParams['font.family'] = 'AppleGothic'\n",
    "plt.rcParams['font.size'] = 16\n",
    "plt.rcParams['figure.figsize'] = 20, 10\n",
    "plt.rcParams['axes.unicode_minus'] = False\n",
    "\n",
    "import tensorflow as tf\n",
    "from keras.models import Sequential, load_model\n",
    "from keras.layers import Dense, Dropout, Flatten, Conv2D, MaxPooling2D, Embedding\n",
    "from keras.datasets import mnist\n",
    "from keras.utils import np_utils, to_categorical\n",
    "from keras.callbacks import ModelCheckpoint, EarlyStopping\n",
    "\n",
    "# 문장 split.\n",
    "from keras.preprocessing.text import Tokenizer, text_to_word_sequence\n",
    "from keras_preprocessing.sequence import pad_sequences\n",
    "\n",
    "from sklearn.metrics import accuracy_score\n",
    "from sklearn.linear_model import LogisticRegression\n",
    "from sklearn.model_selection import train_test_split\n",
    "import warnings\n",
    "warnings.filterwarnings('ignore')"
   ]
  },
  {
   "cell_type": "markdown",
   "metadata": {},
   "source": [
    "#### 토큰화 (Tokenization)\n",
    "- 구두점이나 특수문자를 전부 제거하면 토큰이 의미를 잃어버리는 경우가 발생하기도 함.\n",
    "    - 1.구두점이나 특수문자를 단순 제외하면 안되는 이유.\n",
    "        - (1). 단어 자체에 구두점을 갖고 있는 경우 : ph.D, KT&G\n",
    "        - (2). 특수문자가 의미를 가지고 있는 경우 : 17/05/31, $756\n",
    "    - 2. 줄임말과 단어 내 띄어쓰기가 있는 경우.\n",
    "        - 1) 줄임말 : I'm = I am\n",
    "        - 2) 하나의 단어이지만 띄어쓰기가 있는 경우 : New York"
   ]
  },
  {
   "cell_type": "code",
   "execution_count": 2,
   "metadata": {},
   "outputs": [
    {
     "name": "stdout",
     "output_type": "stream",
     "text": [
      "원본1 : 해보지 않으면 해낼 수 없다\n",
      "토큰화1 : ['해보지', '않으면', '해낼', '수', '없다']\n",
      "----------------------------------------------------\n",
      "원본2 : I can do it\n",
      "토큰화2 : ['i', 'can', 'do', 'it']\n"
     ]
    }
   ],
   "source": [
    "# 예시 텍스트 설정.\n",
    "text1 = '해보지 않으면 해낼 수 없다'\n",
    "text2 = 'I can do it'\n",
    "# 해당 텍스트를 토큰화.\n",
    "# text_to_word_sequenc() : 모든 알파벳을 소문자로 변경. .,?! 등은 제거하나 '는 보존.\n",
    "result1 = text_to_word_sequence(text1)\n",
    "result2 = text_to_word_sequence(text2)\n",
    "\n",
    "print(f'원본1 : {text1}')\n",
    "print(f'토큰화1 : {result1}')\n",
    "print('-'*52)\n",
    "print(f'원본2 : {text2}')\n",
    "# 대문자 I가 소문자로 변경.\n",
    "print(f'토큰화2 : {result2}') "
   ]
  },
  {
   "cell_type": "code",
   "execution_count": 3,
   "metadata": {},
   "outputs": [],
   "source": [
    "# 문장 텍스트 설정.\n",
    "docs = [\n",
    "    '먼저 텍스트의 각 단어를 나누어 토큰화 합니다',\n",
    "    '텍스트의 단어로 토큰화 해야 딥러닝에서 인식됩니다',\n",
    "    '토큰화 한 결과는 딥러닝에서 사용할 수 있습니다'\n",
    "]"
   ]
  },
  {
   "cell_type": "code",
   "execution_count": 4,
   "metadata": {},
   "outputs": [],
   "source": [
    "# 토큰화 함수를 통해 전처리를 한다.\n",
    "# Tokenizer() : 가장 빈도가 높은 num_words=None 수 만큼의 단어만 선택하도록하는 Tokenizer 객체.\n",
    "token = Tokenizer()\n",
    "\n",
    "# 이에 맞게 단어 인덱스를 구축함.\n",
    "token.fit_on_texts(docs)"
   ]
  },
  {
   "cell_type": "code",
   "execution_count": 5,
   "metadata": {},
   "outputs": [
    {
     "data": {
      "text/plain": [
       "3"
      ]
     },
     "execution_count": 5,
     "metadata": {},
     "output_type": "execute_result"
    }
   ],
   "source": [
    "# 전체 문장의 개수.\n",
    "token.document_count"
   ]
  },
  {
   "cell_type": "code",
   "execution_count": 6,
   "metadata": {},
   "outputs": [
    {
     "data": {
      "text/plain": [
       "OrderedDict([('먼저', 1),\n",
       "             ('텍스트의', 2),\n",
       "             ('각', 1),\n",
       "             ('단어를', 1),\n",
       "             ('나누어', 1),\n",
       "             ('토큰화', 3),\n",
       "             ('합니다', 1),\n",
       "             ('단어로', 1),\n",
       "             ('해야', 1),\n",
       "             ('딥러닝에서', 2),\n",
       "             ('인식됩니다', 1),\n",
       "             ('한', 1),\n",
       "             ('결과는', 1),\n",
       "             ('사용할', 1),\n",
       "             ('수', 1),\n",
       "             ('있습니다', 1)])"
      ]
     },
     "execution_count": 6,
     "metadata": {},
     "output_type": "execute_result"
    }
   ],
   "source": [
    "# 단어의 빈도수.\n",
    "token.word_counts"
   ]
  },
  {
   "cell_type": "code",
   "execution_count": 7,
   "metadata": {},
   "outputs": [
    {
     "data": {
      "text/plain": [
       "defaultdict(int,\n",
       "            {'각': 1,\n",
       "             '먼저': 1,\n",
       "             '텍스트의': 2,\n",
       "             '단어를': 1,\n",
       "             '토큰화': 3,\n",
       "             '나누어': 1,\n",
       "             '합니다': 1,\n",
       "             '단어로': 1,\n",
       "             '인식됩니다': 1,\n",
       "             '딥러닝에서': 2,\n",
       "             '해야': 1,\n",
       "             '한': 1,\n",
       "             '결과는': 1,\n",
       "             '사용할': 1,\n",
       "             '있습니다': 1,\n",
       "             '수': 1})"
      ]
     },
     "execution_count": 7,
     "metadata": {},
     "output_type": "execute_result"
    }
   ],
   "source": [
    "# 각 단어가 몇개의 문장에 포함되어 있는지를 보여줌. 출력되는 순서는 랜덤.\n",
    "token.word_docs"
   ]
  },
  {
   "cell_type": "code",
   "execution_count": 8,
   "metadata": {},
   "outputs": [
    {
     "data": {
      "text/plain": [
       "{'토큰화': 1,\n",
       " '텍스트의': 2,\n",
       " '딥러닝에서': 3,\n",
       " '먼저': 4,\n",
       " '각': 5,\n",
       " '단어를': 6,\n",
       " '나누어': 7,\n",
       " '합니다': 8,\n",
       " '단어로': 9,\n",
       " '해야': 10,\n",
       " '인식됩니다': 11,\n",
       " '한': 12,\n",
       " '결과는': 13,\n",
       " '사용할': 14,\n",
       " '수': 15,\n",
       " '있습니다': 16}"
      ]
     },
     "execution_count": 8,
     "metadata": {},
     "output_type": "execute_result"
    }
   ],
   "source": [
    "# 각 단어에 부여된 인덱스.\n",
    "token.word_index"
   ]
  },
  {
   "cell_type": "code",
   "execution_count": 9,
   "metadata": {},
   "outputs": [
    {
     "name": "stdout",
     "output_type": "stream",
     "text": [
      "{'너무': 1, '재밌네요': 2, '최고예요': 3, '참': 4, '잘': 5, '만든': 6, '영화에요': 7, '추천하고': 8, '싶은': 9, '영화입니다': 10, '한번': 11, '더': 12, '보고': 13, '싶네요': 14, '글쎄요': 15, '별로에요': 16, '생각보다': 17, '지루하네요': 18, '연기가': 19, '어색해요': 20, '재미없어요': 21}\n",
      "---------------------------------------------------------------------------------------------------------------------------------------\n",
      "[[1, 2], [3], [4, 5, 6, 7], [8, 9, 10], [11, 12, 13, 14], [15], [16], [17, 18], [19, 20], [21]]\n",
      "---------------------------------------------------------------------------------------------------------------------------------------\n"
     ]
    },
    {
     "data": {
      "text/plain": [
       "array([[ 0,  0,  1,  2],\n",
       "       [ 0,  0,  0,  3],\n",
       "       [ 4,  5,  6,  7],\n",
       "       [ 0,  8,  9, 10],\n",
       "       [11, 12, 13, 14],\n",
       "       [ 0,  0,  0, 15],\n",
       "       [ 0,  0,  0, 16],\n",
       "       [ 0,  0, 17, 18],\n",
       "       [ 0,  0, 19, 20],\n",
       "       [ 0,  0,  0, 21]])"
      ]
     },
     "execution_count": 9,
     "metadata": {},
     "output_type": "execute_result"
    }
   ],
   "source": [
    "# 평가글.\n",
    "docs = [\n",
    "    '너무 재밌네요',\n",
    "    '최고예요',\n",
    "    '참 잘 만든 영화에요',\n",
    "    '추천하고 싶은 영화입니다',\n",
    "    '한번 더 보고 싶네요',\n",
    "    '글쎄요',\n",
    "    '별로에요',\n",
    "    '생각보다 지루하네요',\n",
    "    '연기가 어색해요',\n",
    "    '재미없어요'\n",
    "]\n",
    "\n",
    "# 결과 데이터.(분류)\n",
    "# 1 : 긍정. , 0 : 부정.\n",
    "classes = np.array([1,1,1,1,1,0,0,0,0,0])\n",
    "\n",
    "token = Tokenizer()\n",
    "token.fit_on_texts(docs)\n",
    "print(token.word_index)\n",
    "print('-'*135)\n",
    "\n",
    "# 각 문장을 토큰화 시킨 데이터를 단어 인덱스로 변환.\n",
    "x = token.texts_to_sequences(docs)\n",
    "print(x)\n",
    "print('-'*135)\n",
    "\n",
    "# 각 리스트의 데이터의 개수를 최대 개수로 통일.\n",
    "# pad_sequences() : 문장의 길이를 maxlen 인자로 맞춰줌.\n",
    "# 예를 들어 4로 지정했다면 4보다 짧은 문장은 0으로 채워서 4단어로 맞춰주고, 4보다 긴 문장은 4단어까지만 잘라냄.\n",
    "padded_x = pad_sequences(x,  maxlen=4)\n",
    "padded_x"
   ]
  },
  {
   "cell_type": "code",
   "execution_count": 10,
   "metadata": {},
   "outputs": [],
   "source": [
    "# 단어의 수를 파악.\n",
    "# 통상 to_categorical( ) 함수를 사용해 원-핫 인코딩 과정을 진행.\n",
    "# 배열 맨 앞에 0으로 이루어진 인덱스가 추가되므로 단어 수보다 1이 더 많게 인덱스 숫자를 잡아주는 것에 유의.\n",
    "word_size = len(token.word_index) + 1"
   ]
  },
  {
   "cell_type": "code",
   "execution_count": 11,
   "metadata": {},
   "outputs": [
    {
     "name": "stdout",
     "output_type": "stream",
     "text": [
      "Epoch 1/20\n",
      "1/1 [==============================] - 1s 752ms/step - loss: 0.6985 - accuracy: 0.4000\n",
      "Epoch 2/20\n",
      "1/1 [==============================] - 0s 3ms/step - loss: 0.6962 - accuracy: 0.5000\n",
      "Epoch 3/20\n",
      "1/1 [==============================] - 0s 3ms/step - loss: 0.6940 - accuracy: 0.6000\n",
      "Epoch 4/20\n",
      "1/1 [==============================] - 0s 4ms/step - loss: 0.6918 - accuracy: 0.6000\n",
      "Epoch 5/20\n",
      "1/1 [==============================] - 0s 3ms/step - loss: 0.6895 - accuracy: 0.6000\n",
      "Epoch 6/20\n",
      "1/1 [==============================] - 0s 4ms/step - loss: 0.6873 - accuracy: 0.7000\n",
      "Epoch 7/20\n",
      "1/1 [==============================] - 0s 4ms/step - loss: 0.6851 - accuracy: 0.7000\n",
      "Epoch 8/20\n",
      "1/1 [==============================] - 0s 4ms/step - loss: 0.6829 - accuracy: 0.8000\n",
      "Epoch 9/20\n",
      "1/1 [==============================] - 0s 4ms/step - loss: 0.6806 - accuracy: 0.8000\n",
      "Epoch 10/20\n",
      "1/1 [==============================] - 0s 4ms/step - loss: 0.6784 - accuracy: 0.8000\n",
      "Epoch 11/20\n",
      "1/1 [==============================] - 0s 4ms/step - loss: 0.6762 - accuracy: 0.8000\n",
      "Epoch 12/20\n",
      "1/1 [==============================] - 0s 4ms/step - loss: 0.6740 - accuracy: 0.8000\n",
      "Epoch 13/20\n",
      "1/1 [==============================] - 0s 4ms/step - loss: 0.6718 - accuracy: 0.9000\n",
      "Epoch 14/20\n",
      "1/1 [==============================] - 0s 4ms/step - loss: 0.6695 - accuracy: 0.9000\n",
      "Epoch 15/20\n",
      "1/1 [==============================] - 0s 4ms/step - loss: 0.6673 - accuracy: 0.9000\n",
      "Epoch 16/20\n",
      "1/1 [==============================] - 0s 5ms/step - loss: 0.6650 - accuracy: 0.9000\n",
      "Epoch 17/20\n",
      "1/1 [==============================] - 0s 4ms/step - loss: 0.6628 - accuracy: 0.9000\n",
      "Epoch 18/20\n",
      "1/1 [==============================] - 0s 4ms/step - loss: 0.6605 - accuracy: 0.9000\n",
      "Epoch 19/20\n",
      "1/1 [==============================] - 0s 3ms/step - loss: 0.6583 - accuracy: 0.9000\n",
      "Epoch 20/20\n",
      "1/1 [==============================] - 0s 4ms/step - loss: 0.6560 - accuracy: 0.9000\n",
      "Accuracy : model.evaluate(padded_x, classes)[1]\n"
     ]
    }
   ],
   "source": [
    "# 학습 모델을 구성.\n",
    "model = Sequential()\n",
    "\n",
    "# Embedding : 많은 단어의 수를 줄임. : 공간 낭비를 줄이기 위해 단어 임베딩은 주어진 배열을 정해진 길이로 압축.\n",
    "# word_size : 전체 단어의 수, 8 : 줄일 사이즈, input_length=4 : 입력층의 노드의 개수.\n",
    "model.add(Embedding(word_size, 8, input_length=4))\n",
    "\n",
    "# 1차원으로 변환.\n",
    "# Flatten() : 다차원 배열을 1차원으로 바꿈.\n",
    "model.add(Flatten())\n",
    "\n",
    "# 출력층 생성.\n",
    "# 이진 분류이므로 활성화 함수로 sigmoid 설정.\n",
    "model.add(Dense(1, activation='sigmoid'))\n",
    "\n",
    "# 컴파일.\n",
    "# model.compile() : 모델 구성 후 compile() 메소드를 호출하여 모델 학습 과정을 설정.\n",
    "# loss : 최적화 과정에서 최소화될 손실 함수를 설정하는 것으로, MSE(평균 제곱 오차)와 binary_crossentropy가 자주 사용됨.\n",
    "# optimizer : 훈련 과정을 설정하는 것으로, Adam, SGD 등이 존재.\n",
    "# metrics : 훈련을 모니터링을 위해 사용.\n",
    "model.compile(loss='binary_crossentropy', optimizer='adam', metrics=['accuracy'])\n",
    "\n",
    "# 학습.\n",
    "model.fit(padded_x, classes, epochs=20, verbose=1 )\n",
    "\n",
    "# 정확도.\n",
    "print(f'Accuracy : model.evaluate(padded_x, classes)[1]')"
   ]
  }
 ],
 "metadata": {
  "kernelspec": {
   "display_name": "Python 3",
   "language": "python",
   "name": "python3"
  },
  "language_info": {
   "codemirror_mode": {
    "name": "ipython",
    "version": 3
   },
   "file_extension": ".py",
   "mimetype": "text/x-python",
   "name": "python",
   "nbconvert_exporter": "python",
   "pygments_lexer": "ipython3",
   "version": "3.7.6"
  }
 },
 "nbformat": 4,
 "nbformat_minor": 4
}
