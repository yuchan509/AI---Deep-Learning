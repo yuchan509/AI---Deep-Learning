{
 "cells": [
  {
   "cell_type": "code",
   "execution_count": 1,
   "metadata": {},
   "outputs": [],
   "source": [
    "import missingno\n",
    "import numpy as np\n",
    "import pandas as pd\n",
    "import matplotlib.pyplot as plt\n",
    "\n",
    "# 그래프 설정.\n",
    "plt.rcParams['font.family'] = 'Malgun Gothic'\n",
    "# plt.rcParams['font.family'] = 'AppleGothic'\n",
    "\n",
    "import seaborn as sns\n",
    "plt.style.use('seaborn-whitegrid')\n",
    "\n",
    "# 딥러닝.\n",
    "from keras.models import Sequential\n",
    "from keras.layers import Dense\n",
    "from keras.datasets import mnist\n",
    "from keras.utils import np_utils\n",
    "import tensorflow as tf\n",
    "\n",
    "# 다중분류를 위한 핫-윈 인코더.\n",
    "from keras.utils import to_categorical\n",
    "\n",
    "# 저장된 딥러닝 모델을 복구하는 함수.\n",
    "from keras.models import load_model\n",
    "\n",
    "# epoch마다 모델을 저장하는 함수.\n",
    "from keras.callbacks import ModelCheckpoint\n",
    "\n",
    "# 더이상 성능 향상이 이루어지지 않는다면 조기 중단시킬 수 있는 함수.\n",
    "from keras.callbacks import EarlyStopping\n",
    "\n",
    "import warnings\n",
    "warnings.filterwarnings('ignore')"
   ]
  },
  {
   "cell_type": "code",
   "execution_count": 2,
   "metadata": {},
   "outputs": [],
   "source": [
    "# 랜덤 시드 설정\n",
    "np.random.seed(3)\n",
    "tf.random.set_seed(3)\n",
    "\n",
    "# MNIST 데이터 읽기.\n",
    "(X_train, y_train), (X_test, y_test) = mnist.load_data()"
   ]
  },
  {
   "cell_type": "code",
   "execution_count": 3,
   "metadata": {},
   "outputs": [],
   "source": [
    "# 2차원으로 되어 있는 이미지 한장의 데이터를 1차원으로 변환한다.\n",
    "X_train = X_train.reshape(X_train.shape[0], 784)\n",
    "# 학습 효율을 높히기 위해 모든 값을 0에서 1사이로 조정한다.\n",
    "X_train = X_train.astype('float32')\n",
    "X_train = X_train / 255\n",
    "\n",
    "# 2차원으로 되어 있는 이미지 한장의 데이터를 1차원으로 변환.\n",
    "X_test = X_test.reshape(X_test.shape[0], 784)\n",
    "# 학습 효율을 높히기 위해 모든 값을 0에서 1사이로 조정.\n",
    "X_test = X_test.astype('float32')\n",
    "X_test = X_test / 255"
   ]
  },
  {
   "cell_type": "code",
   "execution_count": 4,
   "metadata": {},
   "outputs": [
    {
     "data": {
      "text/plain": [
       "array([0., 0., 0., 0., 0., 1., 0., 0., 0., 0.], dtype=float32)"
      ]
     },
     "execution_count": 4,
     "metadata": {},
     "output_type": "execute_result"
    }
   ],
   "source": [
    "# 결과 데이터 핫 윈 인코딩.\n",
    "y_train = np_utils.to_categorical(y_train, 10)\n",
    "y_test = np_utils.to_categorical(y_test, 10)\n",
    "y_train[0]"
   ]
  },
  {
   "cell_type": "code",
   "execution_count": 5,
   "metadata": {},
   "outputs": [
    {
     "name": "stdout",
     "output_type": "stream",
     "text": [
      "Epoch 1/30\n",
      "600/600 [==============================] - 3s 3ms/step - loss: 0.4270 - accuracy: 0.8806 - val_loss: 0.1268 - val_accuracy: 0.9623\n",
      "\n",
      "Epoch 00001: val_loss improved from inf to 0.12676, saving model to models\\1-0.1267630159854889.hdf5\n",
      "Epoch 2/30\n",
      "600/600 [==============================] - 2s 3ms/step - loss: 0.1041 - accuracy: 0.9702 - val_loss: 0.0836 - val_accuracy: 0.9749\n",
      "\n",
      "Epoch 00002: val_loss improved from 0.12676 to 0.08359, saving model to models\\2-0.08359336853027344.hdf5\n",
      "Epoch 3/30\n",
      "600/600 [==============================] - 2s 3ms/step - loss: 0.0606 - accuracy: 0.9822 - val_loss: 0.0868 - val_accuracy: 0.9706\n",
      "\n",
      "Epoch 00003: val_loss did not improve from 0.08359\n",
      "Epoch 4/30\n",
      "600/600 [==============================] - 2s 3ms/step - loss: 0.0467 - accuracy: 0.9864 - val_loss: 0.0701 - val_accuracy: 0.9777\n",
      "\n",
      "Epoch 00004: val_loss improved from 0.08359 to 0.07009, saving model to models\\4-0.07008878886699677.hdf5\n",
      "Epoch 5/30\n",
      "600/600 [==============================] - 2s 3ms/step - loss: 0.0296 - accuracy: 0.9917 - val_loss: 0.0812 - val_accuracy: 0.9756\n",
      "\n",
      "Epoch 00005: val_loss did not improve from 0.07009\n",
      "Epoch 6/30\n",
      "600/600 [==============================] - 2s 3ms/step - loss: 0.0233 - accuracy: 0.9935 - val_loss: 0.0675 - val_accuracy: 0.9798\n",
      "\n",
      "Epoch 00006: val_loss improved from 0.07009 to 0.06755, saving model to models\\6-0.06754811853170395.hdf5\n",
      "Epoch 7/30\n",
      "600/600 [==============================] - 2s 3ms/step - loss: 0.0168 - accuracy: 0.9957 - val_loss: 0.0694 - val_accuracy: 0.9800\n",
      "\n",
      "Epoch 00007: val_loss did not improve from 0.06755\n",
      "Epoch 8/30\n",
      "600/600 [==============================] - 2s 3ms/step - loss: 0.0134 - accuracy: 0.9965 - val_loss: 0.0674 - val_accuracy: 0.9807\n",
      "\n",
      "Epoch 00008: val_loss improved from 0.06755 to 0.06742, saving model to models\\8-0.06742234528064728.hdf5\n",
      "Epoch 9/30\n",
      "600/600 [==============================] - 2s 3ms/step - loss: 0.0099 - accuracy: 0.9976 - val_loss: 0.0717 - val_accuracy: 0.9805\n",
      "\n",
      "Epoch 00009: val_loss did not improve from 0.06742\n",
      "Epoch 10/30\n",
      "600/600 [==============================] - 2s 3ms/step - loss: 0.0086 - accuracy: 0.9976 - val_loss: 0.0740 - val_accuracy: 0.9799\n",
      "\n",
      "Epoch 00010: val_loss did not improve from 0.06742\n",
      "Epoch 11/30\n",
      "600/600 [==============================] - 2s 3ms/step - loss: 0.0059 - accuracy: 0.9988 - val_loss: 0.0729 - val_accuracy: 0.9797\n",
      "\n",
      "Epoch 00011: val_loss did not improve from 0.06742\n",
      "Epoch 12/30\n",
      "600/600 [==============================] - 2s 3ms/step - loss: 0.0059 - accuracy: 0.9983 - val_loss: 0.0802 - val_accuracy: 0.9811\n",
      "\n",
      "Epoch 00012: val_loss did not improve from 0.06742\n",
      "Epoch 13/30\n",
      "600/600 [==============================] - 2s 3ms/step - loss: 0.0059 - accuracy: 0.9985 - val_loss: 0.0840 - val_accuracy: 0.9782\n",
      "\n",
      "Epoch 00013: val_loss did not improve from 0.06742\n",
      "Epoch 14/30\n",
      "600/600 [==============================] - 2s 3ms/step - loss: 0.0071 - accuracy: 0.9981 - val_loss: 0.0835 - val_accuracy: 0.9801\n",
      "\n",
      "Epoch 00014: val_loss did not improve from 0.06742\n",
      "Epoch 15/30\n",
      "600/600 [==============================] - 2s 3ms/step - loss: 0.0040 - accuracy: 0.9990 - val_loss: 0.0778 - val_accuracy: 0.9815\n",
      "\n",
      "Epoch 00015: val_loss did not improve from 0.06742\n",
      "Epoch 16/30\n",
      "600/600 [==============================] - 2s 3ms/step - loss: 0.0043 - accuracy: 0.9988 - val_loss: 0.0824 - val_accuracy: 0.9818\n",
      "\n",
      "Epoch 00016: val_loss did not improve from 0.06742\n",
      "Epoch 17/30\n",
      "600/600 [==============================] - 2s 3ms/step - loss: 0.0028 - accuracy: 0.9993 - val_loss: 0.0861 - val_accuracy: 0.9806\n",
      "\n",
      "Epoch 00017: val_loss did not improve from 0.06742\n",
      "Epoch 18/30\n",
      "600/600 [==============================] - 2s 3ms/step - loss: 0.0062 - accuracy: 0.9981 - val_loss: 0.0739 - val_accuracy: 0.9830\n",
      "\n",
      "Epoch 00018: val_loss did not improve from 0.06742\n"
     ]
    }
   ],
   "source": [
    "# 모델 설정..\n",
    "model = Sequential()\n",
    "model.add(Dense(512, input_dim=784, activation='relu'))\n",
    "model.add(Dense(10, activation='softmax'))\n",
    "\n",
    "# 모델 컴파일.\n",
    "model.compile(loss='categorical_crossentropy', optimizer='adam', metrics=['accuracy'])\n",
    "\n",
    "# 콜백 조건 설정.\n",
    "modelpath = 'models/{epoch}-{val_loss}.hdf5'\n",
    "callback1 = ModelCheckpoint(filepath=modelpath, monitor='val_loss', verbose=1, save_best_only=True)\n",
    "callback2 = EarlyStopping(monitor='val_loss', patience=10)\n",
    "\n",
    "# 학습.\n",
    "history = model.fit(X_train, y_train, validation_data=(X_test, y_test), epochs=30, batch_size=100, \n",
    "                    verbose=1, callbacks=[callback1, callback2])"
   ]
  },
  {
   "cell_type": "code",
   "execution_count": 6,
   "metadata": {
    "scrolled": true
   },
   "outputs": [
    {
     "name": "stdout",
     "output_type": "stream",
     "text": [
      "313/313 [==============================] - 1s 2ms/step - loss: 0.0674 - accuracy: 0.9807\n"
     ]
    },
    {
     "data": {
      "text/plain": [
       "0.9807000160217285"
      ]
     },
     "execution_count": 6,
     "metadata": {},
     "output_type": "execute_result"
    }
   ],
   "source": [
    "# 모델 로딩.\n",
    "best_model = load_model('models/8-0.06742234528064728.hdf5')\n",
    "\n",
    "# Test dataset을 통한 정확도 측정.\n",
    "best_model.evaluate(X_test, y_test)[1]"
   ]
  },
  {
   "cell_type": "code",
   "execution_count": 7,
   "metadata": {},
   "outputs": [
    {
     "data": {
      "image/png": "[encoded data removed]",
      "text/plain": [
       "<Figure size 576x360 with 1 Axes>"
      ]
     },
     "metadata": {},
     "output_type": "display_data"
    }
   ],
   "source": [
    "# 테스트 데이터 오차.\n",
    "y_vloss = history.history['val_loss']\n",
    "\n",
    "# 학습 데이터의 오차.\n",
    "y_loss = history.history['loss']\n",
    "\n",
    "# 그래프.\n",
    "# 오차 발생 정도의 차가 너무 큼.\n",
    "plt.figure(figsize=(8,5))\n",
    "x_len = np.arange(len(y_loss))\n",
    "plt.plot(x_len, y_vloss, label='Test Loss', c='coral', alpha=.5)\n",
    "plt.plot(x_len, y_loss,  label='Train Loss', c='gold', alpha=.5)\n",
    "plt.legend()\n",
    "plt.show()"
   ]
  }
 ],
 "metadata": {
  "kernelspec": {
   "display_name": "Python 3",
   "language": "python",
   "name": "python3"
  },
  "language_info": {
   "codemirror_mode": {
    "name": "ipython",
    "version": 3
   },
   "file_extension": ".py",
   "mimetype": "text/x-python",
   "name": "python",
   "nbconvert_exporter": "python",
   "pygments_lexer": "ipython3",
   "version": "3.7.6"
  }
 },
 "nbformat": 4,
 "nbformat_minor": 4
}
