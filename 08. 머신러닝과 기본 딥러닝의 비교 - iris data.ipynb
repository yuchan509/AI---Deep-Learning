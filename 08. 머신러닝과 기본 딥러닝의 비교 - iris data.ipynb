{
 "cells": [
  {
   "cell_type": "code",
   "execution_count": 1,
   "metadata": {},
   "outputs": [],
   "source": [
    "import numpy as np\n",
    "import pandas as pd\n",
    "import seaborn as sb\n",
    "\n",
    "import tensorflow as tf\n",
    "from keras.models import Sequential\n",
    "from keras.layers import Dense\n",
    "\n",
    "from sklearn.preprocessing import LabelEncoder\n",
    "\n",
    "from sklearn.metrics import accuracy_score\n",
    "from sklearn.linear_model import LogisticRegression\n",
    "from sklearn.model_selection import train_test_split\n",
    "import warnings\n",
    "warnings.filterwarnings('ignore')"
   ]
  },
  {
   "cell_type": "code",
   "execution_count": 2,
   "metadata": {},
   "outputs": [
    {
     "name": "stdout",
     "output_type": "stream",
     "text": [
      "(150, 4)\n",
      "(150,)\n"
     ]
    }
   ],
   "source": [
    "df = pd.read_csv('data/iris.csv', header=None)\n",
    "x = df.iloc[:,:4]\n",
    "y = df.iloc[:,4]\n",
    "print(x.shape)\n",
    "print(y.shape)\n",
    "\n",
    "# 2진 분류 테스트.( setosa, versicolor)\n",
    "# df1 = df[:100]\n",
    "# x = df1.iloc[:,:4]\n",
    "# y = df1.iloc[:,4]\n",
    "\n",
    "# 2진 분류 테스트.(virginica,  versicolor)\n",
    "df1 = df[50:]\n",
    "x = df1.iloc[:,:4]\n",
    "y = df1.iloc[:,4]"
   ]
  },
  {
   "cell_type": "code",
   "execution_count": 3,
   "metadata": {},
   "outputs": [
    {
     "data": {
      "text/plain": [
       "array([0, 0, 0, 0, 0, 0, 0, 0, 0, 0, 0, 0, 0, 0, 0, 0, 0, 0, 0, 0, 0, 0,\n",
       "       0, 0, 0, 0, 0, 0, 0, 0, 0, 0, 0, 0, 0, 0, 0, 0, 0, 0, 0, 0, 0, 0,\n",
       "       0, 0, 0, 0, 0, 0, 1, 1, 1, 1, 1, 1, 1, 1, 1, 1, 1, 1, 1, 1, 1, 1,\n",
       "       1, 1, 1, 1, 1, 1, 1, 1, 1, 1, 1, 1, 1, 1, 1, 1, 1, 1, 1, 1, 1, 1,\n",
       "       1, 1, 1, 1, 1, 1, 1, 1, 1, 1, 1, 1])"
      ]
     },
     "execution_count": 3,
     "metadata": {},
     "output_type": "execute_result"
    }
   ],
   "source": [
    "# Encoding 작업.\n",
    "encoder = LabelEncoder()\n",
    "encoder.fit(y)\n",
    "y = encoder.transform(y)\n",
    "y"
   ]
  },
  {
   "cell_type": "code",
   "execution_count": 4,
   "metadata": {},
   "outputs": [
    {
     "name": "stdout",
     "output_type": "stream",
     "text": [
      "(75, 4)\n",
      "(25, 4)\n",
      "(75,)\n",
      "(25,)\n"
     ]
    }
   ],
   "source": [
    "# 훈련용 데이터셋과 검증용 데이터셋으로 분할.\n",
    "x_train, x_test, y_train, y_test = train_test_split(x, y, stratify=y)\n",
    "print(x_train.shape)\n",
    "print(x_test.shape)\n",
    "print(y_train.shape)\n",
    "print(y_test.shape)"
   ]
  },
  {
   "cell_type": "markdown",
   "metadata": {},
   "source": [
    "#### Machine Learning"
   ]
  },
  {
   "cell_type": "code",
   "execution_count": 5,
   "metadata": {},
   "outputs": [
    {
     "data": {
      "text/plain": [
       "0.96"
      ]
     },
     "execution_count": 5,
     "metadata": {},
     "output_type": "execute_result"
    }
   ],
   "source": [
    "# 머신러닝 모델 중 하나인 로지스틱 회귀 모형을 사용한 예측 결과.\n",
    "model1 = LogisticRegression()\n",
    "model1.fit(x_train, y_train)\n",
    "pred1 = model1.predict(x_test)\n",
    "accuracy_score(y_test, pred1)"
   ]
  },
  {
   "cell_type": "markdown",
   "metadata": {},
   "source": [
    "#### Deep Learning"
   ]
  },
  {
   "cell_type": "code",
   "execution_count": 6,
   "metadata": {},
   "outputs": [
    {
     "name": "stdout",
     "output_type": "stream",
     "text": [
      "Epoch 1/30\n",
      "8/8 [==============================] - 1s 2ms/step - loss: 0.2664 - accuracy: 0.4801\n",
      "Epoch 2/30\n",
      "8/8 [==============================] - 0s 2ms/step - loss: 0.2309 - accuracy: 0.5830\n",
      "Epoch 3/30\n",
      "8/8 [==============================] - 0s 2ms/step - loss: 0.2326 - accuracy: 0.8843\n",
      "Epoch 4/30\n",
      "8/8 [==============================] - 0s 2ms/step - loss: 0.2289 - accuracy: 0.5164\n",
      "Epoch 5/30\n",
      "8/8 [==============================] - 0s 2ms/step - loss: 0.2253 - accuracy: 0.5157\n",
      "Epoch 6/30\n",
      "8/8 [==============================] - 0s 2ms/step - loss: 0.2214 - accuracy: 0.5720\n",
      "Epoch 7/30\n",
      "8/8 [==============================] - 0s 2ms/step - loss: 0.2225 - accuracy: 0.6719\n",
      "Epoch 8/30\n",
      "8/8 [==============================] - 0s 2ms/step - loss: 0.2249 - accuracy: 0.8445\n",
      "Epoch 9/30\n",
      "8/8 [==============================] - 0s 2ms/step - loss: 0.2225 - accuracy: 0.9046\n",
      "Epoch 10/30\n",
      "8/8 [==============================] - 0s 2ms/step - loss: 0.2226 - accuracy: 0.7793\n",
      "Epoch 11/30\n",
      "8/8 [==============================] - 0s 2ms/step - loss: 0.2177 - accuracy: 0.7132\n",
      "Epoch 12/30\n",
      "8/8 [==============================] - 0s 2ms/step - loss: 0.2221 - accuracy: 0.8133\n",
      "Epoch 13/30\n",
      "8/8 [==============================] - 0s 2ms/step - loss: 0.2177 - accuracy: 0.9008\n",
      "Epoch 14/30\n",
      "8/8 [==============================] - 0s 2ms/step - loss: 0.2208 - accuracy: 0.9083\n",
      "Epoch 15/30\n",
      "8/8 [==============================] - 0s 2ms/step - loss: 0.2128 - accuracy: 0.9063\n",
      "Epoch 16/30\n",
      "8/8 [==============================] - 0s 2ms/step - loss: 0.2146 - accuracy: 0.8157\n",
      "Epoch 17/30\n",
      "8/8 [==============================] - 0s 2ms/step - loss: 0.2107 - accuracy: 0.7894\n",
      "Epoch 18/30\n",
      "8/8 [==============================] - 0s 2ms/step - loss: 0.2064 - accuracy: 0.8195\n",
      "Epoch 19/30\n",
      "8/8 [==============================] - 0s 2ms/step - loss: 0.2028 - accuracy: 0.9534\n",
      "Epoch 20/30\n",
      "8/8 [==============================] - 0s 2ms/step - loss: 0.2083 - accuracy: 0.9105\n",
      "Epoch 21/30\n",
      "8/8 [==============================] - 0s 2ms/step - loss: 0.1995 - accuracy: 0.9510\n",
      "Epoch 22/30\n",
      "8/8 [==============================] - 0s 2ms/step - loss: 0.2069 - accuracy: 0.9143\n",
      "Epoch 23/30\n",
      "8/8 [==============================] - 0s 2ms/step - loss: 0.2013 - accuracy: 0.9138\n",
      "Epoch 24/30\n",
      "8/8 [==============================] - 0s 2ms/step - loss: 0.2054 - accuracy: 0.9014\n",
      "Epoch 25/30\n",
      "8/8 [==============================] - 0s 2ms/step - loss: 0.2029 - accuracy: 0.9135\n",
      "Epoch 26/30\n",
      "8/8 [==============================] - 0s 2ms/step - loss: 0.1965 - accuracy: 0.9666\n",
      "Epoch 27/30\n",
      "8/8 [==============================] - 0s 2ms/step - loss: 0.1943 - accuracy: 0.9291\n",
      "Epoch 28/30\n",
      "8/8 [==============================] - 0s 2ms/step - loss: 0.1981 - accuracy: 0.9244\n",
      "Epoch 29/30\n",
      "8/8 [==============================] - 0s 2ms/step - loss: 0.1921 - accuracy: 0.9424\n",
      "Epoch 30/30\n",
      "8/8 [==============================] - 0s 2ms/step - loss: 0.1929 - accuracy: 0.9221\n"
     ]
    },
    {
     "data": {
      "text/plain": [
       "<tensorflow.python.keras.callbacks.History at 0x2155e7c5f88>"
      ]
     },
     "execution_count": 6,
     "metadata": {},
     "output_type": "execute_result"
    }
   ],
   "source": [
    "# 딥러닝 알고리즘은 기본적으로 2진 분류를 수행하므로, 다수의 결과를 가지고 있는 데이터 학습시 성능 저하.\n",
    "# equential() : 딥러닝의 구조를 한 층 한 층 쌓아올릴 수 있게 해주는 함수.\n",
    "model2 = Sequential()  \n",
    "\n",
    "# model.add() 함수를 통해 필요한 층을 차례로 추가해줌.\n",
    "# input_dim : 특성데이터의 수. => 입력층( 4개 배치 ),  activation : 다음 층으로 어떻게 넘길지를 결정하는 부분(활성화 함수).\n",
    "model2.add(Dense(30, input_dim=4, activation='relu')) \n",
    "model2.add(Dense(1, activation='sigmoid'))\n",
    "\n",
    "# loss : 한번 신경망이 실행될 때마다 오차 값을 추적하는 함수, optimizer : 오차를 어떻게 줄여 나갈지 정하는 함수\n",
    "model2.compile(loss='mean_squared_error', optimizer='adam', metrics=['accuracy'])\n",
    "model2.fit(x_train, y_train, epochs=30, batch_size=10)"
   ]
  },
  {
   "cell_type": "code",
   "execution_count": 7,
   "metadata": {},
   "outputs": [
    {
     "data": {
      "text/plain": [
       "1.0"
      ]
     },
     "execution_count": 7,
     "metadata": {},
     "output_type": "execute_result"
    }
   ],
   "source": [
    "# 기본 딥러닝을 통한 예측 결과.\n",
    "# 로지스틱 회귀 모형에 비해 성능이 더 좋음을 알 수 있음.\n",
    "pred2 = model2.predict(x_test)\n",
    "res2 = (pred2 > 0.5).astype(int)\n",
    "accuracy_score(y_test, res2)"
   ]
  }
 ],
 "metadata": {
  "kernelspec": {
   "display_name": "Python 3",
   "language": "python",
   "name": "python3"
  },
  "language_info": {
   "codemirror_mode": {
    "name": "ipython",
    "version": 3
   },
   "file_extension": ".py",
   "mimetype": "text/x-python",
   "name": "python",
   "nbconvert_exporter": "python",
   "pygments_lexer": "ipython3",
   "version": "3.7.6"
  }
 },
 "nbformat": 4,
 "nbformat_minor": 4
}
