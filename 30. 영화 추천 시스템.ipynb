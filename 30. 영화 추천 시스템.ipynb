{
 "cells": [
  {
   "cell_type": "code",
   "execution_count": 1,
   "metadata": {},
   "outputs": [],
   "source": [
    "import time\n",
    "import numpy as np\n",
    "import pandas as pd\n",
    "import seaborn as sb\n",
    "import matplotlib.pyplot as plt\n",
    "plt.rcParams['font.family'] = 'Malgun Gothic'\n",
    "import warnings\n",
    "warnings.filterwarnings('ignore')"
   ]
  },
  {
   "cell_type": "markdown",
   "metadata": {},
   "source": [
    "#### MovieLens 데이터 분석"
   ]
  },
  {
   "cell_type": "code",
   "execution_count": 2,
   "metadata": {},
   "outputs": [
    {
     "data": {
      "text/html": [
       "<div>\n",
       "<style scoped>\n",
       "    .dataframe tbody tr th:only-of-type {\n",
       "        vertical-align: middle;\n",
       "    }\n",
       "\n",
       "    .dataframe tbody tr th {\n",
       "        vertical-align: top;\n",
       "    }\n",
       "\n",
       "    .dataframe thead th {\n",
       "        text-align: right;\n",
       "    }\n",
       "</style>\n",
       "<table border=\"1\" class=\"dataframe\">\n",
       "  <thead>\n",
       "    <tr style=\"text-align: right;\">\n",
       "      <th></th>\n",
       "      <th>user_id</th>\n",
       "      <th>movie_id</th>\n",
       "      <th>rating</th>\n",
       "      <th>time</th>\n",
       "    </tr>\n",
       "  </thead>\n",
       "  <tbody>\n",
       "    <tr>\n",
       "      <th>0</th>\n",
       "      <td>1</td>\n",
       "      <td>1193</td>\n",
       "      <td>5</td>\n",
       "      <td>978300760</td>\n",
       "    </tr>\n",
       "    <tr>\n",
       "      <th>1</th>\n",
       "      <td>1</td>\n",
       "      <td>661</td>\n",
       "      <td>3</td>\n",
       "      <td>978302109</td>\n",
       "    </tr>\n",
       "    <tr>\n",
       "      <th>2</th>\n",
       "      <td>1</td>\n",
       "      <td>914</td>\n",
       "      <td>3</td>\n",
       "      <td>978301968</td>\n",
       "    </tr>\n",
       "    <tr>\n",
       "      <th>3</th>\n",
       "      <td>1</td>\n",
       "      <td>3408</td>\n",
       "      <td>4</td>\n",
       "      <td>978300275</td>\n",
       "    </tr>\n",
       "    <tr>\n",
       "      <th>4</th>\n",
       "      <td>1</td>\n",
       "      <td>2355</td>\n",
       "      <td>5</td>\n",
       "      <td>978824291</td>\n",
       "    </tr>\n",
       "  </tbody>\n",
       "</table>\n",
       "</div>"
      ],
      "text/plain": [
       "   user_id  movie_id  rating       time\n",
       "0        1      1193       5  978300760\n",
       "1        1       661       3  978302109\n",
       "2        1       914       3  978301968\n",
       "3        1      3408       4  978300275\n",
       "4        1      2355       5  978824291"
      ]
     },
     "execution_count": 2,
     "metadata": {},
     "output_type": "execute_result"
    }
   ],
   "source": [
    "# 1번째 데이터 읽기.\n",
    "# pd.io.parsers.read_csv() : csv 확장자가 아닌 데이터를 가져올 수 있음.\n",
    "rating_data = pd.io.parsers.read_csv('data10/ml-1m/ratings.dat', names=['user_id', 'movie_id', 'rating', 'time'], delimiter='::' )\n",
    "rating_data.head()"
   ]
  },
  {
   "cell_type": "code",
   "execution_count": 3,
   "metadata": {},
   "outputs": [
    {
     "data": {
      "text/html": [
       "<div>\n",
       "<style scoped>\n",
       "    .dataframe tbody tr th:only-of-type {\n",
       "        vertical-align: middle;\n",
       "    }\n",
       "\n",
       "    .dataframe tbody tr th {\n",
       "        vertical-align: top;\n",
       "    }\n",
       "\n",
       "    .dataframe thead th {\n",
       "        text-align: right;\n",
       "    }\n",
       "</style>\n",
       "<table border=\"1\" class=\"dataframe\">\n",
       "  <thead>\n",
       "    <tr style=\"text-align: right;\">\n",
       "      <th></th>\n",
       "      <th>movie_id</th>\n",
       "      <th>title</th>\n",
       "      <th>genre</th>\n",
       "    </tr>\n",
       "  </thead>\n",
       "  <tbody>\n",
       "    <tr>\n",
       "      <th>0</th>\n",
       "      <td>1</td>\n",
       "      <td>Toy Story (1995)</td>\n",
       "      <td>Animation|Children's|Comedy</td>\n",
       "    </tr>\n",
       "    <tr>\n",
       "      <th>1</th>\n",
       "      <td>2</td>\n",
       "      <td>Jumanji (1995)</td>\n",
       "      <td>Adventure|Children's|Fantasy</td>\n",
       "    </tr>\n",
       "    <tr>\n",
       "      <th>2</th>\n",
       "      <td>3</td>\n",
       "      <td>Grumpier Old Men (1995)</td>\n",
       "      <td>Comedy|Romance</td>\n",
       "    </tr>\n",
       "    <tr>\n",
       "      <th>3</th>\n",
       "      <td>4</td>\n",
       "      <td>Waiting to Exhale (1995)</td>\n",
       "      <td>Comedy|Drama</td>\n",
       "    </tr>\n",
       "    <tr>\n",
       "      <th>4</th>\n",
       "      <td>5</td>\n",
       "      <td>Father of the Bride Part II (1995)</td>\n",
       "      <td>Comedy</td>\n",
       "    </tr>\n",
       "  </tbody>\n",
       "</table>\n",
       "</div>"
      ],
      "text/plain": [
       "   movie_id                               title                         genre\n",
       "0         1                    Toy Story (1995)   Animation|Children's|Comedy\n",
       "1         2                      Jumanji (1995)  Adventure|Children's|Fantasy\n",
       "2         3             Grumpier Old Men (1995)                Comedy|Romance\n",
       "3         4            Waiting to Exhale (1995)                  Comedy|Drama\n",
       "4         5  Father of the Bride Part II (1995)                        Comedy"
      ]
     },
     "execution_count": 3,
     "metadata": {},
     "output_type": "execute_result"
    }
   ],
   "source": [
    "# 2번째 데이터 읽기.\n",
    "movie_data = pd.io.parsers.read_csv('data10/ml-1m/movies.dat', names=['movie_id', 'title', 'genre'], delimiter='::' )\n",
    "movie_data.head()"
   ]
  },
  {
   "cell_type": "code",
   "execution_count": 4,
   "metadata": {},
   "outputs": [
    {
     "data": {
      "text/html": [
       "<div>\n",
       "<style scoped>\n",
       "    .dataframe tbody tr th:only-of-type {\n",
       "        vertical-align: middle;\n",
       "    }\n",
       "\n",
       "    .dataframe tbody tr th {\n",
       "        vertical-align: top;\n",
       "    }\n",
       "\n",
       "    .dataframe thead th {\n",
       "        text-align: right;\n",
       "    }\n",
       "</style>\n",
       "<table border=\"1\" class=\"dataframe\">\n",
       "  <thead>\n",
       "    <tr style=\"text-align: right;\">\n",
       "      <th></th>\n",
       "      <th>user_id</th>\n",
       "      <th>gender</th>\n",
       "      <th>age</th>\n",
       "      <th>occupation</th>\n",
       "      <th>zipcode</th>\n",
       "    </tr>\n",
       "  </thead>\n",
       "  <tbody>\n",
       "    <tr>\n",
       "      <th>0</th>\n",
       "      <td>1</td>\n",
       "      <td>F</td>\n",
       "      <td>1</td>\n",
       "      <td>10</td>\n",
       "      <td>48067</td>\n",
       "    </tr>\n",
       "    <tr>\n",
       "      <th>1</th>\n",
       "      <td>2</td>\n",
       "      <td>M</td>\n",
       "      <td>56</td>\n",
       "      <td>16</td>\n",
       "      <td>70072</td>\n",
       "    </tr>\n",
       "    <tr>\n",
       "      <th>2</th>\n",
       "      <td>3</td>\n",
       "      <td>M</td>\n",
       "      <td>25</td>\n",
       "      <td>15</td>\n",
       "      <td>55117</td>\n",
       "    </tr>\n",
       "    <tr>\n",
       "      <th>3</th>\n",
       "      <td>4</td>\n",
       "      <td>M</td>\n",
       "      <td>45</td>\n",
       "      <td>7</td>\n",
       "      <td>02460</td>\n",
       "    </tr>\n",
       "    <tr>\n",
       "      <th>4</th>\n",
       "      <td>5</td>\n",
       "      <td>M</td>\n",
       "      <td>25</td>\n",
       "      <td>20</td>\n",
       "      <td>55455</td>\n",
       "    </tr>\n",
       "  </tbody>\n",
       "</table>\n",
       "</div>"
      ],
      "text/plain": [
       "   user_id gender  age  occupation zipcode\n",
       "0        1      F    1          10   48067\n",
       "1        2      M   56          16   70072\n",
       "2        3      M   25          15   55117\n",
       "3        4      M   45           7   02460\n",
       "4        5      M   25          20   55455"
      ]
     },
     "execution_count": 4,
     "metadata": {},
     "output_type": "execute_result"
    }
   ],
   "source": [
    "# 3번째 데이터 읽기.\n",
    "user_data = pd.io.parsers.read_csv('data10/ml-1m/users.dat', names=['user_id', 'gender', 'age', 'occupation', 'zipcode'], \n",
    "                                    delimiter='::' )\n",
    "user_data.head()"
   ]
  },
  {
   "cell_type": "code",
   "execution_count": 5,
   "metadata": {},
   "outputs": [
    {
     "name": "stdout",
     "output_type": "stream",
     "text": [
      "user_id     0\n",
      "movie_id    0\n",
      "rating      0\n",
      "time        0\n",
      "dtype: int64\n",
      "\n",
      "movie_id    0\n",
      "title       0\n",
      "genre       0\n",
      "dtype: int64\n",
      "\n",
      "user_id       0\n",
      "gender        0\n",
      "age           0\n",
      "occupation    0\n",
      "zipcode       0\n",
      "dtype: int64\n"
     ]
    }
   ],
   "source": [
    "# 결측치 확인.\n",
    "print(rating_data.isna().sum())\n",
    "print('')\n",
    "print(movie_data.isna().sum())\n",
    "print('')\n",
    "print(user_data.isna().sum())"
   ]
  },
  {
   "cell_type": "code",
   "execution_count": 6,
   "metadata": {},
   "outputs": [
    {
     "name": "stdout",
     "output_type": "stream",
     "text": [
      "전체 영화 Data row 개수 : 3883개\n",
      "전체 영화중 중복을 제외한 Data row 개수 : 3883개\n"
     ]
    }
   ],
   "source": [
    "# 전체 영화 데이터의 Row의 개수.\n",
    "print(f'전체 영화 Data row 개수 : {len(movie_data)}개')\n",
    "\n",
    "# 전체 영화로부터 movie_id의 중복을 제외한 Row의 개수.\n",
    "print(f'전체 영화중 중복을 제외한 Data row 개수 : {len(movie_data[\"movie_id\"].unique())}개')"
   ]
  },
  {
   "cell_type": "code",
   "execution_count": 7,
   "metadata": {},
   "outputs": [
    {
     "data": {
      "text/plain": [
       "1919      3\n",
       "1920      2\n",
       "1921      1\n",
       "1922      2\n",
       "1923      3\n",
       "       ... \n",
       "1996    345\n",
       "1997    315\n",
       "1998    337\n",
       "1999    283\n",
       "2000    156\n",
       "Name: Year, Length: 81, dtype: int64"
      ]
     },
     "execution_count": 7,
     "metadata": {},
     "output_type": "execute_result"
    }
   ],
   "source": [
    "# 년도별 영화 수를 가져옴.\n",
    "# movie_data['title'][0][-5 : -1]\n",
    "movie_data['Year'] = movie_data['title'].apply(lambda x : x[-5 : -1])\n",
    "movie_data['Year'].value_counts().sort_index()"
   ]
  },
  {
   "cell_type": "code",
   "execution_count": 8,
   "metadata": {},
   "outputs": [
    {
     "data": {
      "text/plain": [
       "1910       3\n",
       "1920      34\n",
       "1930      77\n",
       "1940     126\n",
       "1950     168\n",
       "1960     191\n",
       "1970     247\n",
       "1980     598\n",
       "1990    2283\n",
       "2000     156\n",
       "Name: Year_term, dtype: int64"
      ]
     },
     "execution_count": 8,
     "metadata": {},
     "output_type": "execute_result"
    }
   ],
   "source": [
    "# 각 영화의 연대별 개수. => 변수명 : Year_term으로 지정.\n",
    "movie_data['Year_term'] = movie_data['Year'].apply(lambda x : x[-4 : -1] + '0')\n",
    "movie_year_term = movie_data['Year_term'].value_counts().sort_index()\n",
    "movie_year_term"
   ]
  },
  {
   "cell_type": "code",
   "execution_count": 9,
   "metadata": {},
   "outputs": [
    {
     "data": {
      "image/png": "[encoded data removed]",
      "text/plain": [
       "<Figure size 576x360 with 1 Axes>"
      ]
     },
     "metadata": {
      "needs_background": "light"
     },
     "output_type": "display_data"
    }
   ],
   "source": [
    "# 연도별 영화 수에 대한 시각화.\n",
    "plt.figure(figsize=(8,5))\n",
    "sb.barplot(movie_year_term.index, movie_year_term.values, palette='rainbow', alpha=.5)\n",
    "plt.title('연대별 영화 개수')\n",
    "plt.xlabel('년대')\n",
    "plt.ylabel('영화 수')\n",
    "plt.grid()\n",
    "plt.show()"
   ]
  },
  {
   "cell_type": "code",
   "execution_count": 10,
   "metadata": {},
   "outputs": [
    {
     "name": "stdout",
     "output_type": "stream",
     "text": [
      "{'Animation': 105, \"Children's\": 251, 'Comedy': 1200, 'Adventure': 283, 'Fantasy': 68, 'Romance': 471, 'Drama': 1603, 'Action': 503, 'Crime': 211, 'Thriller': 492, 'Horror': 343, 'Sci-Fi': 276, 'Documentary': 127, 'War': 143, 'Musical': 114, 'Mystery': 106, 'Film-Noir': 44, 'Western': 68}\n"
     ]
    }
   ],
   "source": [
    "# 가장 많이 사용된 장르의 조합을 출력.\n",
    "movie_data['genre'].value_counts\n",
    "\n",
    "# 가장 많이 등장한 장르 속성을 추출.\n",
    "# 장르를 담을 딕셔너리 생성.\n",
    "genre_dic = {}\n",
    "\n",
    "# 영화의 수 만큼 반복하면서 장르를 추출.\n",
    "for genre in movie_data['genre'] :\n",
    "    # print(genre)\n",
    "    \n",
    "    # '|' 기준으로 문자열 Split.\n",
    "    parsed_genre = genre.split('|')\n",
    "    #print(parsed_genre)\n",
    "    \n",
    "    for name in parsed_genre :\n",
    "        # print(name)\n",
    "        \n",
    "        # 해당 장르로 저장된 것이 없을 경우.\n",
    "        if genre_dic.get(name) == None :\n",
    "            genre_dic[name] = 1\n",
    "        \n",
    "        # 해당 장르로 저장된 것이 있을 경우.\n",
    "        else :\n",
    "            genre_dic[name] += 1\n",
    "\n",
    "print(genre_dic)"
   ]
  },
  {
   "cell_type": "code",
   "execution_count": 11,
   "metadata": {},
   "outputs": [
    {
     "data": {
      "image/png": "[encoded data removed]",
      "text/plain": [
       "<Figure size 576x360 with 1 Axes>"
      ]
     },
     "metadata": {
      "needs_background": "light"
     },
     "output_type": "display_data"
    }
   ],
   "source": [
    "# 장르 속성에 대한 시각화.\n",
    "plt.figure(figsize=(8,5))\n",
    "sb.barplot(list(genre_dic.keys()), list(genre_dic.values()), palette='rainbow', alpha=.5)\n",
    "plt.title('장르별 수치')\n",
    "plt.xlabel('장르')\n",
    "plt.ylabel('영화 수')\n",
    "plt.xticks(rotation=90)\n",
    "plt.grid()\n",
    "plt.show()"
   ]
  },
  {
   "cell_type": "code",
   "execution_count": 12,
   "metadata": {},
   "outputs": [
    {
     "name": "stdout",
     "output_type": "stream",
     "text": [
      "사용자 전체 row의 수 : 6040명\n",
      "사용자 전체중 중복을 제외한 row의 수 : 6040명\n"
     ]
    }
   ],
   "source": [
    "# 전체 사용자 수 파악.\n",
    "print(f'사용자 전체 row의 수 : {len(user_data)}명')\n",
    "\n",
    "# 전체 user_id 중 중복된 것을 제외한 Row의 수.\n",
    "print(f'사용자 전체중 중복을 제외한 row의 수 : {len(user_data[\"user_id\"].unique())}명')"
   ]
  },
  {
   "cell_type": "code",
   "execution_count": 13,
   "metadata": {},
   "outputs": [
    {
     "data": {
      "image/png": "[encoded data removed]",
      "text/plain": [
       "<Figure size 576x360 with 1 Axes>"
      ]
     },
     "metadata": {
      "needs_background": "light"
     },
     "output_type": "display_data"
    }
   ],
   "source": [
    "# 성별에 따른 사용자 수를 시각화.\n",
    "user_gender = user_data['gender'].value_counts()\n",
    "plt.figure(figsize=(8,5))\n",
    "sb.barplot(user_gender.index, user_gender.values, palette='Set2', alpha=.5)\n",
    "plt.text(0, 4450, f'{user_gender[0]}명', va='center', ha='center')\n",
    "plt.text(1, 1800, f'{user_gender[1]}명', va='center', ha='center')\n",
    "plt.title('성별에 따른 사용자 수')\n",
    "plt.xlabel('성별')\n",
    "plt.ylabel('사용자 수')\n",
    "plt.grid()\n",
    "plt.show()"
   ]
  },
  {
   "cell_type": "code",
   "execution_count": 14,
   "metadata": {},
   "outputs": [
    {
     "data": {
      "text/plain": [
       "'20대'"
      ]
     },
     "execution_count": 14,
     "metadata": {},
     "output_type": "execute_result"
    }
   ],
   "source": [
    "# 연령대별 사용자수를 시각화.\n",
    "# 9세 이하는 이상치로 취급.\n",
    "\n",
    "# 연령대 구별 함수 생성.\n",
    "def age_classification(age) :\n",
    "    if age < 10 :\n",
    "        return '이상치'\n",
    "    else :\n",
    "        return f'{str(age//10 *10)}대'\n",
    "age_classification(26)"
   ]
  },
  {
   "cell_type": "code",
   "execution_count": 15,
   "metadata": {},
   "outputs": [
    {
     "data": {
      "image/png": "[encoded data removed]",
      "text/plain": [
       "<Figure size 576x360 with 1 Axes>"
      ]
     },
     "metadata": {
      "needs_background": "light"
     },
     "output_type": "display_data"
    }
   ],
   "source": [
    "user_data['연령대'] = user_data['age'].apply(lambda x : age_classification(x))\n",
    "user_ages = user_data['연령대'].value_counts().sort_index()\n",
    "plt.figure(figsize=(8,5))\n",
    "sb.barplot(user_ages.index, user_ages.values, palette='rainbow', alpha=.5)\n",
    "plt.title('연령대별 사용자 수')\n",
    "plt.xlabel('연령대')\n",
    "plt.ylabel('사용자 수')\n",
    "plt.grid()\n",
    "plt.show()"
   ]
  },
  {
   "cell_type": "code",
   "execution_count": 16,
   "metadata": {},
   "outputs": [
    {
     "data": {
      "image/png": "[encoded data removed]",
      "text/plain": [
       "<Figure size 576x360 with 1 Axes>"
      ]
     },
     "metadata": {
      "needs_background": "light"
     },
     "output_type": "display_data"
    }
   ],
   "source": [
    "# movie_id(익명으로 나타난 영화들)에 따른 평가 개수에 대한 분포 시각화.\n",
    "rate_cnt = rating_data.groupby('movie_id')['rating'].count().values\n",
    "plt.figure(figsize=(8,5))\n",
    "plt.hist(rate_cnt, bins=150, alpha=.8, color='violet')\n",
    "plt.xlabel('어떤 영화의 평점을 받은 총 개수')\n",
    "plt.ylabel('빈도')\n",
    "plt.grid()\n",
    "plt.show()"
   ]
  },
  {
   "cell_type": "code",
   "execution_count": 17,
   "metadata": {},
   "outputs": [
    {
     "data": {
      "image/png": "[encoded data removed]",
      "text/plain": [
       "<Figure size 576x360 with 1 Axes>"
      ]
     },
     "metadata": {
      "needs_background": "light"
     },
     "output_type": "display_data"
    }
   ],
   "source": [
    "# 영화별 평균 평점.\n",
    "movie_grouped_rating_info = rating_data.groupby('movie_id')['rating'].agg(['count', 'mean'])\n",
    "movie_grouped_rating_info.columns = ['rated_cnt', 'rated_mean']\n",
    "movie_grouped_rating_info.head()\n",
    "\n",
    "\n",
    "# 영화별로 평가한 평균 영화 점수 시각화. \n",
    "plt.figure(figsize=(8,5))\n",
    "movie_grouped_rating_info['rated_mean'].hist(bins=150, alpha=.8, color='lightcoral')\n",
    "plt.show()"
   ]
  },
  {
   "cell_type": "code",
   "execution_count": 18,
   "metadata": {},
   "outputs": [
    {
     "data": {
      "text/html": [
       "<div>\n",
       "<style scoped>\n",
       "    .dataframe tbody tr th:only-of-type {\n",
       "        vertical-align: middle;\n",
       "    }\n",
       "\n",
       "    .dataframe tbody tr th {\n",
       "        vertical-align: top;\n",
       "    }\n",
       "\n",
       "    .dataframe thead th {\n",
       "        text-align: right;\n",
       "    }\n",
       "</style>\n",
       "<table border=\"1\" class=\"dataframe\">\n",
       "  <thead>\n",
       "    <tr style=\"text-align: right;\">\n",
       "      <th></th>\n",
       "      <th>title</th>\n",
       "      <th>rated_mean</th>\n",
       "    </tr>\n",
       "  </thead>\n",
       "  <tbody>\n",
       "    <tr>\n",
       "      <th>1839</th>\n",
       "      <td>Seven Samurai (The Magnificent Seven) (Shichin...</td>\n",
       "      <td>4.560510</td>\n",
       "    </tr>\n",
       "    <tr>\n",
       "      <th>309</th>\n",
       "      <td>Shawshank Redemption, The (1994)</td>\n",
       "      <td>4.554558</td>\n",
       "    </tr>\n",
       "    <tr>\n",
       "      <th>802</th>\n",
       "      <td>Godfather, The (1972)</td>\n",
       "      <td>4.524966</td>\n",
       "    </tr>\n",
       "    <tr>\n",
       "      <th>708</th>\n",
       "      <td>Close Shave, A (1995)</td>\n",
       "      <td>4.520548</td>\n",
       "    </tr>\n",
       "    <tr>\n",
       "      <th>49</th>\n",
       "      <td>Usual Suspects, The (1995)</td>\n",
       "      <td>4.517106</td>\n",
       "    </tr>\n",
       "    <tr>\n",
       "      <th>513</th>\n",
       "      <td>Schindler's List (1993)</td>\n",
       "      <td>4.510417</td>\n",
       "    </tr>\n",
       "    <tr>\n",
       "      <th>1066</th>\n",
       "      <td>Wrong Trousers, The (1993)</td>\n",
       "      <td>4.507937</td>\n",
       "    </tr>\n",
       "    <tr>\n",
       "      <th>861</th>\n",
       "      <td>Sunset Blvd. (a.k.a. Sunset Boulevard) (1950)</td>\n",
       "      <td>4.491489</td>\n",
       "    </tr>\n",
       "    <tr>\n",
       "      <th>1108</th>\n",
       "      <td>Raiders of the Lost Ark (1981)</td>\n",
       "      <td>4.477725</td>\n",
       "    </tr>\n",
       "    <tr>\n",
       "      <th>843</th>\n",
       "      <td>Rear Window (1954)</td>\n",
       "      <td>4.476190</td>\n",
       "    </tr>\n",
       "  </tbody>\n",
       "</table>\n",
       "</div>"
      ],
      "text/plain": [
       "                                                  title  rated_mean\n",
       "1839  Seven Samurai (The Magnificent Seven) (Shichin...    4.560510\n",
       "309                    Shawshank Redemption, The (1994)    4.554558\n",
       "802                               Godfather, The (1972)    4.524966\n",
       "708                               Close Shave, A (1995)    4.520548\n",
       "49                           Usual Suspects, The (1995)    4.517106\n",
       "513                             Schindler's List (1993)    4.510417\n",
       "1066                         Wrong Trousers, The (1993)    4.507937\n",
       "861       Sunset Blvd. (a.k.a. Sunset Boulevard) (1950)    4.491489\n",
       "1108                     Raiders of the Lost Ark (1981)    4.477725\n",
       "843                                  Rear Window (1954)    4.476190"
      ]
     },
     "execution_count": 18,
     "metadata": {},
     "output_type": "execute_result"
    }
   ],
   "source": [
    "# 100번 이상의 평가를 받은 영화 중, 평점이 높은 10개의 영화를 가져옴.\n",
    "# 평점 평균 정보와 영화 정보를 합침.\n",
    "# on : 지정된 컬럼의 값이 같은 것만을 가져옴.\n",
    "# how : left, right 결측치로 설정할 데이터 프레임 지정.\n",
    "movie_merge = movie_grouped_rating_info.merge(movie_data, on='movie_id', how='left')\n",
    "movie_100 = movie_merge.query('100 <= rated_cnt')\n",
    "movie_100.sort_values(by='rated_mean', ascending=False, inplace=True)\n",
    "movie_100[['title','rated_mean']].head(10)"
   ]
  },
  {
   "cell_type": "code",
   "execution_count": 19,
   "metadata": {},
   "outputs": [
    {
     "data": {
      "image/png": "[encoded data removed]",
      "text/plain": [
       "<Figure size 576x360 with 1 Axes>"
      ]
     },
     "metadata": {
      "needs_background": "light"
     },
     "output_type": "display_data"
    }
   ],
   "source": [
    "# 유저별로 평가한 영화 개수 시각화.\n",
    "user_grouped_rating_info = rating_data.groupby('user_id')['rating'].agg(['count', 'mean', 'std'])\n",
    "user_grouped_rating_info.columns = ['rated_cnt', 'rated_mean', 'rated_std']\n",
    "plt.figure(figsize=(8,5))\n",
    "user_grouped_rating_info['rated_cnt'].hist(bins=150, color='lemonchiffon')\n",
    "plt.show()"
   ]
  },
  {
   "cell_type": "code",
   "execution_count": 20,
   "metadata": {},
   "outputs": [
    {
     "data": {
      "image/png": "[encoded data removed]",
      "text/plain": [
       "<Figure size 576x360 with 1 Axes>"
      ]
     },
     "metadata": {
      "needs_background": "light"
     },
     "output_type": "display_data"
    }
   ],
   "source": [
    "# 유저별로 평가한 평균 영화 점수 시각화.\n",
    "plt.figure(figsize=(8,5))\n",
    "user_grouped_rating_info['rated_mean'].hist(bins=150, color='palegreen', alpha=.5)\n",
    "plt.show()"
   ]
  },
  {
   "cell_type": "code",
   "execution_count": 21,
   "metadata": {},
   "outputs": [
    {
     "data": {
      "image/png": "[encoded data removed]",
      "text/plain": [
       "<Figure size 576x360 with 1 Axes>"
      ]
     },
     "metadata": {
      "needs_background": "light"
     },
     "output_type": "display_data"
    }
   ],
   "source": [
    "# 유저별로 평가한 영화 점수 표준편차 시각화.\n",
    "plt.figure(figsize=(8,5))\n",
    "user_grouped_rating_info['rated_std'].hist(bins=150, color='skyblue', alpha=.5)\n",
    "plt.show()"
   ]
  },
  {
   "cell_type": "code",
   "execution_count": 22,
   "metadata": {},
   "outputs": [
    {
     "data": {
      "text/html": [
       "<div>\n",
       "<style scoped>\n",
       "    .dataframe tbody tr th:only-of-type {\n",
       "        vertical-align: middle;\n",
       "    }\n",
       "\n",
       "    .dataframe tbody tr th {\n",
       "        vertical-align: top;\n",
       "    }\n",
       "\n",
       "    .dataframe thead tr th {\n",
       "        text-align: left;\n",
       "    }\n",
       "\n",
       "    .dataframe thead tr:last-of-type th {\n",
       "        text-align: right;\n",
       "    }\n",
       "</style>\n",
       "<table border=\"1\" class=\"dataframe\">\n",
       "  <thead>\n",
       "    <tr>\n",
       "      <th></th>\n",
       "      <th colspan=\"21\" halign=\"left\">rating</th>\n",
       "    </tr>\n",
       "    <tr>\n",
       "      <th>movie_id</th>\n",
       "      <th>1</th>\n",
       "      <th>2</th>\n",
       "      <th>3</th>\n",
       "      <th>4</th>\n",
       "      <th>5</th>\n",
       "      <th>6</th>\n",
       "      <th>7</th>\n",
       "      <th>8</th>\n",
       "      <th>9</th>\n",
       "      <th>10</th>\n",
       "      <th>...</th>\n",
       "      <th>3943</th>\n",
       "      <th>3944</th>\n",
       "      <th>3945</th>\n",
       "      <th>3946</th>\n",
       "      <th>3947</th>\n",
       "      <th>3948</th>\n",
       "      <th>3949</th>\n",
       "      <th>3950</th>\n",
       "      <th>3951</th>\n",
       "      <th>3952</th>\n",
       "    </tr>\n",
       "    <tr>\n",
       "      <th>user_id</th>\n",
       "      <th></th>\n",
       "      <th></th>\n",
       "      <th></th>\n",
       "      <th></th>\n",
       "      <th></th>\n",
       "      <th></th>\n",
       "      <th></th>\n",
       "      <th></th>\n",
       "      <th></th>\n",
       "      <th></th>\n",
       "      <th></th>\n",
       "      <th></th>\n",
       "      <th></th>\n",
       "      <th></th>\n",
       "      <th></th>\n",
       "      <th></th>\n",
       "      <th></th>\n",
       "      <th></th>\n",
       "      <th></th>\n",
       "      <th></th>\n",
       "      <th></th>\n",
       "    </tr>\n",
       "  </thead>\n",
       "  <tbody>\n",
       "    <tr>\n",
       "      <th>1</th>\n",
       "      <td>5.0</td>\n",
       "      <td>NaN</td>\n",
       "      <td>NaN</td>\n",
       "      <td>NaN</td>\n",
       "      <td>NaN</td>\n",
       "      <td>NaN</td>\n",
       "      <td>NaN</td>\n",
       "      <td>NaN</td>\n",
       "      <td>NaN</td>\n",
       "      <td>NaN</td>\n",
       "      <td>...</td>\n",
       "      <td>NaN</td>\n",
       "      <td>NaN</td>\n",
       "      <td>NaN</td>\n",
       "      <td>NaN</td>\n",
       "      <td>NaN</td>\n",
       "      <td>NaN</td>\n",
       "      <td>NaN</td>\n",
       "      <td>NaN</td>\n",
       "      <td>NaN</td>\n",
       "      <td>NaN</td>\n",
       "    </tr>\n",
       "    <tr>\n",
       "      <th>2</th>\n",
       "      <td>NaN</td>\n",
       "      <td>NaN</td>\n",
       "      <td>NaN</td>\n",
       "      <td>NaN</td>\n",
       "      <td>NaN</td>\n",
       "      <td>NaN</td>\n",
       "      <td>NaN</td>\n",
       "      <td>NaN</td>\n",
       "      <td>NaN</td>\n",
       "      <td>NaN</td>\n",
       "      <td>...</td>\n",
       "      <td>NaN</td>\n",
       "      <td>NaN</td>\n",
       "      <td>NaN</td>\n",
       "      <td>NaN</td>\n",
       "      <td>NaN</td>\n",
       "      <td>NaN</td>\n",
       "      <td>NaN</td>\n",
       "      <td>NaN</td>\n",
       "      <td>NaN</td>\n",
       "      <td>NaN</td>\n",
       "    </tr>\n",
       "    <tr>\n",
       "      <th>3</th>\n",
       "      <td>NaN</td>\n",
       "      <td>NaN</td>\n",
       "      <td>NaN</td>\n",
       "      <td>NaN</td>\n",
       "      <td>NaN</td>\n",
       "      <td>NaN</td>\n",
       "      <td>NaN</td>\n",
       "      <td>NaN</td>\n",
       "      <td>NaN</td>\n",
       "      <td>NaN</td>\n",
       "      <td>...</td>\n",
       "      <td>NaN</td>\n",
       "      <td>NaN</td>\n",
       "      <td>NaN</td>\n",
       "      <td>NaN</td>\n",
       "      <td>NaN</td>\n",
       "      <td>NaN</td>\n",
       "      <td>NaN</td>\n",
       "      <td>NaN</td>\n",
       "      <td>NaN</td>\n",
       "      <td>NaN</td>\n",
       "    </tr>\n",
       "    <tr>\n",
       "      <th>4</th>\n",
       "      <td>NaN</td>\n",
       "      <td>NaN</td>\n",
       "      <td>NaN</td>\n",
       "      <td>NaN</td>\n",
       "      <td>NaN</td>\n",
       "      <td>NaN</td>\n",
       "      <td>NaN</td>\n",
       "      <td>NaN</td>\n",
       "      <td>NaN</td>\n",
       "      <td>NaN</td>\n",
       "      <td>...</td>\n",
       "      <td>NaN</td>\n",
       "      <td>NaN</td>\n",
       "      <td>NaN</td>\n",
       "      <td>NaN</td>\n",
       "      <td>NaN</td>\n",
       "      <td>NaN</td>\n",
       "      <td>NaN</td>\n",
       "      <td>NaN</td>\n",
       "      <td>NaN</td>\n",
       "      <td>NaN</td>\n",
       "    </tr>\n",
       "    <tr>\n",
       "      <th>5</th>\n",
       "      <td>NaN</td>\n",
       "      <td>NaN</td>\n",
       "      <td>NaN</td>\n",
       "      <td>NaN</td>\n",
       "      <td>NaN</td>\n",
       "      <td>2.0</td>\n",
       "      <td>NaN</td>\n",
       "      <td>NaN</td>\n",
       "      <td>NaN</td>\n",
       "      <td>NaN</td>\n",
       "      <td>...</td>\n",
       "      <td>NaN</td>\n",
       "      <td>NaN</td>\n",
       "      <td>NaN</td>\n",
       "      <td>NaN</td>\n",
       "      <td>NaN</td>\n",
       "      <td>NaN</td>\n",
       "      <td>NaN</td>\n",
       "      <td>NaN</td>\n",
       "      <td>NaN</td>\n",
       "      <td>NaN</td>\n",
       "    </tr>\n",
       "  </tbody>\n",
       "</table>\n",
       "<p>5 rows × 3706 columns</p>\n",
       "</div>"
      ],
      "text/plain": [
       "         rating                                               ...            \\\n",
       "movie_id   1    2    3    4    5    6    7    8    9    10    ... 3943 3944   \n",
       "user_id                                                       ...             \n",
       "1           5.0  NaN  NaN  NaN  NaN  NaN  NaN  NaN  NaN  NaN  ...  NaN  NaN   \n",
       "2           NaN  NaN  NaN  NaN  NaN  NaN  NaN  NaN  NaN  NaN  ...  NaN  NaN   \n",
       "3           NaN  NaN  NaN  NaN  NaN  NaN  NaN  NaN  NaN  NaN  ...  NaN  NaN   \n",
       "4           NaN  NaN  NaN  NaN  NaN  NaN  NaN  NaN  NaN  NaN  ...  NaN  NaN   \n",
       "5           NaN  NaN  NaN  NaN  NaN  2.0  NaN  NaN  NaN  NaN  ...  NaN  NaN   \n",
       "\n",
       "                                                  \n",
       "movie_id 3945 3946 3947 3948 3949 3950 3951 3952  \n",
       "user_id                                           \n",
       "1         NaN  NaN  NaN  NaN  NaN  NaN  NaN  NaN  \n",
       "2         NaN  NaN  NaN  NaN  NaN  NaN  NaN  NaN  \n",
       "3         NaN  NaN  NaN  NaN  NaN  NaN  NaN  NaN  \n",
       "4         NaN  NaN  NaN  NaN  NaN  NaN  NaN  NaN  \n",
       "5         NaN  NaN  NaN  NaN  NaN  NaN  NaN  NaN  \n",
       "\n",
       "[5 rows x 3706 columns]"
      ]
     },
     "execution_count": 22,
     "metadata": {},
     "output_type": "execute_result"
    }
   ],
   "source": [
    "# unstack() 함수로 user_id, movie_id를 축으로 하는 데이터를 생성.\n",
    "a = rating_data[['user_id', 'movie_id', 'rating']]\n",
    "b = a.set_index(['user_id', 'movie_id'])\n",
    "rating_table = b.unstack()\n",
    "rating_table.head()"
   ]
  },
  {
   "cell_type": "markdown",
   "metadata": {},
   "source": [
    "#### 수학적 기법을 활용한 평점 예측 모델\n",
    "- pip install surprise : 추천 시스템 패키지."
   ]
  },
  {
   "cell_type": "code",
   "execution_count": 23,
   "metadata": {},
   "outputs": [],
   "source": [
    "from surprise import SVD, Dataset, Reader, accuracy\n",
    "from surprise.model_selection import train_test_split"
   ]
  },
  {
   "cell_type": "code",
   "execution_count": 24,
   "metadata": {},
   "outputs": [
    {
     "data": {
      "text/plain": [
       "min    1\n",
       "max    5\n",
       "Name: rating, dtype: int64"
      ]
     },
     "execution_count": 24,
     "metadata": {},
     "output_type": "execute_result"
    }
   ],
   "source": [
    "# 평점 정보 확인.\n",
    "rating_data['rating'].agg(['min', 'max'])"
   ]
  },
  {
   "cell_type": "code",
   "execution_count": 25,
   "metadata": {},
   "outputs": [
    {
     "name": "stdout",
     "output_type": "stream",
     "text": [
      "총 학습시간 : 53.83초\n"
     ]
    }
   ],
   "source": [
    "# Reader() : 데이터를 읽어들이기 위한 객체.\n",
    "reader = Reader(rating_scale=(1, 5))\n",
    "\n",
    "# 데이터 생성.\n",
    "a = rating_data[['user_id', 'movie_id', 'rating']]\n",
    "data = Dataset.load_from_df(a, reader)\n",
    "\n",
    "# surprise 라이브러리가 인식할 수 있는 학습 데이터셋을 구성.\n",
    "train_data = data.build_full_trainset()\n",
    "# 학습한 모델을 기반으로 빈공간의 점수를 예측.\n",
    "# build_anti_testset() : 학습에 사용된 데이터에서 0으로 평가되어 있는 부분의 데이터. \n",
    "# user 혹은 item은 학습에 반드시 등장한 적이 있어야 한다는 전제 조건을 필요.\n",
    "# 여기서는 특정 사용자가 보지 않은 영화에 대한 평점을 이룰 예정이니 필요 없음.\n",
    "\n",
    "# SVD(Singular Value Decomposition) : 특이값 분해 알고리즘 모델 기반의 학습.\n",
    "train_start = time.time()\n",
    "\n",
    "model = SVD(n_factors=8, lr_all=0.005, reg_all=0.02, n_epochs=100)\n",
    "model.fit(train_data)\n",
    "\n",
    "train_end = time.time()\n",
    "\n",
    "print(f'총 학습시간 : {round(train_end - train_start, 3)}초')"
   ]
  },
  {
   "cell_type": "code",
   "execution_count": 26,
   "metadata": {},
   "outputs": [
    {
     "data": {
      "text/html": [
       "<div>\n",
       "<style scoped>\n",
       "    .dataframe tbody tr th:only-of-type {\n",
       "        vertical-align: middle;\n",
       "    }\n",
       "\n",
       "    .dataframe tbody tr th {\n",
       "        vertical-align: top;\n",
       "    }\n",
       "\n",
       "    .dataframe thead th {\n",
       "        text-align: right;\n",
       "    }\n",
       "</style>\n",
       "<table border=\"1\" class=\"dataframe\">\n",
       "  <thead>\n",
       "    <tr style=\"text-align: right;\">\n",
       "      <th></th>\n",
       "      <th>user_id</th>\n",
       "      <th>movie_id</th>\n",
       "      <th>rating</th>\n",
       "      <th>time</th>\n",
       "    </tr>\n",
       "  </thead>\n",
       "  <tbody>\n",
       "    <tr>\n",
       "      <th>523</th>\n",
       "      <td>7</td>\n",
       "      <td>648</td>\n",
       "      <td>4</td>\n",
       "      <td>978234737</td>\n",
       "    </tr>\n",
       "    <tr>\n",
       "      <th>524</th>\n",
       "      <td>7</td>\n",
       "      <td>861</td>\n",
       "      <td>4</td>\n",
       "      <td>978234874</td>\n",
       "    </tr>\n",
       "    <tr>\n",
       "      <th>525</th>\n",
       "      <td>7</td>\n",
       "      <td>2916</td>\n",
       "      <td>5</td>\n",
       "      <td>978234842</td>\n",
       "    </tr>\n",
       "    <tr>\n",
       "      <th>526</th>\n",
       "      <td>7</td>\n",
       "      <td>3578</td>\n",
       "      <td>3</td>\n",
       "      <td>978234737</td>\n",
       "    </tr>\n",
       "    <tr>\n",
       "      <th>527</th>\n",
       "      <td>7</td>\n",
       "      <td>3793</td>\n",
       "      <td>3</td>\n",
       "      <td>978234737</td>\n",
       "    </tr>\n",
       "    <tr>\n",
       "      <th>528</th>\n",
       "      <td>7</td>\n",
       "      <td>1610</td>\n",
       "      <td>5</td>\n",
       "      <td>978234786</td>\n",
       "    </tr>\n",
       "    <tr>\n",
       "      <th>529</th>\n",
       "      <td>7</td>\n",
       "      <td>589</td>\n",
       "      <td>5</td>\n",
       "      <td>978234786</td>\n",
       "    </tr>\n",
       "    <tr>\n",
       "      <th>530</th>\n",
       "      <td>7</td>\n",
       "      <td>6</td>\n",
       "      <td>4</td>\n",
       "      <td>978234842</td>\n",
       "    </tr>\n",
       "    <tr>\n",
       "      <th>531</th>\n",
       "      <td>7</td>\n",
       "      <td>442</td>\n",
       "      <td>4</td>\n",
       "      <td>978234632</td>\n",
       "    </tr>\n",
       "    <tr>\n",
       "      <th>532</th>\n",
       "      <td>7</td>\n",
       "      <td>733</td>\n",
       "      <td>5</td>\n",
       "      <td>978234842</td>\n",
       "    </tr>\n",
       "    <tr>\n",
       "      <th>533</th>\n",
       "      <td>7</td>\n",
       "      <td>377</td>\n",
       "      <td>3</td>\n",
       "      <td>978234810</td>\n",
       "    </tr>\n",
       "    <tr>\n",
       "      <th>534</th>\n",
       "      <td>7</td>\n",
       "      <td>2353</td>\n",
       "      <td>5</td>\n",
       "      <td>978234874</td>\n",
       "    </tr>\n",
       "    <tr>\n",
       "      <th>535</th>\n",
       "      <td>7</td>\n",
       "      <td>1196</td>\n",
       "      <td>5</td>\n",
       "      <td>978234632</td>\n",
       "    </tr>\n",
       "    <tr>\n",
       "      <th>536</th>\n",
       "      <td>7</td>\n",
       "      <td>2571</td>\n",
       "      <td>5</td>\n",
       "      <td>978234786</td>\n",
       "    </tr>\n",
       "    <tr>\n",
       "      <th>537</th>\n",
       "      <td>7</td>\n",
       "      <td>380</td>\n",
       "      <td>5</td>\n",
       "      <td>978234874</td>\n",
       "    </tr>\n",
       "    <tr>\n",
       "      <th>538</th>\n",
       "      <td>7</td>\n",
       "      <td>1997</td>\n",
       "      <td>5</td>\n",
       "      <td>978234737</td>\n",
       "    </tr>\n",
       "    <tr>\n",
       "      <th>539</th>\n",
       "      <td>7</td>\n",
       "      <td>1270</td>\n",
       "      <td>4</td>\n",
       "      <td>978234581</td>\n",
       "    </tr>\n",
       "    <tr>\n",
       "      <th>540</th>\n",
       "      <td>7</td>\n",
       "      <td>457</td>\n",
       "      <td>5</td>\n",
       "      <td>978234786</td>\n",
       "    </tr>\n",
       "    <tr>\n",
       "      <th>541</th>\n",
       "      <td>7</td>\n",
       "      <td>1573</td>\n",
       "      <td>4</td>\n",
       "      <td>978234874</td>\n",
       "    </tr>\n",
       "    <tr>\n",
       "      <th>542</th>\n",
       "      <td>7</td>\n",
       "      <td>3753</td>\n",
       "      <td>4</td>\n",
       "      <td>978234737</td>\n",
       "    </tr>\n",
       "    <tr>\n",
       "      <th>543</th>\n",
       "      <td>7</td>\n",
       "      <td>3107</td>\n",
       "      <td>3</td>\n",
       "      <td>978234898</td>\n",
       "    </tr>\n",
       "    <tr>\n",
       "      <th>544</th>\n",
       "      <td>7</td>\n",
       "      <td>474</td>\n",
       "      <td>5</td>\n",
       "      <td>978234842</td>\n",
       "    </tr>\n",
       "    <tr>\n",
       "      <th>545</th>\n",
       "      <td>7</td>\n",
       "      <td>1722</td>\n",
       "      <td>4</td>\n",
       "      <td>978234874</td>\n",
       "    </tr>\n",
       "    <tr>\n",
       "      <th>546</th>\n",
       "      <td>7</td>\n",
       "      <td>3256</td>\n",
       "      <td>5</td>\n",
       "      <td>978234874</td>\n",
       "    </tr>\n",
       "    <tr>\n",
       "      <th>547</th>\n",
       "      <td>7</td>\n",
       "      <td>1580</td>\n",
       "      <td>4</td>\n",
       "      <td>978234842</td>\n",
       "    </tr>\n",
       "    <tr>\n",
       "      <th>548</th>\n",
       "      <td>7</td>\n",
       "      <td>110</td>\n",
       "      <td>5</td>\n",
       "      <td>978234786</td>\n",
       "    </tr>\n",
       "    <tr>\n",
       "      <th>549</th>\n",
       "      <td>7</td>\n",
       "      <td>1221</td>\n",
       "      <td>4</td>\n",
       "      <td>978234659</td>\n",
       "    </tr>\n",
       "    <tr>\n",
       "      <th>550</th>\n",
       "      <td>7</td>\n",
       "      <td>2028</td>\n",
       "      <td>5</td>\n",
       "      <td>978234786</td>\n",
       "    </tr>\n",
       "    <tr>\n",
       "      <th>551</th>\n",
       "      <td>7</td>\n",
       "      <td>480</td>\n",
       "      <td>4</td>\n",
       "      <td>978234607</td>\n",
       "    </tr>\n",
       "    <tr>\n",
       "      <th>552</th>\n",
       "      <td>7</td>\n",
       "      <td>349</td>\n",
       "      <td>5</td>\n",
       "      <td>978234874</td>\n",
       "    </tr>\n",
       "    <tr>\n",
       "      <th>553</th>\n",
       "      <td>7</td>\n",
       "      <td>3418</td>\n",
       "      <td>3</td>\n",
       "      <td>978234810</td>\n",
       "    </tr>\n",
       "  </tbody>\n",
       "</table>\n",
       "</div>"
      ],
      "text/plain": [
       "     user_id  movie_id  rating       time\n",
       "523        7       648       4  978234737\n",
       "524        7       861       4  978234874\n",
       "525        7      2916       5  978234842\n",
       "526        7      3578       3  978234737\n",
       "527        7      3793       3  978234737\n",
       "528        7      1610       5  978234786\n",
       "529        7       589       5  978234786\n",
       "530        7         6       4  978234842\n",
       "531        7       442       4  978234632\n",
       "532        7       733       5  978234842\n",
       "533        7       377       3  978234810\n",
       "534        7      2353       5  978234874\n",
       "535        7      1196       5  978234632\n",
       "536        7      2571       5  978234786\n",
       "537        7       380       5  978234874\n",
       "538        7      1997       5  978234737\n",
       "539        7      1270       4  978234581\n",
       "540        7       457       5  978234786\n",
       "541        7      1573       4  978234874\n",
       "542        7      3753       4  978234737\n",
       "543        7      3107       3  978234898\n",
       "544        7       474       5  978234842\n",
       "545        7      1722       4  978234874\n",
       "546        7      3256       5  978234874\n",
       "547        7      1580       4  978234842\n",
       "548        7       110       5  978234786\n",
       "549        7      1221       4  978234659\n",
       "550        7      2028       5  978234786\n",
       "551        7       480       4  978234607\n",
       "552        7       349       5  978234874\n",
       "553        7      3418       3  978234810"
      ]
     },
     "execution_count": 26,
     "metadata": {},
     "output_type": "execute_result"
    }
   ],
   "source": [
    "# 예측할 사용자 선정.\n",
    "# user_id가 7인 유저의 영화 평가데이터.\n",
    "target_user_id = 7\n",
    "target_user_data = rating_data[ rating_data['user_id'] == target_user_id ]\n",
    "target_user_data"
   ]
  },
  {
   "cell_type": "code",
   "execution_count": 27,
   "metadata": {},
   "outputs": [
    {
     "name": "stdout",
     "output_type": "stream",
     "text": [
      "{648: 4, 861: 4, 2916: 5, 3578: 3, 3793: 3, 1610: 5, 589: 5, 6: 4, 442: 4, 733: 5, 377: 3, 2353: 5, 1196: 5, 2571: 5, 380: 5, 1997: 5, 1270: 4, 457: 5, 1573: 4, 3753: 4, 3107: 3, 474: 5, 1722: 4, 3256: 5, 1580: 4, 110: 5, 1221: 4, 2028: 5, 480: 4, 349: 5, 3418: 3}\n"
     ]
    }
   ],
   "source": [
    "# 사용자 7인 평점 내린 영화 인덱스를 추출.\n",
    "a = target_user_data[['movie_id', 'rating']]\n",
    "\n",
    "# 사용자 7의 평가를 담을 딕셔너리\n",
    "target_user_movie_rating_dict = {}\n",
    "\n",
    "for idx, row in a.iterrows() :\n",
    "    movie_id = row['movie_id']\n",
    "    # print(row['rating'])\n",
    "    target_user_movie_rating_dict[movie_id] = row['rating']\n",
    "    \n",
    "print(target_user_movie_rating_dict)"
   ]
  },
  {
   "cell_type": "code",
   "execution_count": 28,
   "metadata": {},
   "outputs": [
    {
     "data": {
      "text/plain": [
       "[(7, 1, 0), (7, 2, 0), (7, 3, 0), (7, 4, 0), (7, 5, 0)]"
      ]
     },
     "execution_count": 28,
     "metadata": {},
     "output_type": "execute_result"
    }
   ],
   "source": [
    "# 7번 사용자가 보지 않은 영화 인덱스를 담을 리스트 생성.\n",
    "test_data = []\n",
    "\n",
    "for index, row in movie_data.iterrows() :\n",
    "    # 영화 id를 추출.\n",
    "    movie_id = row['movie_id']\n",
    "    \n",
    "    # 7번 사용자가 이 영화에 대해 평점을 주지 않았다면 리스트에 담기.\n",
    "    if movie_id not in target_user_movie_rating_dict :\n",
    "        # 7번 사용자, movie_id, 평점\n",
    "        test_data.append((target_user_id, movie_id, 0))   \n",
    "        \n",
    "# 상위 5개만 추출.\n",
    "test_data[:5]"
   ]
  },
  {
   "cell_type": "code",
   "execution_count": 29,
   "metadata": {},
   "outputs": [
    {
     "name": "stdout",
     "output_type": "stream",
     "text": [
      "Toy Story (1995) : 4.1점\n",
      "Jumanji (1995) : 3.5점\n",
      "Grumpier Old Men (1995) : 3.5점\n",
      "Waiting to Exhale (1995) : 2.5점\n",
      "Father of the Bride Part II (1995) : 3.1점\n",
      "Sabrina (1995) : 3.6점\n",
      "Tom and Huck (1995) : 3.7점\n",
      "Sudden Death (1995) : 3.9점\n",
      "GoldenEye (1995) : 4.4점\n",
      "American President, The (1995) : 4.0점\n"
     ]
    }
   ],
   "source": [
    "# 점수 예측.\n",
    "target_user_predictions = model.test(test_data)\n",
    "# target_user_predictions\n",
    "\n",
    "# 우선 상위 10개만 가져와서 확인.\n",
    "for _, movie_id, _, rating, _ in target_user_predictions[:10] :\n",
    "    # print(f'{movie_id} : {rating}')\n",
    "    a = movie_data.query(f'movie_id == {movie_id}')\n",
    "    title = a['title'].values[0]\n",
    "    print(f'{title} : {round(rating, 1)}점')"
   ]
  },
  {
   "cell_type": "code",
   "execution_count": 30,
   "metadata": {},
   "outputs": [
    {
     "data": {
      "text/html": [
       "<div>\n",
       "<style scoped>\n",
       "    .dataframe tbody tr th:only-of-type {\n",
       "        vertical-align: middle;\n",
       "    }\n",
       "\n",
       "    .dataframe tbody tr th {\n",
       "        vertical-align: top;\n",
       "    }\n",
       "\n",
       "    .dataframe thead th {\n",
       "        text-align: right;\n",
       "    }\n",
       "</style>\n",
       "<table border=\"1\" class=\"dataframe\">\n",
       "  <thead>\n",
       "    <tr style=\"text-align: right;\">\n",
       "      <th></th>\n",
       "      <th>movie_name</th>\n",
       "      <th>movie_id</th>\n",
       "      <th>rating</th>\n",
       "    </tr>\n",
       "  </thead>\n",
       "  <tbody>\n",
       "    <tr>\n",
       "      <th>2038</th>\n",
       "      <td>Saltmen of Tibet, The (1997)</td>\n",
       "      <td>2129</td>\n",
       "      <td>5.0</td>\n",
       "    </tr>\n",
       "    <tr>\n",
       "      <th>888</th>\n",
       "      <td>Maltese Falcon, The (1941)</td>\n",
       "      <td>913</td>\n",
       "      <td>5.0</td>\n",
       "    </tr>\n",
       "    <tr>\n",
       "      <th>2853</th>\n",
       "      <td>Goldfinger (1964)</td>\n",
       "      <td>2947</td>\n",
       "      <td>5.0</td>\n",
       "    </tr>\n",
       "    <tr>\n",
       "      <th>1247</th>\n",
       "      <td>High Noon (1952)</td>\n",
       "      <td>1283</td>\n",
       "      <td>5.0</td>\n",
       "    </tr>\n",
       "    <tr>\n",
       "      <th>2968</th>\n",
       "      <td>Longest Day, The (1962)</td>\n",
       "      <td>3062</td>\n",
       "      <td>5.0</td>\n",
       "    </tr>\n",
       "    <tr>\n",
       "      <th>789</th>\n",
       "      <td>Bewegte Mann, Der (1994)</td>\n",
       "      <td>811</td>\n",
       "      <td>5.0</td>\n",
       "    </tr>\n",
       "    <tr>\n",
       "      <th>1166</th>\n",
       "      <td>Raiders of the Lost Ark (1981)</td>\n",
       "      <td>1198</td>\n",
       "      <td>5.0</td>\n",
       "    </tr>\n",
       "    <tr>\n",
       "      <th>899</th>\n",
       "      <td>2001: A Space Odyssey (1968)</td>\n",
       "      <td>924</td>\n",
       "      <td>5.0</td>\n",
       "    </tr>\n",
       "    <tr>\n",
       "      <th>2854</th>\n",
       "      <td>From Russia with Love (1963)</td>\n",
       "      <td>2948</td>\n",
       "      <td>5.0</td>\n",
       "    </tr>\n",
       "    <tr>\n",
       "      <th>1236</th>\n",
       "      <td>Patton (1970)</td>\n",
       "      <td>1272</td>\n",
       "      <td>5.0</td>\n",
       "    </tr>\n",
       "  </tbody>\n",
       "</table>\n",
       "</div>"
      ],
      "text/plain": [
       "                          movie_name  movie_id  rating\n",
       "2038    Saltmen of Tibet, The (1997)      2129     5.0\n",
       "888       Maltese Falcon, The (1941)       913     5.0\n",
       "2853               Goldfinger (1964)      2947     5.0\n",
       "1247                High Noon (1952)      1283     5.0\n",
       "2968         Longest Day, The (1962)      3062     5.0\n",
       "789         Bewegte Mann, Der (1994)       811     5.0\n",
       "1166  Raiders of the Lost Ark (1981)      1198     5.0\n",
       "899     2001: A Space Odyssey (1968)       924     5.0\n",
       "2854    From Russia with Love (1963)      2948     5.0\n",
       "1236                   Patton (1970)      1272     5.0"
      ]
     },
     "execution_count": 30,
     "metadata": {},
     "output_type": "execute_result"
    }
   ],
   "source": [
    "# 예측된 점수를 통해 데이터 프레임을 생성.\n",
    "predict_dict = {\n",
    "                'movie_id' : [],\n",
    "                'rating'   : []\n",
    "               }\n",
    "\n",
    "# 해당 딕셔너리에 예측 평점 담기.\n",
    "for _, movie_id, _, rating, _ in target_user_predictions :\n",
    "    predict_dict['movie_id'].append(movie_id)\n",
    "    predict_dict['rating'].append(round(rating, 1))\n",
    "# print(predict_dict)\n",
    "\n",
    "predict_df = pd.DataFrame(predict_dict)\n",
    "predict_df.sort_values(by='rating', inplace=True, ascending=False)\n",
    "\n",
    "# 평점에 따른 영화 10개를 추천.\n",
    "top10 = predict_df.head(10)\n",
    "# top10\n",
    "\n",
    "# 추출한 상위 10개 영화의 movie_id를 추출.\n",
    "idx = top10['movie_id'].values\n",
    "\n",
    "# 추천된 상위 10개 영화 제목을 담을 리스트 생성.\n",
    "movie_name = []\n",
    "\n",
    "# 추출한 10개의 영화 수 만큼 반복.\n",
    "for movie_id in idx :\n",
    "    # 추천된 id의 영화 이름을 추출해 출력.\n",
    "    a = movie_data.query(f'movie_id == {movie_id}')\n",
    "    # print(a['title'].values[0])\n",
    "    movie_name.append(a['title'].values[0])\n",
    "\n",
    "movie_name_df = pd.DataFrame(movie_name)\n",
    "movie_name_df.columns = ['movie_name']\n",
    "movie_name_df.index = top10.index.values\n",
    "pd.concat([movie_name_df, top10], axis=1)"
   ]
  }
 ],
 "metadata": {
  "kernelspec": {
   "display_name": "Python 3",
   "language": "python",
   "name": "python3"
  },
  "language_info": {
   "codemirror_mode": {
    "name": "ipython",
    "version": 3
   },
   "file_extension": ".py",
   "mimetype": "text/x-python",
   "name": "python",
   "nbconvert_exporter": "python",
   "pygments_lexer": "ipython3",
   "version": "3.7.6"
  }
 },
 "nbformat": 4,
 "nbformat_minor": 4
}
