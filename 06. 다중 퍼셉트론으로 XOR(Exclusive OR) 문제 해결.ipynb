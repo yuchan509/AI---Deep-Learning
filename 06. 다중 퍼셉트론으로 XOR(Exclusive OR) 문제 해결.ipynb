{
 "cells": [
  {
   "cell_type": "code",
   "execution_count": 1,
   "metadata": {},
   "outputs": [],
   "source": [
    "import numpy as np"
   ]
  },
  {
   "cell_type": "code",
   "execution_count": 2,
   "metadata": {},
   "outputs": [],
   "source": [
    "# Weight와 Bias\n",
    "w11 = np.array([-2, -2])\n",
    "w12 = np.array([2, 2])\n",
    "w2  = np.array([1, 1])\n",
    "\n",
    "b1 = 3\n",
    "b2 = -1\n",
    "b3 = -1"
   ]
  },
  {
   "cell_type": "code",
   "execution_count": 3,
   "metadata": {},
   "outputs": [],
   "source": [
    "# 퍼셉트론.\n",
    "def MLP(x, w, b) :\n",
    "    y = np.sum(w * x) + b\n",
    "    \n",
    "    if y <= 0 :\n",
    "        return 0\n",
    "    else :\n",
    "        return 1"
   ]
  },
  {
   "cell_type": "code",
   "execution_count": 4,
   "metadata": {},
   "outputs": [],
   "source": [
    "# AND 게이트.\n",
    "def AND(x1, x2) :\n",
    "    a1 = np.array([x1, x2])\n",
    "    pred = MLP(a1, w2, b3)\n",
    "    return pred\n",
    "\n",
    "# NAND 게이트.\n",
    "def NAND(x1, x2) :\n",
    "    a1 = np.array([x1, x2])\n",
    "    pred = MLP(a1, w11, b1)\n",
    "    return pred\n",
    "\n",
    "# OR.\n",
    "def OR(x1, x2) :\n",
    "    a1 = np.array([x1, x2])\n",
    "    pred = MLP(a1, w12, b2)\n",
    "    return pred\n",
    "\n",
    "# XOR.\n",
    "def XOR(x1, x2) :\n",
    "    pred1 = NAND(x1, x2)\n",
    "    pred2 = OR(x1, x2)\n",
    "    pred3 = AND(pred1, pred2)\n",
    "    return pred3"
   ]
  },
  {
   "cell_type": "code",
   "execution_count": 5,
   "metadata": {},
   "outputs": [
    {
     "name": "stdout",
     "output_type": "stream",
     "text": [
      "입력값 : 0, 0 결과 : 0\n",
      "----------------------\n",
      "입력값 : 0, 1 결과 : 1\n",
      "----------------------\n",
      "입력값 : 1, 0 결과 : 1\n",
      "----------------------\n",
      "입력값 : 1, 1 결과 : 0\n",
      "----------------------\n"
     ]
    }
   ],
   "source": [
    "data = ((0, 0), (0, 1), (1, 0), (1, 1))\n",
    "\n",
    "for k1, k2 in data :\n",
    "    # y = AND(k1, k2)\n",
    "    # y = NAND(k1, k2)\n",
    "    # y = OR(k1, k2)\n",
    "    y = XOR(k1, k2)\n",
    "    print(f'입력값 : {k1}, {k2} 결과 : {y}')\n",
    "    print('-'*22)"
   ]
  }
 ],
 "metadata": {
  "kernelspec": {
   "display_name": "Python 3",
   "language": "python",
   "name": "python3"
  },
  "language_info": {
   "codemirror_mode": {
    "name": "ipython",
    "version": 3
   },
   "file_extension": ".py",
   "mimetype": "text/x-python",
   "name": "python",
   "nbconvert_exporter": "python",
   "pygments_lexer": "ipython3",
   "version": "3.7.6"
  }
 },
 "nbformat": 4,
 "nbformat_minor": 4
}
