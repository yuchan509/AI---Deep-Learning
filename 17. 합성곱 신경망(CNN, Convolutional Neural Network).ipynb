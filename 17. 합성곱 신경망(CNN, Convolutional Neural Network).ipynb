{
 "cells": [
  {
   "cell_type": "code",
   "execution_count": 1,
   "metadata": {},
   "outputs": [],
   "source": [
    "import numpy as np\n",
    "import pandas as pd\n",
    "import matplotlib.pyplot as plt\n",
    "# 그래프 설정\n",
    "plt.rcParams['font.family'] = 'Malgun Gothic'\n",
    "\n",
    "import tensorflow as tf\n",
    "from keras.models import Sequential, load_model\n",
    "from keras.layers import Dense, Dropout, Flatten, Conv2D, MaxPooling2D\n",
    "from keras.datasets import mnist\n",
    "from keras.utils import np_utils, to_categorical\n",
    "from keras.callbacks import ModelCheckpoint, EarlyStopping\n",
    "\n",
    "from sklearn.metrics import accuracy_score\n",
    "from sklearn.linear_model import LogisticRegression\n",
    "from sklearn.model_selection import train_test_split\n",
    "import warnings\n",
    "warnings.filterwarnings('ignore')\n",
    "\n",
    "# GPU 사용 초기화 및 할당.\n",
    "gpus = tf.config.experimental.list_physical_devices('GPU')\n",
    "tf.config.experimental.set_memory_growth(gpus[0], True)"
   ]
  },
  {
   "cell_type": "markdown",
   "metadata": {},
   "source": [
    "#### CNN(Convolutional Neural Networks)\n",
    "- 합성곱 계층(Convolutional layer)과 풀링 계층 (Pooling layer)이라고 하는 새로운 층을 fully-connected 계층 이전에 추가함으로써 원본 이미지에 필터링 기법을 적용한 뒤에 필터링된 이미에 대해 분류 연산이 수행되도록 구성.\n"
   ]
  },
  {
   "cell_type": "code",
   "execution_count": 2,
   "metadata": {},
   "outputs": [],
   "source": [
    "# 시드값 설정.\n",
    "np.random.seed(3)\n",
    "tf.random.set_seed(3)\n",
    "\n",
    "# 데이터 읽기.\n",
    "(x_train , y_train), (x_test, y_test) = mnist.load_data()\n",
    "\n",
    "# 2차원으로 되어 있는 이미지 한장의 데이터를 CNN에 적합한 행렬 형태로 변환.\n",
    "x_train = x_train.reshape(x_train.shape[0], 28, 28, 1 )\n",
    "x_test  = x_test.reshape(x_test.shape[0],  28, 28, 1 )\n",
    "\n",
    "# 0 ~ 1 사이의 값으로 조정.\n",
    "x_train = x_train.astype('float32')\n",
    "x_test  = x_test.astype('float32')\n",
    "\n",
    "x_train = x_train / 255\n",
    "x_test  = x_test / 255\n",
    " \n",
    "# 결과 데이터 핫-윈 인코딩.\n",
    "y_train = np_utils.to_categorical(y_train)\n",
    "y_test  = np_utils.to_categorical(y_test)"
   ]
  },
  {
   "cell_type": "code",
   "execution_count": 3,
   "metadata": {},
   "outputs": [],
   "source": [
    "# < CNN 설정 >\n",
    "# Conv2D : Keras에서 컨볼루션 레이어를 추가하는 함수.\n",
    "# Maxplooling20 : 데이터 축소.\n",
    "# Dropout : 은닉층의 노드를 임의로 꺼주는 것.(과적합 방지.)\n",
    "# Flatten : 2차원 배열을 1차원로 변환.\n",
    "model = Sequential()\n",
    "\n",
    "# 입력층 + 은닉층 : Conv2D\n",
    "model.add( Conv2D(32, kernel_size=(3,3), input_shape=(28, 28, 1), activation='relu') )\n",
    "\n",
    "# 은닉층 : Conv2D\n",
    "model.add( Conv2D(64, kernel_size=(3,3), activation='relu') )\n",
    "\n",
    "# 은닉층 : Maxpooling2D\n",
    "model.add( MaxPooling2D(pool_size=2) )\n",
    "\n",
    "# 은닉층 : Dropout\n",
    "model.add(Dropout(0.25) )\n",
    "          \n",
    "# 은닉층 : Flatten\n",
    "model.add( Flatten() )\n",
    "\n",
    "# 은닉층 : Dense\n",
    "model.add( Dense(128, activation='relu') )\n",
    "model.add( Dropout(0.5) )  \n",
    "      \n",
    "# 출력층.\n",
    "model.add( Dense(10, activation='softmax'))"
   ]
  },
  {
   "cell_type": "code",
   "execution_count": 4,
   "metadata": {},
   "outputs": [
    {
     "name": "stdout",
     "output_type": "stream",
     "text": [
      "\n",
      "Epoch 00001: val_loss improved from inf to 0.04286, saving model to models\\1-0.04285911098122597.hdf5\n",
      "\n",
      "Epoch 00002: val_loss did not improve from 0.04286\n",
      "\n",
      "Epoch 00003: val_loss improved from 0.04286 to 0.03280, saving model to models\\3-0.03279644995927811.hdf5\n",
      "\n",
      "Epoch 00004: val_loss improved from 0.03280 to 0.03125, saving model to models\\4-0.03124648705124855.hdf5\n",
      "\n",
      "Epoch 00005: val_loss did not improve from 0.03125\n",
      "\n",
      "Epoch 00006: val_loss did not improve from 0.03125\n",
      "\n",
      "Epoch 00007: val_loss improved from 0.03125 to 0.02996, saving model to models\\7-0.029957473278045654.hdf5\n",
      "\n",
      "Epoch 00008: val_loss improved from 0.02996 to 0.02661, saving model to models\\8-0.02661106549203396.hdf5\n",
      "\n",
      "Epoch 00009: val_loss did not improve from 0.02661\n",
      "\n",
      "Epoch 00010: val_loss did not improve from 0.02661\n",
      "\n",
      "Epoch 00011: val_loss did not improve from 0.02661\n",
      "\n",
      "Epoch 00012: val_loss did not improve from 0.02661\n",
      "\n",
      "Epoch 00013: val_loss did not improve from 0.02661\n",
      "\n",
      "Epoch 00014: val_loss did not improve from 0.02661\n",
      "\n",
      "Epoch 00015: val_loss did not improve from 0.02661\n",
      "\n",
      "Epoch 00016: val_loss did not improve from 0.02661\n",
      "\n",
      "Epoch 00017: val_loss did not improve from 0.02661\n",
      "\n",
      "Epoch 00018: val_loss did not improve from 0.02661\n"
     ]
    }
   ],
   "source": [
    "# 컴파일.\n",
    "model.compile(loss='categorical_crossentropy', optimizer='adam', metrics=['accuracy'])\n",
    "\n",
    "# 저장 콜백.\n",
    "model_path = 'models/{epoch}-{val_loss}.hdf5'\n",
    "\n",
    "# 저장 조건 콜백.\n",
    "callback1 = ModelCheckpoint(filepath=model_path, monitor='val_loss', verbose=1, save_best_only=True)\n",
    "\n",
    "# 조기중단 콜백.\n",
    "callback2 = EarlyStopping(monitor='val_loss', patience=10)\n",
    "\n",
    "# 학습.\n",
    "history = model.fit(x_train, y_train, validation_data=(x_test, y_test),\n",
    "                    epochs=40, batch_size=20, verbose=0, callbacks=[callback1, callback2] )"
   ]
  },
  {
   "cell_type": "code",
   "execution_count": 5,
   "metadata": {},
   "outputs": [
    {
     "name": "stdout",
     "output_type": "stream",
     "text": [
      "313/313 [==============================] - 1s 2ms/step - loss: 0.0266 - accuracy: 0.9922\n"
     ]
    },
    {
     "data": {
      "text/plain": [
       "0.9922000169754028"
      ]
     },
     "execution_count": 5,
     "metadata": {},
     "output_type": "execute_result"
    }
   ],
   "source": [
    "# 정확도 확인. => 기본 딥러닝에 비해 정확도가 올라가는 것을 알 수 있음.\n",
    "best_model = load_model('models/8-0.02661106549203396.hdf5')\n",
    "best_model.evaluate(x_test, y_test)[1]"
   ]
  },
  {
   "cell_type": "code",
   "execution_count": 7,
   "metadata": {},
   "outputs": [
    {
     "data": {
      "image/png": "[encoded data removed]",
      "text/plain": [
       "<Figure size 720x504 with 1 Axes>"
      ]
     },
     "metadata": {
      "needs_background": "light"
     },
     "output_type": "display_data"
    }
   ],
   "source": [
    "# 학습용 데이터 오차.\n",
    "y_loss = history.history['loss']\n",
    "\n",
    "# 검증용 데이터 오차.\n",
    "y_vloss = history.history['val_loss']\n",
    "\n",
    "# 그래프.\n",
    "x_len = np.arange(len(y_vloss))\n",
    "plt.figure(figsize=(10, 7))\n",
    "plt.plot(x_len, y_loss, marker='', label='학습 데이터 손실률', c='tomato', alpha=.5 )\n",
    "plt.plot(x_len, y_vloss, marker='', label='검증 데이터 손실률', c='gold', alpha=.5 )\n",
    "plt.legend()\n",
    "plt.grid()\n",
    "plt.show()"
   ]
  }
 ],
 "metadata": {
  "kernelspec": {
   "display_name": "Python 3",
   "language": "python",
   "name": "python3"
  },
  "language_info": {
   "codemirror_mode": {
    "name": "ipython",
    "version": 3
   },
   "file_extension": ".py",
   "mimetype": "text/x-python",
   "name": "python",
   "nbconvert_exporter": "python",
   "pygments_lexer": "ipython3",
   "version": "3.7.6"
  }
 },
 "nbformat": 4,
 "nbformat_minor": 4
}
