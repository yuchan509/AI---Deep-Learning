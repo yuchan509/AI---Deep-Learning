{
 "cells": [
  {
   "cell_type": "code",
   "execution_count": 1,
   "metadata": {},
   "outputs": [],
   "source": [
    "import time, re\n",
    "import numpy as np\n",
    "import pandas as pd\n",
    "import seaborn as sb\n",
    "from konlpy.tag import Okt\n",
    "import matplotlib.pyplot as plt\n",
    "plt.rcParams['font.family'] = 'Malgun Gothic'\n",
    "plt.rcParams['figure.figsize'] = 8, 5\n",
    "\n",
    "import sklearn.metrics as m\n",
    "from sklearn.linear_model import LogisticRegression\n",
    "from sklearn.model_selection import train_test_split, GridSearchCV\n",
    "from sklearn.feature_extraction.text import CountVectorizer, TfidfTransformer\n",
    "from sklearn.metrics import accuracy_score, precision_score, recall_score, f1_score, roc_auc_score\n",
    "from sklearn.pipeline import make_pipeline\n",
    "from sklearn.preprocessing import StandardScaler\n",
    "import warnings\n",
    "warnings.filterwarnings('ignore')"
   ]
  },
  {
   "cell_type": "markdown",
   "metadata": {},
   "source": [
    "#### 맛집 리뷰 데이터 읽기"
   ]
  },
  {
   "cell_type": "code",
   "execution_count": 2,
   "metadata": {},
   "outputs": [
    {
     "data": {
      "text/html": [
       "<div>\n",
       "<style scoped>\n",
       "    .dataframe tbody tr th:only-of-type {\n",
       "        vertical-align: middle;\n",
       "    }\n",
       "\n",
       "    .dataframe tbody tr th {\n",
       "        vertical-align: top;\n",
       "    }\n",
       "\n",
       "    .dataframe thead th {\n",
       "        text-align: right;\n",
       "    }\n",
       "</style>\n",
       "<table border=\"1\" class=\"dataframe\">\n",
       "  <thead>\n",
       "    <tr style=\"text-align: right;\">\n",
       "      <th></th>\n",
       "      <th>score</th>\n",
       "      <th>review</th>\n",
       "      <th>y</th>\n",
       "    </tr>\n",
       "  </thead>\n",
       "  <tbody>\n",
       "    <tr>\n",
       "      <th>0</th>\n",
       "      <td>5</td>\n",
       "      <td>친절하시고 깔끔하고 좋았습니다</td>\n",
       "      <td>1</td>\n",
       "    </tr>\n",
       "    <tr>\n",
       "      <th>1</th>\n",
       "      <td>5</td>\n",
       "      <td>조용하고 고기도 굿</td>\n",
       "      <td>1</td>\n",
       "    </tr>\n",
       "    <tr>\n",
       "      <th>2</th>\n",
       "      <td>4</td>\n",
       "      <td>갈비탕과 냉면, 육회비빔밥이 맛있습니다.</td>\n",
       "      <td>1</td>\n",
       "    </tr>\n",
       "    <tr>\n",
       "      <th>3</th>\n",
       "      <td>4</td>\n",
       "      <td>대체적으로 만족하나\\n와인의 구성이 살짝 아쉬움</td>\n",
       "      <td>1</td>\n",
       "    </tr>\n",
       "    <tr>\n",
       "      <th>4</th>\n",
       "      <td>5</td>\n",
       "      <td>고기도 맛있고 서비스는 더 최고입니다~</td>\n",
       "      <td>1</td>\n",
       "    </tr>\n",
       "    <tr>\n",
       "      <th>5</th>\n",
       "      <td>5</td>\n",
       "      <td>고기가 입에서 녹아요~! 서비스도 최고였습니다.</td>\n",
       "      <td>1</td>\n",
       "    </tr>\n",
       "    <tr>\n",
       "      <th>6</th>\n",
       "      <td>5</td>\n",
       "      <td>입에서 살살녹는 최상급소고기를 맛보고왔습니다.</td>\n",
       "      <td>1</td>\n",
       "    </tr>\n",
       "    <tr>\n",
       "      <th>7</th>\n",
       "      <td>5</td>\n",
       "      <td>고기도 구워주고 가성비 짱~~&lt;</td>\n",
       "      <td>1</td>\n",
       "    </tr>\n",
       "    <tr>\n",
       "      <th>8</th>\n",
       "      <td>4</td>\n",
       "      <td>콜키지 프리라서 와인을 가지고 가면 좋은 식당!\\n생고기가 플레이팅도 아주 예쁘게 ...</td>\n",
       "      <td>1</td>\n",
       "    </tr>\n",
       "    <tr>\n",
       "      <th>9</th>\n",
       "      <td>4</td>\n",
       "      <td>저렴하면서도 맛이 아주 좋았습니다.\\n구워주시는 서버분들의 정성이 고기 한점 한점에...</td>\n",
       "      <td>1</td>\n",
       "    </tr>\n",
       "  </tbody>\n",
       "</table>\n",
       "</div>"
      ],
      "text/plain": [
       "   score                                             review  y\n",
       "0      5                                   친절하시고 깔끔하고 좋았습니다  1\n",
       "1      5                                         조용하고 고기도 굿  1\n",
       "2      4                             갈비탕과 냉면, 육회비빔밥이 맛있습니다.  1\n",
       "3      4                         대체적으로 만족하나\\n와인의 구성이 살짝 아쉬움  1\n",
       "4      5                              고기도 맛있고 서비스는 더 최고입니다~  1\n",
       "5      5                         고기가 입에서 녹아요~! 서비스도 최고였습니다.  1\n",
       "6      5                          입에서 살살녹는 최상급소고기를 맛보고왔습니다.  1\n",
       "7      5                                  고기도 구워주고 가성비 짱~~<  1\n",
       "8      4  콜키지 프리라서 와인을 가지고 가면 좋은 식당!\\n생고기가 플레이팅도 아주 예쁘게 ...  1\n",
       "9      4  저렴하면서도 맛이 아주 좋았습니다.\\n구워주시는 서버분들의 정성이 고기 한점 한점에...  1"
      ]
     },
     "execution_count": 2,
     "metadata": {},
     "output_type": "execute_result"
    }
   ],
   "source": [
    "df = pd.read_csv('data10/review_data.csv')\n",
    "df.head(10)"
   ]
  },
  {
   "cell_type": "markdown",
   "metadata": {},
   "source": [
    "#### 한글 정제\n",
    "- 한글 이외의 글자 혹은 특수문자 등은 제외."
   ]
  },
  {
   "cell_type": "code",
   "execution_count": 3,
   "metadata": {},
   "outputs": [],
   "source": [
    "# 한글 정제 함수 생성.\n",
    "def text_cleaning(text) :\n",
    "    # 한글 정규식.\n",
    "    hangul = re.compile('[^ ㄱ-ㅣ가-힣]+')\n",
    "    \n",
    "    # 한글 정규식에 해당하지 않는 것은 길이가 0인 문자열로 변환.\n",
    "    result = hangul.sub('', text)\n",
    "    return result"
   ]
  },
  {
   "cell_type": "code",
   "execution_count": 4,
   "metadata": {},
   "outputs": [
    {
     "data": {
      "text/html": [
       "<div>\n",
       "<style scoped>\n",
       "    .dataframe tbody tr th:only-of-type {\n",
       "        vertical-align: middle;\n",
       "    }\n",
       "\n",
       "    .dataframe tbody tr th {\n",
       "        vertical-align: top;\n",
       "    }\n",
       "\n",
       "    .dataframe thead th {\n",
       "        text-align: right;\n",
       "    }\n",
       "</style>\n",
       "<table border=\"1\" class=\"dataframe\">\n",
       "  <thead>\n",
       "    <tr style=\"text-align: right;\">\n",
       "      <th></th>\n",
       "      <th>score</th>\n",
       "      <th>y</th>\n",
       "      <th>ko_text</th>\n",
       "    </tr>\n",
       "  </thead>\n",
       "  <tbody>\n",
       "    <tr>\n",
       "      <th>0</th>\n",
       "      <td>5</td>\n",
       "      <td>1</td>\n",
       "      <td>친절하시고 깔끔하고 좋았습니다</td>\n",
       "    </tr>\n",
       "    <tr>\n",
       "      <th>1</th>\n",
       "      <td>5</td>\n",
       "      <td>1</td>\n",
       "      <td>조용하고 고기도 굿</td>\n",
       "    </tr>\n",
       "    <tr>\n",
       "      <th>2</th>\n",
       "      <td>4</td>\n",
       "      <td>1</td>\n",
       "      <td>갈비탕과 냉면 육회비빔밥이 맛있습니다</td>\n",
       "    </tr>\n",
       "    <tr>\n",
       "      <th>3</th>\n",
       "      <td>4</td>\n",
       "      <td>1</td>\n",
       "      <td>대체적으로 만족하나와인의 구성이 살짝 아쉬움</td>\n",
       "    </tr>\n",
       "    <tr>\n",
       "      <th>4</th>\n",
       "      <td>5</td>\n",
       "      <td>1</td>\n",
       "      <td>고기도 맛있고 서비스는 더 최고입니다</td>\n",
       "    </tr>\n",
       "    <tr>\n",
       "      <th>5</th>\n",
       "      <td>5</td>\n",
       "      <td>1</td>\n",
       "      <td>고기가 입에서 녹아요 서비스도 최고였습니다</td>\n",
       "    </tr>\n",
       "    <tr>\n",
       "      <th>6</th>\n",
       "      <td>5</td>\n",
       "      <td>1</td>\n",
       "      <td>입에서 살살녹는 최상급소고기를 맛보고왔습니다</td>\n",
       "    </tr>\n",
       "    <tr>\n",
       "      <th>7</th>\n",
       "      <td>5</td>\n",
       "      <td>1</td>\n",
       "      <td>고기도 구워주고 가성비 짱</td>\n",
       "    </tr>\n",
       "    <tr>\n",
       "      <th>8</th>\n",
       "      <td>4</td>\n",
       "      <td>1</td>\n",
       "      <td>콜키지 프리라서 와인을 가지고 가면 좋은 식당생고기가 플레이팅도 아주 예쁘게 나오고...</td>\n",
       "    </tr>\n",
       "    <tr>\n",
       "      <th>9</th>\n",
       "      <td>4</td>\n",
       "      <td>1</td>\n",
       "      <td>저렴하면서도 맛이 아주 좋았습니다구워주시는 서버분들의 정성이 고기 한점 한점에 깃들...</td>\n",
       "    </tr>\n",
       "  </tbody>\n",
       "</table>\n",
       "</div>"
      ],
      "text/plain": [
       "   score  y                                            ko_text\n",
       "0      5  1                                   친절하시고 깔끔하고 좋았습니다\n",
       "1      5  1                                         조용하고 고기도 굿\n",
       "2      4  1                               갈비탕과 냉면 육회비빔밥이 맛있습니다\n",
       "3      4  1                           대체적으로 만족하나와인의 구성이 살짝 아쉬움\n",
       "4      5  1                               고기도 맛있고 서비스는 더 최고입니다\n",
       "5      5  1                            고기가 입에서 녹아요 서비스도 최고였습니다\n",
       "6      5  1                           입에서 살살녹는 최상급소고기를 맛보고왔습니다\n",
       "7      5  1                                     고기도 구워주고 가성비 짱\n",
       "8      4  1  콜키지 프리라서 와인을 가지고 가면 좋은 식당생고기가 플레이팅도 아주 예쁘게 나오고...\n",
       "9      4  1  저렴하면서도 맛이 아주 좋았습니다구워주시는 서버분들의 정성이 고기 한점 한점에 깃들..."
      ]
     },
     "execution_count": 4,
     "metadata": {},
     "output_type": "execute_result"
    }
   ],
   "source": [
    "# 리뷰 내용 정제.\n",
    "df['ko_text'] = df['review'].apply(lambda x : text_cleaning(x))\n",
    "\n",
    "# review 컬럼 제거.\n",
    "del df['review']\n",
    "df.head(10)"
   ]
  },
  {
   "cell_type": "markdown",
   "metadata": {},
   "source": [
    "#### 형태소 분석"
   ]
  },
  {
   "cell_type": "code",
   "execution_count": 5,
   "metadata": {},
   "outputs": [
    {
     "data": {
      "text/plain": [
       "['친절하시고/Adjective', '깔끔하고/Adjective', '좋았습니다/Adjective']"
      ]
     },
     "execution_count": 5,
     "metadata": {},
     "output_type": "execute_result"
    }
   ],
   "source": [
    "# konlpy 라이브러리로 텍스트 데이터에서 형태소를 추출.\n",
    "def get_pos(x) :\n",
    "    tagger = Okt()\n",
    "    pos = tagger.pos(x)\n",
    "    \n",
    "    # 형태소를 담을 리스트 생성.\n",
    "    result = []\n",
    "    \n",
    "    for a in pos :\n",
    "        result.append(f'{a[0]}/{a[1]}')\n",
    "    return result\n",
    "    \n",
    "get_pos(df['ko_text'][0])"
   ]
  },
  {
   "cell_type": "markdown",
   "metadata": {},
   "source": [
    "#### 분류 모델의 학습 데이터로 변환"
   ]
  },
  {
   "cell_type": "code",
   "execution_count": 6,
   "metadata": {},
   "outputs": [],
   "source": [
    "# from sklearn.feature_extraction.text import CountVectorizer 이용.\n",
    "# 형태소를 벡터 형태의 학습 데이터셋으로 변환.\n",
    "index_vectorizer = CountVectorizer(tokenizer= lambda x : get_pos(x))\n",
    "x = index_vectorizer.fit_transform(df['ko_text'].tolist())\n",
    "\n",
    "# 단어 표시.\n",
    "# index_vectorizer.vocabulary_"
   ]
  },
  {
   "cell_type": "code",
   "execution_count": 7,
   "metadata": {
    "scrolled": true
   },
   "outputs": [
    {
     "name": "stdout",
     "output_type": "stream",
     "text": [
      "친절하시고 깔끔하고 좋았습니다\n",
      "\n",
      "  (0, 2647)\t1\n",
      "  (0, 428)\t1\n",
      "  (0, 2403)\t1\n"
     ]
    }
   ],
   "source": [
    "print(df['ko_text'][0])\n",
    "print('')\n",
    "print(x[0])"
   ]
  },
  {
   "cell_type": "markdown",
   "metadata": {},
   "source": [
    "#### TF-IDF로 변환"
   ]
  },
  {
   "cell_type": "code",
   "execution_count": 8,
   "metadata": {},
   "outputs": [
    {
     "name": "stdout",
     "output_type": "stream",
     "text": [
      "  (0, 2647)\t0.5548708693511647\n",
      "  (0, 2403)\t0.48955631270748484\n",
      "  (0, 428)\t0.6726462183300624\n"
     ]
    }
   ],
   "source": [
    "# 위에서 만든 형태소 벡터를 학습 데이터 벡터로 생성.\n",
    "tfidf_vectorizer = TfidfTransformer()\n",
    "x = tfidf_vectorizer.fit_transform(x)\n",
    "print(x[0])"
   ]
  },
  {
   "cell_type": "markdown",
   "metadata": {},
   "source": [
    "#### 학습용 데이터를 생성"
   ]
  },
  {
   "cell_type": "code",
   "execution_count": 9,
   "metadata": {},
   "outputs": [
    {
     "name": "stdout",
     "output_type": "stream",
     "text": [
      "1    492\n",
      "0     53\n",
      "Name: y, dtype: int64\n",
      "\n",
      "(381, 3030)\n",
      "(164, 3030)\n"
     ]
    }
   ],
   "source": [
    "# 타겟 데이터.\n",
    "y = df['y']\n",
    "print(y.value_counts())\n",
    "\n",
    "# Split Train dataset & Test dataset\n",
    "x_train, x_test, y_train, y_test = train_test_split(x, y, test_size=0.3, stratify=y )\n",
    "print('')\n",
    "print(x_train.shape)\n",
    "print(x_test.shape)"
   ]
  },
  {
   "cell_type": "markdown",
   "metadata": {},
   "source": [
    "#### 모델링"
   ]
  },
  {
   "cell_type": "code",
   "execution_count": 10,
   "metadata": {},
   "outputs": [
    {
     "data": {
      "text/plain": [
       "GridSearchCV(cv=None, error_score=nan,\n",
       "             estimator=LogisticRegression(C=1.0, class_weight=None, dual=False,\n",
       "                                          fit_intercept=True,\n",
       "                                          intercept_scaling=1, l1_ratio=None,\n",
       "                                          max_iter=100, multi_class='auto',\n",
       "                                          n_jobs=None, penalty='l2',\n",
       "                                          random_state=None, solver='lbfgs',\n",
       "                                          tol=0.0001, verbose=0,\n",
       "                                          warm_start=False),\n",
       "             iid='deprecated', n_jobs=None,\n",
       "             param_grid={'C': array([1.e-05, 1.e-04, 1.e-03, 1.e-02, 1.e-01, 1.e+00, 1.e+01, 1.e+02,\n",
       "       1.e+03, 1.e+04, 1.e+05]),\n",
       "                         'penalty': ['l1', 'l2', 'elasticnet', 'none'],\n",
       "                         'solver': ['newton-cg', 'lbfgs', 'liblinear', 'sag',\n",
       "                                    'saga']},\n",
       "             pre_dispatch='2*n_jobs', refit=True, return_train_score=False,\n",
       "             scoring=None, verbose=0)"
      ]
     },
     "execution_count": 10,
     "metadata": {},
     "output_type": "execute_result"
    }
   ],
   "source": [
    "# Logit model 생성 생성. \n",
    "model_Logit =  LogisticRegression() \n",
    "param_value = { 'penalty': [ 'l1', 'l2', 'elasticnet', 'none' ],\n",
    "                'C'      : np.logspace( -5, 5, 11 ),\n",
    "                'solver' : ['newton-cg', 'lbfgs', 'liblinear', 'sag', 'saga',]\n",
    "              }\n",
    "grid_search_logit = GridSearchCV( model_Logit , param_grid = param_value ) \n",
    "# grid_search_logit.get_params\n",
    "grid_search_logit.fit( x_train, y_train )"
   ]
  },
  {
   "cell_type": "code",
   "execution_count": 11,
   "metadata": {},
   "outputs": [
    {
     "data": {
      "text/plain": [
       "array([1, 1, 1, 1, 1, 1, 1, 1, 1, 1, 1, 1, 1, 1, 1, 1, 1, 1, 1, 1, 1, 0,\n",
       "       1, 1, 1, 1, 1, 1, 1, 1, 1, 1, 1, 1, 1, 1, 1, 1, 1, 1, 1, 1, 1, 1,\n",
       "       1, 1, 1, 1, 1, 1, 1, 1, 1, 1, 1, 1, 1, 1, 1, 1, 1, 1, 1, 1, 1, 1,\n",
       "       1, 1, 1, 1, 1, 1, 1, 1, 1, 1, 1, 1, 1, 1, 1, 1, 1, 1, 1, 1, 1, 1,\n",
       "       1, 1, 1, 1, 1, 1, 1, 1, 1, 1, 1, 1, 1, 1, 1, 1, 1, 1, 1, 1, 1, 1,\n",
       "       1, 1, 1, 1, 1, 1, 1, 1, 1, 1, 1, 1, 1, 1, 1, 1, 1, 1, 1, 1, 1, 1,\n",
       "       1, 1, 1, 1, 1, 1, 1, 1, 1, 1, 1, 1, 1, 1, 1, 1, 1, 1, 1, 1, 1, 1,\n",
       "       1, 1, 1, 1, 1, 1, 1, 1, 1, 1], dtype=int64)"
      ]
     },
     "execution_count": 11,
     "metadata": {},
     "output_type": "execute_result"
    }
   ],
   "source": [
    "# 테스트용 데이터를 통해 예측.\n",
    "y_pred = grid_search_logit.best_estimator_.predict( x_test )\n",
    "y_pred"
   ]
  },
  {
   "cell_type": "code",
   "execution_count": 12,
   "metadata": {},
   "outputs": [
    {
     "name": "stdout",
     "output_type": "stream",
     "text": [
      "Accuracy        : 91.0%\n",
      "----------------------------------------------------------------------------------------------------------------------------------\n",
      "Precision score : 91.0%\n",
      "----------------------------------------------------------------------------------------------------------------------------------\n",
      "Recall score    : 100.0%\n",
      "----------------------------------------------------------------------------------------------------------------------------------\n",
      "F1 score        : 95.0%\n",
      "----------------------------------------------------------------------------------------------------------------------------------\n",
      "Roc auc Socre   : 53.0%\n",
      "----------------------------------------------------------------------------------------------------------------------------------\n"
     ]
    },
    {
     "data": {
      "image/png": "[encoded data removed]",
      "text/plain": [
       "<Figure size 576x360 with 1 Axes>"
      ]
     },
     "metadata": {
      "needs_background": "light"
     },
     "output_type": "display_data"
    }
   ],
   "source": [
    "# Accuracy of Logit model.\n",
    "print(f'Accuracy        : {round( accuracy_score(y_test, y_pred), 2)*100 }%')\n",
    "print('-'*130)\n",
    "\n",
    "# Precision of grid_search_logit.\n",
    "print(f'Precision score : { round(precision_score(y_test, y_pred), 2)*100 }%' )\n",
    "print('-'*130)\n",
    "\n",
    "# Recall of grid_search_logit.\n",
    "print(f'Recall score    : { round(recall_score(y_test, y_pred), 2)*100 }%' )\n",
    "print('-'*130)\n",
    "\n",
    "# F1 score of grid_search_logit.\n",
    "print(f'F1 score        : { round(f1_score(y_test, y_pred), 2)*100}%' )\n",
    "print('-'*130)\n",
    "\n",
    "# Roc auc Socre of grid_search_logit.\n",
    "print(f'Roc auc Socre   : { round(roc_auc_score(y_test, y_pred), 2)*100}%')\n",
    "print('-'*130)\n",
    "\n",
    "# ROC Curve\n",
    "FPR, TPR, Thresholds = m.roc_curve( y_test, grid_search_logit.predict_proba( x_test )[:,1] )    \n",
    "plt.plot( FPR, TPR, 'm--', label='Logistic', alpha=.5)\n",
    "plt.plot( [0,1], [0,1], 'b-', label='guess' , alpha=.5)\n",
    "plt.xlabel( 'FPR : False Positive Rate, 1 - Specificity' )\n",
    "plt.ylabel( 'TPR : True Positive Rate, Sensitivity' )\n",
    "plt.legend()\n",
    "plt.show()"
   ]
  },
  {
   "cell_type": "markdown",
   "metadata": {},
   "source": [
    "#### 중요 피쳐 형태소"
   ]
  },
  {
   "cell_type": "code",
   "execution_count": 13,
   "metadata": {},
   "outputs": [
    {
     "data": {
      "text/plain": [
       "[(12.74320638880242, 721),\n",
       " (10.428581092118073, 2376),\n",
       " (9.697857257544149, 2388),\n",
       " (9.379390572508587, 2246),\n",
       " (9.050278851790821, 1030),\n",
       " (8.382583822461415, 1001),\n",
       " (7.392003507226432, 1017),\n",
       " (7.355437186238485, 1029),\n",
       " (7.23021705026837, 1600),\n",
       " (7.180576339249035, 897)]"
      ]
     },
     "execution_count": 13,
     "metadata": {},
     "output_type": "execute_result"
    }
   ],
   "source": [
    "# 회귀 모델의 계수를 높은 순서대로 정렬.\n",
    "# 계수를 (index, 회귀계수) 형태로 형성.\n",
    "a = list(enumerate(grid_search_logit.best_estimator_.coef_[0]))\n",
    "# display(a)\n",
    "\n",
    "# sorted 함수를 쓰면 첫 번째 것을 기준으로 정렬하므로 index, 계수 형태를 계수, index 형태로 바꿈.\n",
    "b = list(((value, index) for index, value in a))\n",
    "# b\n",
    "\n",
    "# Sort.\n",
    "coef_pos_index = sorted(b, reverse=True)\n",
    "coef_pos_index[:10]"
   ]
  },
  {
   "cell_type": "code",
   "execution_count": 14,
   "metadata": {},
   "outputs": [],
   "source": [
    "# 단어 번호 : 단어 형태의 딕셔너리를 생성.\n",
    "text_data_dict = {}\n",
    "\n",
    "for text, text_id in index_vectorizer.vocabulary_.items() :\n",
    "    text_data_dict[text_id] = text\n",
    "# text_data_dict"
   ]
  },
  {
   "cell_type": "code",
   "execution_count": 15,
   "metadata": {},
   "outputs": [
    {
     "data": {
      "text/plain": [
       "[(12.74320638880242, 721),\n",
       " (10.428581092118073, 2376),\n",
       " (9.697857257544149, 2388),\n",
       " (9.379390572508587, 2246),\n",
       " (9.050278851790821, 1030),\n",
       " (8.382583822461415, 1001),\n",
       " (7.392003507226432, 1017),\n",
       " (7.355437186238485, 1029),\n",
       " (7.23021705026837, 1600),\n",
       " (7.180576339249035, 897),\n",
       " (7.139324100770422, 2067),\n",
       " (6.988034519123047, 608),\n",
       " (6.761857861737602, 233),\n",
       " (6.707015232512829, 2404),\n",
       " (6.6905028934375625, 2763),\n",
       " (6.461781378251048, 2077),\n",
       " (6.440604007524958, 945),\n",
       " (6.39719815648055, 2247),\n",
       " (6.347646683874718, 635),\n",
       " (6.308341342035584, 2613)]"
      ]
     },
     "execution_count": 15,
     "metadata": {},
     "output_type": "execute_result"
    }
   ],
   "source": [
    "# 긍정 단어 상위 20개.\n",
    "coef_pos_index[:20]"
   ]
  },
  {
   "cell_type": "code",
   "execution_count": 16,
   "metadata": {},
   "outputs": [
    {
     "data": {
      "text/plain": [
       "[(-10.507350939027557, 1430),\n",
       " (-10.609948727226323, 1260),\n",
       " (-10.96235009214013, 2127),\n",
       " (-10.96235009214013, 354),\n",
       " (-11.023396334927035, 1156),\n",
       " (-11.720460207240123, 589),\n",
       " (-12.072627849889617, 2603),\n",
       " (-12.287846855257994, 470),\n",
       " (-12.420269854960706, 338),\n",
       " (-12.49523697302753, 2887),\n",
       " (-12.643995476996317, 2312),\n",
       " (-12.992796989101622, 2620),\n",
       " (-13.891257308196339, 1384),\n",
       " (-14.45348811391519, 2070),\n",
       " (-16.584182869599132, 2371),\n",
       " (-17.397696834504554, 2289),\n",
       " (-18.311700271661103, 2069),\n",
       " (-22.58170774450426, 1309),\n",
       " (-23.120194692336103, 399),\n",
       " (-27.743369619508183, 980)]"
      ]
     },
     "execution_count": 16,
     "metadata": {},
     "output_type": "execute_result"
    }
   ],
   "source": [
    "# 부정 단어 상위 20개.\n",
    "coef_pos_index[-20:]"
   ]
  },
  {
   "cell_type": "code",
   "execution_count": 17,
   "metadata": {},
   "outputs": [
    {
     "name": "stdout",
     "output_type": "stream",
     "text": [
      "(12.74320638880242, '도/Josa')\n",
      "(10.428581092118073, '좋고/Adjective')\n",
      "(9.697857257544149, '좋아요/Adjective')\n",
      "(9.379390572508587, '잘/Verb')\n",
      "(9.050278851790821, '맛있었어요/Adjective')\n",
      "(8.382583822461415, '맛있고/Adjective')\n",
      "(7.392003507226432, '맛있어요/Adjective')\n",
      "(7.355437186238485, '맛있었습니다/Adjective')\n",
      "(7.23021705026837, '시간/Noun')\n",
      "(7.180576339249035, '로/Josa')\n",
      "(7.139324100770422, '으로/Josa')\n",
      "(6.988034519123047, '다/Adverb')\n",
      "(6.761857861737602, '고기/Noun')\n",
      "(6.707015232512829, '좋았어요/Adjective')\n",
      "(6.6905028934375625, '편이/Noun')\n",
      "(6.461781378251048, '의/Josa')\n",
      "(6.440604007524958, '만족/Noun')\n",
      "(6.39719815648055, '잘/VerbPrefix')\n",
      "(6.347646683874718, '다음/Noun')\n",
      "(6.308341342035584, '최고/Noun')\n",
      "--------------------------------------------------\n",
      "(-10.507350939027557, '비해/Verb')\n",
      "(-10.609948727226323, '받지/Verb')\n",
      "(-10.96235009214013, '이었지만/Verb')\n",
      "(-10.96235009214013, '그럭저럭/Adverb')\n",
      "(-11.023396334927035, '못/VerbPrefix')\n",
      "(-11.720460207240123, '는/Josa')\n",
      "(-12.072627849889617, '체인점/Noun')\n",
      "(-12.287846855257994, '나쁘지/Adjective')\n",
      "(-12.420269854960706, '그/Determiner')\n",
      "(-12.49523697302753, '한참/Noun')\n",
      "(-12.643995476996317, '점/Noun')\n",
      "(-12.992796989101622, '추웟어/Noun')\n",
      "(-13.891257308196339, '분/Noun')\n",
      "(-14.45348811391519, '을/Josa')\n",
      "(-16.584182869599132, '종업원/Noun')\n",
      "(-17.397696834504554, '적어요/Verb')\n",
      "(-18.311700271661103, '은/Josa')\n",
      "(-22.58170774450426, '별로/Noun')\n",
      "(-23.120194692336103, '기대이하였음/Verb')\n",
      "(-27.743369619508183, '많이/Adverb')\n"
     ]
    }
   ],
   "source": [
    "# coef_pos_index 안 있는 값들 중 단어 번호를 실제 단어로 변환.\n",
    "coef_pos_text = []\n",
    "\n",
    "for value, index in coef_pos_index :\n",
    "    # index 에 해당하는 단어를 추출.\n",
    "    text = text_data_dict[index]\n",
    "    \n",
    "    # 계수와 단어의 조합으로 만들어 담기.\n",
    "    coef_pos_text.append((value, text))\n",
    "\n",
    "# 상위 20개.\n",
    "for text in coef_pos_text[:20] :\n",
    "    print(text)\n",
    "    \n",
    "# 하위 20개.\n",
    "print('-'*50)\n",
    "for text in coef_pos_text[-20:] :\n",
    "    print(text)"
   ]
  }
 ],
 "metadata": {
  "kernelspec": {
   "display_name": "Python 3",
   "language": "python",
   "name": "python3"
  },
  "language_info": {
   "codemirror_mode": {
    "name": "ipython",
    "version": 3
   },
   "file_extension": ".py",
   "mimetype": "text/x-python",
   "name": "python",
   "nbconvert_exporter": "python",
   "pygments_lexer": "ipython3",
   "version": "3.7.6"
  }
 },
 "nbformat": 4,
 "nbformat_minor": 4
}
